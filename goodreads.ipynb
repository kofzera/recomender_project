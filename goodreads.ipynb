{
 "cells": [
  {
   "cell_type": "markdown",
   "id": "141fd84d-5a9d-4581-982b-d55ba6393e24",
   "metadata": {
    "tags": []
   },
   "source": [
    "# Goodreads books recommender system"
   ]
  },
  {
   "cell_type": "code",
   "execution_count": 1,
   "id": "6d18b1c0-9216-466c-b226-64b794ee6f5e",
   "metadata": {
    "tags": []
   },
   "outputs": [],
   "source": [
    "import pandas as pd\n",
    "import numpy as np\n",
    "import seaborn as sns\n",
    "import matplotlib.pyplot as plt\n",
    "import gc\n",
    "from ast import literal_eval\n",
    "import matplotlib.ticker as ticker\n",
    "from sklearn.model_selection import train_test_split"
   ]
  },
  {
   "cell_type": "code",
   "execution_count": 2,
   "id": "b194a11b-2984-4e92-8e3d-a058037002de",
   "metadata": {
    "tags": []
   },
   "outputs": [],
   "source": [
    "books_df = pd.read_csv('books.csv',converters={\"genres\": literal_eval})\n",
    "ratings_df = pd.read_csv('ratings.csv')\n",
    "train = pd.read_csv('train.csv')\n",
    "test = pd.read_csv('test.csv')"
   ]
  },
  {
   "cell_type": "markdown",
   "id": "85b25d81-2e68-4b48-b14f-0d13fcb16c9d",
   "metadata": {},
   "source": [
    "## Books"
   ]
  },
  {
   "cell_type": "code",
   "execution_count": 3,
   "id": "47b8aac6-9770-4752-a278-efc6a0c88a90",
   "metadata": {
    "tags": []
   },
   "outputs": [
    {
     "data": {
      "text/plain": [
       "{'art',\n",
       " 'biography',\n",
       " 'books',\n",
       " 'business',\n",
       " 'chick-lit',\n",
       " 'christian',\n",
       " 'classics',\n",
       " 'comics',\n",
       " 'contemporary',\n",
       " 'cookbooks',\n",
       " 'crime',\n",
       " 'fantasy',\n",
       " 'fiction',\n",
       " 'gay-and-lesbian',\n",
       " 'graphic-novels',\n",
       " 'historical-fiction',\n",
       " 'history',\n",
       " 'horror',\n",
       " 'humor-and-comedy',\n",
       " 'manga',\n",
       " 'memoir',\n",
       " 'music',\n",
       " 'mystery',\n",
       " 'nonfiction',\n",
       " 'paranormal',\n",
       " 'philosophy',\n",
       " 'poetry',\n",
       " 'psychology',\n",
       " 'religion',\n",
       " 'romance',\n",
       " 'science',\n",
       " 'science-fiction',\n",
       " 'self-help',\n",
       " 'spirituality',\n",
       " 'sports',\n",
       " 'suspense',\n",
       " 'thriller',\n",
       " 'travel',\n",
       " 'young-adult'}"
      ]
     },
     "execution_count": 3,
     "metadata": {},
     "output_type": "execute_result"
    }
   ],
   "source": [
    "genres = set(books_df[\"genres\"].explode())\n",
    "genres"
   ]
  },
  {
   "cell_type": "code",
   "execution_count": 4,
   "id": "a2af7a7d-9e07-4e2b-a3ef-4eec510add38",
   "metadata": {
    "tags": []
   },
   "outputs": [
    {
     "name": "stdout",
     "output_type": "stream",
     "text": [
      "<class 'pandas.core.frame.DataFrame'>\n",
      "RangeIndex: 9185 entries, 0 to 9184\n",
      "Data columns (total 22 columns):\n",
      " #   Column                     Non-Null Count  Dtype  \n",
      "---  ------                     --------------  -----  \n",
      " 0   authors                    9185 non-null   object \n",
      " 1   average_rating             9185 non-null   float64\n",
      " 2   book_id                    9185 non-null   int64  \n",
      " 3   books_count                9185 non-null   int64  \n",
      " 4   genres                     9185 non-null   object \n",
      " 5   isbn                       8603 non-null   object \n",
      " 6   isbn13                     8687 non-null   float64\n",
      " 7   language_code              9185 non-null   object \n",
      " 8   original_publication_year  9172 non-null   float64\n",
      " 9   original_title             8687 non-null   object \n",
      " 10  pages                      9133 non-null   float64\n",
      " 11  publishDate                9178 non-null   object \n",
      " 12  ratings_1                  9185 non-null   int64  \n",
      " 13  ratings_2                  9185 non-null   int64  \n",
      " 14  ratings_3                  9185 non-null   int64  \n",
      " 15  ratings_4                  9185 non-null   int64  \n",
      " 16  ratings_5                  9185 non-null   int64  \n",
      " 17  ratings_count              9185 non-null   int64  \n",
      " 18  title                      9185 non-null   object \n",
      " 19  work_id                    9185 non-null   int64  \n",
      " 20  work_ratings_count         9185 non-null   int64  \n",
      " 21  work_text_reviews_count    9185 non-null   int64  \n",
      "dtypes: float64(4), int64(11), object(7)\n",
      "memory usage: 1.5+ MB\n"
     ]
    }
   ],
   "source": [
    "books_df.info()"
   ]
  },
  {
   "cell_type": "code",
   "execution_count": null,
   "id": "c43b1bce-0e0c-4535-9e42-b555ce958e29",
   "metadata": {
    "tags": []
   },
   "outputs": [],
   "source": [
    "# most rated books\n",
    "books_df.sort_values('ratings_count', ascending = False)[[\"title\",\"authors\",\"average_rating\", \"ratings_count\"]].iloc[0:20]"
   ]
  },
  {
   "cell_type": "code",
   "execution_count": null,
   "id": "ef660135-07ad-4034-ac62-1aab93d1e9df",
   "metadata": {
    "tags": []
   },
   "outputs": [],
   "source": [
    "# authors of top 100 rated books\n",
    "top_100 = books_df.sort_values(['average_rating'], ascending = False).iloc[0:100,:]\n",
    "\n",
    "# transform authors to list and get top 15 authors that appear in top 100 books\n",
    "authors_top_100 = pd.Series([x for item in top_100['authors'] for x in item]).value_counts().to_frame('counts').reset_index()\n",
    "authors_top_100 = authors_top_100.iloc[0:15,:]"
   ]
  },
  {
   "cell_type": "code",
   "execution_count": null,
   "id": "d8d5a77e-a624-4d54-8d73-df31f9dd800b",
   "metadata": {
    "tags": []
   },
   "outputs": [],
   "source": [
    "sns.set_style('darkgrid')\n",
    "sns.set_palette('cividis')"
   ]
  },
  {
   "cell_type": "code",
   "execution_count": null,
   "id": "7ca4912d-d6b8-4662-838a-3133402f19f1",
   "metadata": {
    "tags": []
   },
   "outputs": [],
   "source": [
    "ax = sns.histplot(data=books_df, x=\"average_rating\", bins=20)\n",
    "ax.set_title(\"Distribution of Book Ratings\")\n",
    "ax.set_xlabel(\"Average Rating\")\n",
    "ax.set_ylabel(\"Number of books\")\n",
    "plt.show()"
   ]
  },
  {
   "cell_type": "code",
   "execution_count": null,
   "id": "0ad7f10f-55cf-4e2c-854f-452bc7e59c81",
   "metadata": {
    "tags": []
   },
   "outputs": [],
   "source": [
    "temp_books = pd.DataFrame()\n",
    "temp_books[\"ratings_count_log\"]=np.log(books_df.ratings_count)\n",
    "ax = sns.histplot(data = temp_books, x = \"ratings_count_log\")\n",
    "ax.set_title(\"Distribution of Book Ratings Count\")\n",
    "ax.set_xlabel(\"Log of number of ratings\")\n",
    "ax.set_ylabel(\"NUmber of books\")\n",
    "sns.despine()\n",
    "plt.show()"
   ]
  },
  {
   "cell_type": "code",
   "execution_count": null,
   "id": "17d50fcc-7299-4f5f-bd8b-b00c63164a90",
   "metadata": {
    "tags": []
   },
   "outputs": [],
   "source": [
    "ax = sns.scatterplot(data = books_df, x = \"ratings_count\", y = \"average_rating\")\n",
    "ax.set(xlim=(0, 1000000))\n",
    "ax.set_title(\"Scatterplot of average book rating vs number of ratings\")\n",
    "ax.set_xlabel(\"Number of ratings\")\n",
    "ax.set_ylabel(\"Rating\")\n",
    "ax.xaxis.set_major_formatter(ticker.FuncFormatter(lambda x, pos: f'{(x/1000000)}M'))\n",
    "sns.regplot(data=books_df, x=\"ratings_count\", y=\"average_rating\", scatter=False, color='r')"
   ]
  },
  {
   "cell_type": "code",
   "execution_count": null,
   "id": "717f09a0-a582-49ae-bf22-76fa15176a02",
   "metadata": {
    "tags": []
   },
   "outputs": [],
   "source": [
    "columns_to_plot = ['average_rating', 'ratings_count']\n",
    "fig, axes = plt.subplots(ncols=len(columns_to_plot))\n",
    "for column, axis in zip(columns_to_plot, axes):\n",
    "    if column == 'ratings_count':\n",
    "        sns.boxplot(data=books_df[column], ax=axis).set(ylim=(0, 100000))\n",
    "        axis.set_title('Number of ratings')\n",
    "    else:\n",
    "        sns.boxplot(data=books_df[column], ax=axis)\n",
    "        axis.set_title('Average rating')\n",
    "plt.tight_layout()\n",
    "plt.show()"
   ]
  },
  {
   "cell_type": "markdown",
   "id": "3d973a5d-b3eb-4ff6-b54d-8a17be6697d0",
   "metadata": {
    "tags": []
   },
   "source": [
    "## Ratings"
   ]
  },
  {
   "cell_type": "code",
   "execution_count": null,
   "id": "8443ee49-3eaa-406f-8df3-3389e56b06ac",
   "metadata": {
    "tags": []
   },
   "outputs": [],
   "source": [
    "ratings_df.head()"
   ]
  },
  {
   "cell_type": "code",
   "execution_count": null,
   "id": "a782d182-bf30-4bf4-9443-87648f6835d9",
   "metadata": {
    "tags": []
   },
   "outputs": [],
   "source": [
    "ratings_df.info()"
   ]
  },
  {
   "cell_type": "code",
   "execution_count": null,
   "id": "e0f3185f-9bc6-48fe-aa06-718521bc6301",
   "metadata": {
    "tags": []
   },
   "outputs": [],
   "source": [
    "len(ratings_df[\"book_id\"].unique())"
   ]
  },
  {
   "cell_type": "code",
   "execution_count": null,
   "id": "e379a53e-3826-4829-a422-2d1bf360f81b",
   "metadata": {
    "tags": []
   },
   "outputs": [],
   "source": [
    "ratings_df[[\"rating\"]].describe()"
   ]
  },
  {
   "cell_type": "code",
   "execution_count": null,
   "id": "a9760dde-520f-4432-b726-7319c6b0626c",
   "metadata": {
    "tags": []
   },
   "outputs": [],
   "source": [
    "ratings_df.groupby('user_id')['book_id'].count().head()"
   ]
  },
  {
   "cell_type": "code",
   "execution_count": null,
   "id": "73478d88-bee9-437d-9a0e-55af24f1b0c9",
   "metadata": {
    "tags": []
   },
   "outputs": [],
   "source": [
    "ax = sns.boxplot(y=ratings_df.groupby('user_id')['book_id'].count(), orient=\"v\")\n",
    "ax.set_ylim(0, 100)\n",
    "ax.set_ylabel(\"Number of ratings\")\n",
    "ax.set_title(\"Number of ratings by user\")"
   ]
  },
  {
   "cell_type": "markdown",
   "id": "3b9ec29b-838b-4ba1-8e70-6f4f3e3dcd5b",
   "metadata": {},
   "source": [
    "## Naive Baseline"
   ]
  },
  {
   "cell_type": "code",
   "execution_count": null,
   "id": "010c963e-6dd7-4b38-ac71-72a60cd5a668",
   "metadata": {
    "tags": []
   },
   "outputs": [],
   "source": [
    "import math\n",
    "\n",
    "mean = train.groupby('book_id').mean()\n",
    "id_score_dict = mean['rating'].to_dict()\n",
    "\n",
    "sum = 0\n",
    "n = 0\n",
    "for index, row in test.iterrows():\n",
    "    id = row['book_id']\n",
    "    if id in id_score_dict:\n",
    "        sum += (row['rating'] - id_score_dict[id])**2\n",
    "        n += 1\n",
    "\n",
    "math.sqrt(sum/n)"
   ]
  },
  {
   "cell_type": "markdown",
   "id": "fe2e320b-4d69-4176-97ee-2293e66725f5",
   "metadata": {},
   "source": [
    "## Collaborative filtering"
   ]
  },
  {
   "cell_type": "code",
   "execution_count": null,
   "id": "60ca7679-33d1-4b56-be39-a9f59be7cf38",
   "metadata": {},
   "outputs": [
    {
     "data": {
      "text/plain": [
       "9185"
      ]
     },
     "execution_count": 5,
     "metadata": {},
     "output_type": "execute_result"
    }
   ],
   "source": [
    "len(books_df)"
   ]
  },
  {
   "cell_type": "code",
   "execution_count": 6,
   "id": "6c22c575-f8ae-4a18-9983-7d94c1a8add9",
   "metadata": {
    "tags": []
   },
   "outputs": [
    {
     "data": {
      "text/plain": [
       "54440"
      ]
     },
     "execution_count": 6,
     "metadata": {},
     "output_type": "execute_result"
    }
   ],
   "source": [
    "len(train[\"user_id\"].unique())"
   ]
  },
  {
   "cell_type": "code",
   "execution_count": 8,
   "id": "871bb7a8-2bac-402f-8816-f65f874c391d",
   "metadata": {
    "tags": []
   },
   "outputs": [],
   "source": [
    "book_review_df = books_df.merge(test, on='book_id')\n",
    "book_users_df = book_review_df.groupby('book_id')['user_id'].apply(list).reset_index(name='user_ids')"
   ]
  },
  {
   "cell_type": "code",
   "execution_count": 9,
   "id": "5afecddc-b7e8-44e3-9179-4ffdd3fd6527",
   "metadata": {
    "tags": []
   },
   "outputs": [
    {
     "data": {
      "text/html": [
       "<div>\n",
       "<style scoped>\n",
       "    .dataframe tbody tr th:only-of-type {\n",
       "        vertical-align: middle;\n",
       "    }\n",
       "\n",
       "    .dataframe tbody tr th {\n",
       "        vertical-align: top;\n",
       "    }\n",
       "\n",
       "    .dataframe thead th {\n",
       "        text-align: right;\n",
       "    }\n",
       "</style>\n",
       "<table border=\"1\" class=\"dataframe\">\n",
       "  <thead>\n",
       "    <tr style=\"text-align: right;\">\n",
       "      <th></th>\n",
       "      <th>book_id</th>\n",
       "      <th>user_ids</th>\n",
       "    </tr>\n",
       "  </thead>\n",
       "  <tbody>\n",
       "    <tr>\n",
       "      <th>0</th>\n",
       "      <td>1</td>\n",
       "      <td>[e5645006eb9dc54b37c742ec842e3ec9, ad238a3aaea...</td>\n",
       "    </tr>\n",
       "    <tr>\n",
       "      <th>1</th>\n",
       "      <td>2</td>\n",
       "      <td>[5a152597df16e2b9d387a767480af601, d8755cbb00e...</td>\n",
       "    </tr>\n",
       "    <tr>\n",
       "      <th>2</th>\n",
       "      <td>3</td>\n",
       "      <td>[e2f930d586b780501ef795e8593be700, 74d655d91b6...</td>\n",
       "    </tr>\n",
       "    <tr>\n",
       "      <th>3</th>\n",
       "      <td>5</td>\n",
       "      <td>[eef49e1e3c6233e9d86fd10ff4700b83, 9453d59ff8e...</td>\n",
       "    </tr>\n",
       "    <tr>\n",
       "      <th>4</th>\n",
       "      <td>6</td>\n",
       "      <td>[5a152597df16e2b9d387a767480af601, ad238a3aaea...</td>\n",
       "    </tr>\n",
       "    <tr>\n",
       "      <th>...</th>\n",
       "      <td>...</td>\n",
       "      <td>...</td>\n",
       "    </tr>\n",
       "    <tr>\n",
       "      <th>9174</th>\n",
       "      <td>31538635</td>\n",
       "      <td>[12707977a55df3ec3deaf86e874fe3ad, b130d74091d...</td>\n",
       "    </tr>\n",
       "    <tr>\n",
       "      <th>9175</th>\n",
       "      <td>31538647</td>\n",
       "      <td>[b130d74091d1340b1fa44c6f48c4b0d6, 79a62a7cf08...</td>\n",
       "    </tr>\n",
       "    <tr>\n",
       "      <th>9176</th>\n",
       "      <td>31845516</td>\n",
       "      <td>[d67d2ed6c7a0260e50dca7052af5f0ff, 3d1b305a2b9...</td>\n",
       "    </tr>\n",
       "    <tr>\n",
       "      <th>9177</th>\n",
       "      <td>32075671</td>\n",
       "      <td>[eb8c4639c4271c719b9e8bb9241fb2d3, 2b8eb89cb40...</td>\n",
       "    </tr>\n",
       "    <tr>\n",
       "      <th>9178</th>\n",
       "      <td>33288638</td>\n",
       "      <td>[fef1d6e9f90751bcce2576231e88e44c, 46b89e92526...</td>\n",
       "    </tr>\n",
       "  </tbody>\n",
       "</table>\n",
       "<p>9179 rows × 2 columns</p>\n",
       "</div>"
      ],
      "text/plain": [
       "       book_id                                           user_ids\n",
       "0            1  [e5645006eb9dc54b37c742ec842e3ec9, ad238a3aaea...\n",
       "1            2  [5a152597df16e2b9d387a767480af601, d8755cbb00e...\n",
       "2            3  [e2f930d586b780501ef795e8593be700, 74d655d91b6...\n",
       "3            5  [eef49e1e3c6233e9d86fd10ff4700b83, 9453d59ff8e...\n",
       "4            6  [5a152597df16e2b9d387a767480af601, ad238a3aaea...\n",
       "...        ...                                                ...\n",
       "9174  31538635  [12707977a55df3ec3deaf86e874fe3ad, b130d74091d...\n",
       "9175  31538647  [b130d74091d1340b1fa44c6f48c4b0d6, 79a62a7cf08...\n",
       "9176  31845516  [d67d2ed6c7a0260e50dca7052af5f0ff, 3d1b305a2b9...\n",
       "9177  32075671  [eb8c4639c4271c719b9e8bb9241fb2d3, 2b8eb89cb40...\n",
       "9178  33288638  [fef1d6e9f90751bcce2576231e88e44c, 46b89e92526...\n",
       "\n",
       "[9179 rows x 2 columns]"
      ]
     },
     "execution_count": 9,
     "metadata": {},
     "output_type": "execute_result"
    }
   ],
   "source": [
    "book_users_df"
   ]
  },
  {
   "cell_type": "code",
   "execution_count": 12,
   "id": "8eb70385-00ce-46d6-a700-1492f49a1f1c",
   "metadata": {
    "tags": []
   },
   "outputs": [
    {
     "ename": "TypeError",
     "evalue": "unhashable type: 'list'",
     "output_type": "error",
     "traceback": [
      "\u001b[0;31m---------------------------------------------------------------------------\u001b[0m",
      "\u001b[0;31mTypeError\u001b[0m                                 Traceback (most recent call last)",
      "Cell \u001b[0;32mIn[12], line 1\u001b[0m\n\u001b[0;32m----> 1\u001b[0m \u001b[43mtest\u001b[49m\u001b[38;5;241;43m.\u001b[39;49m\u001b[43mloc\u001b[49m\u001b[43m(\u001b[49m\u001b[43m[\u001b[49m\u001b[38;5;241;43m0\u001b[39;49m\u001b[43m,\u001b[49m\u001b[38;5;241;43m1\u001b[39;49m\u001b[43m]\u001b[49m\u001b[43m)\u001b[49m\n",
      "File \u001b[0;32m~/.local/lib/python3.8/site-packages/pandas/core/indexing.py:634\u001b[0m, in \u001b[0;36m_LocationIndexer.__call__\u001b[0;34m(self, axis)\u001b[0m\n\u001b[1;32m    631\u001b[0m new_self \u001b[38;5;241m=\u001b[39m \u001b[38;5;28mtype\u001b[39m(\u001b[38;5;28mself\u001b[39m)(\u001b[38;5;28mself\u001b[39m\u001b[38;5;241m.\u001b[39mname, \u001b[38;5;28mself\u001b[39m\u001b[38;5;241m.\u001b[39mobj)\n\u001b[1;32m    633\u001b[0m \u001b[38;5;28;01mif\u001b[39;00m axis \u001b[38;5;129;01mis\u001b[39;00m \u001b[38;5;129;01mnot\u001b[39;00m \u001b[38;5;28;01mNone\u001b[39;00m:\n\u001b[0;32m--> 634\u001b[0m     axis \u001b[38;5;241m=\u001b[39m \u001b[38;5;28;43mself\u001b[39;49m\u001b[38;5;241;43m.\u001b[39;49m\u001b[43mobj\u001b[49m\u001b[38;5;241;43m.\u001b[39;49m\u001b[43m_get_axis_number\u001b[49m\u001b[43m(\u001b[49m\u001b[43maxis\u001b[49m\u001b[43m)\u001b[49m\n\u001b[1;32m    635\u001b[0m new_self\u001b[38;5;241m.\u001b[39maxis \u001b[38;5;241m=\u001b[39m axis\n\u001b[1;32m    636\u001b[0m \u001b[38;5;28;01mreturn\u001b[39;00m new_self\n",
      "File \u001b[0;32m~/.local/lib/python3.8/site-packages/pandas/core/generic.py:550\u001b[0m, in \u001b[0;36mNDFrame._get_axis_number\u001b[0;34m(cls, axis)\u001b[0m\n\u001b[1;32m    546\u001b[0m \u001b[38;5;129m@final\u001b[39m\n\u001b[1;32m    547\u001b[0m \u001b[38;5;129m@classmethod\u001b[39m\n\u001b[1;32m    548\u001b[0m \u001b[38;5;28;01mdef\u001b[39;00m \u001b[38;5;21m_get_axis_number\u001b[39m(\u001b[38;5;28mcls\u001b[39m, axis: Axis) \u001b[38;5;241m-\u001b[39m\u001b[38;5;241m>\u001b[39m \u001b[38;5;28mint\u001b[39m:\n\u001b[1;32m    549\u001b[0m     \u001b[38;5;28;01mtry\u001b[39;00m:\n\u001b[0;32m--> 550\u001b[0m         \u001b[38;5;28;01mreturn\u001b[39;00m \u001b[38;5;28;43mcls\u001b[39;49m\u001b[38;5;241;43m.\u001b[39;49m\u001b[43m_AXIS_TO_AXIS_NUMBER\u001b[49m\u001b[43m[\u001b[49m\u001b[43maxis\u001b[49m\u001b[43m]\u001b[49m\n\u001b[1;32m    551\u001b[0m     \u001b[38;5;28;01mexcept\u001b[39;00m \u001b[38;5;167;01mKeyError\u001b[39;00m:\n\u001b[1;32m    552\u001b[0m         \u001b[38;5;28;01mraise\u001b[39;00m \u001b[38;5;167;01mValueError\u001b[39;00m(\u001b[38;5;124mf\u001b[39m\u001b[38;5;124m\"\u001b[39m\u001b[38;5;124mNo axis named \u001b[39m\u001b[38;5;132;01m{\u001b[39;00maxis\u001b[38;5;132;01m}\u001b[39;00m\u001b[38;5;124m for object type \u001b[39m\u001b[38;5;132;01m{\u001b[39;00m\u001b[38;5;28mcls\u001b[39m\u001b[38;5;241m.\u001b[39m\u001b[38;5;18m__name__\u001b[39m\u001b[38;5;132;01m}\u001b[39;00m\u001b[38;5;124m\"\u001b[39m)\n",
      "\u001b[0;31mTypeError\u001b[0m: unhashable type: 'list'"
     ]
    }
   ],
   "source": [
    "test.loc([0,1])"
   ]
  },
  {
   "cell_type": "code",
   "execution_count": null,
   "id": "804fca35-6a64-4b39-b177-4572a9989d8f",
   "metadata": {},
   "outputs": [],
   "source": []
  }
 ],
 "metadata": {
  "kernelspec": {
   "display_name": "Python 3 (ipykernel)",
   "language": "python",
   "name": "python3"
  },
  "language_info": {
   "codemirror_mode": {
    "name": "ipython",
    "version": 3
   },
   "file_extension": ".py",
   "mimetype": "text/x-python",
   "name": "python",
   "nbconvert_exporter": "python",
   "pygments_lexer": "ipython3",
   "version": "3.8.10"
  }
 },
 "nbformat": 4,
 "nbformat_minor": 5
}
