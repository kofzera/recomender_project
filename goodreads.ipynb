{
 "cells": [
  {
   "cell_type": "markdown",
   "id": "141fd84d-5a9d-4581-982b-d55ba6393e24",
   "metadata": {
    "tags": []
   },
   "source": [
    "# Goodreads books recommender system"
   ]
  },
  {
   "cell_type": "code",
   "execution_count": 1,
   "id": "6d18b1c0-9216-466c-b226-64b794ee6f5e",
   "metadata": {
    "tags": []
   },
   "outputs": [],
   "source": [
    "import pandas as pd\n",
    "import numpy as np\n",
    "import seaborn as sns\n",
    "import matplotlib.pyplot as plt\n",
    "import gc\n",
    "from ast import literal_eval\n",
    "import matplotlib.ticker as ticker\n",
    "from sklearn.model_selection import train_test_split\n",
    "import math\n",
    "from scipy.stats import pearsonr\n"
   ]
  },
  {
   "cell_type": "code",
   "execution_count": 2,
   "id": "b194a11b-2984-4e92-8e3d-a058037002de",
   "metadata": {
    "tags": []
   },
   "outputs": [],
   "source": [
    "books_df = pd.read_csv('books.csv',converters={\"genres\": literal_eval})\n",
    "ratings_df = pd.read_csv('ratings.csv')\n",
    "train = pd.read_csv('train.csv')\n",
    "test = pd.read_csv('test.csv')"
   ]
  },
  {
   "cell_type": "markdown",
   "id": "85b25d81-2e68-4b48-b14f-0d13fcb16c9d",
   "metadata": {},
   "source": [
    "## Books"
   ]
  },
  {
   "cell_type": "code",
   "execution_count": null,
   "id": "47b8aac6-9770-4752-a278-efc6a0c88a90",
   "metadata": {
    "tags": []
   },
   "outputs": [],
   "source": [
    "genres = set(books_df[\"genres\"].explode())\n",
    "genres"
   ]
  },
  {
   "cell_type": "code",
   "execution_count": null,
   "id": "a2af7a7d-9e07-4e2b-a3ef-4eec510add38",
   "metadata": {
    "tags": []
   },
   "outputs": [],
   "source": [
    "books_df.info()"
   ]
  },
  {
   "cell_type": "code",
   "execution_count": null,
   "id": "c43b1bce-0e0c-4535-9e42-b555ce958e29",
   "metadata": {
    "tags": []
   },
   "outputs": [],
   "source": [
    "# most rated books\n",
    "books_df.sort_values('ratings_count', ascending = False)[[\"title\",\"authors\",\"average_rating\", \"ratings_count\"]].iloc[0:20]"
   ]
  },
  {
   "cell_type": "code",
   "execution_count": null,
   "id": "ef660135-07ad-4034-ac62-1aab93d1e9df",
   "metadata": {
    "tags": []
   },
   "outputs": [],
   "source": [
    "# authors of top 100 rated books\n",
    "top_100 = books_df.sort_values(['average_rating'], ascending = False).iloc[0:100,:]\n",
    "\n",
    "# transform authors to list and get top 15 authors that appear in top 100 books\n",
    "authors_top_100 = pd.Series([x for item in top_100['authors'] for x in item]).value_counts().to_frame('counts').reset_index()\n",
    "authors_top_100 = authors_top_100.iloc[0:15,:]"
   ]
  },
  {
   "cell_type": "code",
   "execution_count": null,
   "id": "d8d5a77e-a624-4d54-8d73-df31f9dd800b",
   "metadata": {
    "tags": []
   },
   "outputs": [],
   "source": [
    "sns.set_style('darkgrid')\n",
    "sns.set_palette('cividis')"
   ]
  },
  {
   "cell_type": "code",
   "execution_count": null,
   "id": "7ca4912d-d6b8-4662-838a-3133402f19f1",
   "metadata": {
    "tags": []
   },
   "outputs": [],
   "source": [
    "ax = sns.histplot(data=books_df, x=\"average_rating\", bins=20)\n",
    "ax.set_title(\"Distribution of Book Ratings\")\n",
    "ax.set_xlabel(\"Average Rating\")\n",
    "ax.set_ylabel(\"Number of books\")\n",
    "plt.show()"
   ]
  },
  {
   "cell_type": "code",
   "execution_count": null,
   "id": "0ad7f10f-55cf-4e2c-854f-452bc7e59c81",
   "metadata": {
    "tags": []
   },
   "outputs": [],
   "source": [
    "temp_books = pd.DataFrame()\n",
    "temp_books[\"ratings_count_log\"]=np.log(books_df.ratings_count)\n",
    "ax = sns.histplot(data = temp_books, x = \"ratings_count_log\")\n",
    "ax.set_title(\"Distribution of Book Ratings Count\")\n",
    "ax.set_xlabel(\"Log of number of ratings\")\n",
    "ax.set_ylabel(\"NUmber of books\")\n",
    "sns.despine()\n",
    "plt.show()"
   ]
  },
  {
   "cell_type": "code",
   "execution_count": null,
   "id": "17d50fcc-7299-4f5f-bd8b-b00c63164a90",
   "metadata": {
    "tags": []
   },
   "outputs": [],
   "source": [
    "ax = sns.scatterplot(data = books_df, x = \"ratings_count\", y = \"average_rating\")\n",
    "ax.set(xlim=(0, 1000000))\n",
    "ax.set_title(\"Scatterplot of average book rating vs number of ratings\")\n",
    "ax.set_xlabel(\"Number of ratings\")\n",
    "ax.set_ylabel(\"Rating\")\n",
    "ax.xaxis.set_major_formatter(ticker.FuncFormatter(lambda x, pos: f'{(x/1000000)}M'))\n",
    "sns.regplot(data=books_df, x=\"ratings_count\", y=\"average_rating\", scatter=False, color='r')"
   ]
  },
  {
   "cell_type": "code",
   "execution_count": null,
   "id": "717f09a0-a582-49ae-bf22-76fa15176a02",
   "metadata": {
    "tags": []
   },
   "outputs": [],
   "source": [
    "columns_to_plot = ['average_rating', 'ratings_count']\n",
    "fig, axes = plt.subplots(ncols=len(columns_to_plot))\n",
    "for column, axis in zip(columns_to_plot, axes):\n",
    "    if column == 'ratings_count':\n",
    "        sns.boxplot(data=books_df[column], ax=axis).set(ylim=(0, 100000))\n",
    "        axis.set_title('Number of ratings')\n",
    "    else:\n",
    "        sns.boxplot(data=books_df[column], ax=axis)\n",
    "        axis.set_title('Average rating')\n",
    "plt.tight_layout()\n",
    "plt.show()"
   ]
  },
  {
   "cell_type": "markdown",
   "id": "3d973a5d-b3eb-4ff6-b54d-8a17be6697d0",
   "metadata": {
    "tags": []
   },
   "source": [
    "## Ratings"
   ]
  },
  {
   "cell_type": "code",
   "execution_count": null,
   "id": "8443ee49-3eaa-406f-8df3-3389e56b06ac",
   "metadata": {
    "tags": []
   },
   "outputs": [],
   "source": [
    "ratings_df.head()"
   ]
  },
  {
   "cell_type": "code",
   "execution_count": null,
   "id": "a782d182-bf30-4bf4-9443-87648f6835d9",
   "metadata": {
    "tags": []
   },
   "outputs": [],
   "source": [
    "ratings_df.info()"
   ]
  },
  {
   "cell_type": "code",
   "execution_count": null,
   "id": "e0f3185f-9bc6-48fe-aa06-718521bc6301",
   "metadata": {
    "tags": []
   },
   "outputs": [],
   "source": [
    "len(ratings_df[\"book_id\"].unique())"
   ]
  },
  {
   "cell_type": "code",
   "execution_count": null,
   "id": "e379a53e-3826-4829-a422-2d1bf360f81b",
   "metadata": {
    "tags": []
   },
   "outputs": [],
   "source": [
    "ratings_df[[\"rating\"]].describe()"
   ]
  },
  {
   "cell_type": "code",
   "execution_count": null,
   "id": "a9760dde-520f-4432-b726-7319c6b0626c",
   "metadata": {
    "tags": []
   },
   "outputs": [],
   "source": [
    "ratings_df.groupby('user_id')['book_id'].count().head()"
   ]
  },
  {
   "cell_type": "code",
   "execution_count": null,
   "id": "73478d88-bee9-437d-9a0e-55af24f1b0c9",
   "metadata": {
    "tags": []
   },
   "outputs": [],
   "source": [
    "ax = sns.boxplot(y=ratings_df.groupby('user_id')['book_id'].count(), orient=\"v\")\n",
    "ax.set_ylim(0, 100)\n",
    "ax.set_ylabel(\"Number of ratings\")\n",
    "ax.set_title(\"Number of ratings by user\")"
   ]
  },
  {
   "cell_type": "markdown",
   "id": "3b9ec29b-838b-4ba1-8e70-6f4f3e3dcd5b",
   "metadata": {},
   "source": [
    "## Naive Baseline"
   ]
  },
  {
   "cell_type": "code",
   "execution_count": 8,
   "id": "010c963e-6dd7-4b38-ac71-72a60cd5a668",
   "metadata": {
    "tags": []
   },
   "outputs": [
    {
     "data": {
      "text/plain": [
       "1.1846826946244475"
      ]
     },
     "execution_count": 8,
     "metadata": {},
     "output_type": "execute_result"
    }
   ],
   "source": [
    "import math\n",
    "\n",
    "mean = train.groupby('book_id').mean()\n",
    "id_score_dict = mean['rating'].to_dict()\n",
    "\n",
    "sum = 0\n",
    "n = 0\n",
    "for index, row in test.iterrows():\n",
    "    id = row['book_id']\n",
    "    sum += (row['rating'] - id_score_dict[id])**2\n",
    "    n += 1\n",
    "\n",
    "math.sqrt(sum/n)"
   ]
  },
  {
   "cell_type": "markdown",
   "id": "702aed82-cbe8-469e-a926-bc3717d10fe0",
   "metadata": {},
   "source": [
    "RMSE=1.184"
   ]
  },
  {
   "cell_type": "markdown",
   "id": "fe2e320b-4d69-4176-97ee-2293e66725f5",
   "metadata": {},
   "source": [
    "## Collaborative filtering\n",
    "\n",
    "We can use the p-value to determine better the similarity between the users.\n",
    "\n",
    "[4,4], [4,4] has larger similarity than [4,4,4,3,3,4,5], [4,5,4,3,3,4,5], but the second is more preferable.\n",
    "\n",
    "It is slow as it can be, and i does not work well (:"
   ]
  },
  {
   "cell_type": "code",
   "execution_count": 4,
   "id": "a078b11d-d462-4426-af2a-69f3f34b5adf",
   "metadata": {
    "tags": []
   },
   "outputs": [],
   "source": [
    "# dictionary from books to list of users which rated the given book\n",
    "book_user_dict = {}\n",
    "grouped_data = train.groupby('book_id')\n",
    "for book_id, group in grouped_data:\n",
    "    user_generator = (x for x in group['user_id'])\n",
    "    book_user_dict[book_id] = list(user_generator)\n",
    "    \n",
    "# dictionary from users to dictionary of books to rating given by the user\n",
    "user_book_rating_dict = {}\n",
    "grouped_data = train.groupby('user_id')\n",
    "for user_id, group in grouped_data:\n",
    "    book_rating_dict = {book_id: rating for book_id, rating in zip(group['book_id'], group['rating'])}\n",
    "    user_book_rating_dict[user_id] = book_rating_dict"
   ]
  },
  {
   "cell_type": "code",
   "execution_count": 112,
   "id": "d385499d-ba70-4faa-9ab5-c33b693f31a9",
   "metadata": {
    "tags": []
   },
   "outputs": [],
   "source": [
    "number_of_books_required = 10\n",
    "k_neighbours = 10\n",
    "corr_threshold = 0.1\n",
    "r2 = False\n",
    "\n",
    "def user_similarity(r1, r2):\n",
    "    vals1, vals2 = [], []\n",
    "    for key in r1:\n",
    "        if key in r2:\n",
    "            vals1.append(r1[key])\n",
    "            vals2.append(r2[key])\n",
    "    if len(vals1) < number_of_books_required:\n",
    "        return None\n",
    "    corr, _= pearsonr(vals1, vals2)\n",
    "    if corr < corr_threshold:\n",
    "        return None\n",
    "    return corr\n",
    "\n",
    "def predict(user_id, book_id):\n",
    "    similarities = []\n",
    "    for user_id2 in book_user_dict[book_id]:\n",
    "        similarity = user_similarity(user_book_rating_dict[user_id], user_book_rating_dict[user_id2])\n",
    "        if similarity == None or np.isnan(similarity):\n",
    "            continue\n",
    "        similarities.append((similarity, user_book_rating_dict[user_id2][book_id]))\n",
    "    if len(similarities) < k_neighbours:\n",
    "        return id_score_dict[book_id]\n",
    "    similarities = sorted(similarities, key=lambda x: x[0])\n",
    "    summ = 0\n",
    "    weights = 0\n",
    "    for i in range(k_neighbours):\n",
    "        sim = similarities[i][0]\n",
    "        if r2:\n",
    "            sim = sim * sim\n",
    "        summ += similarities[i][1] * sim\n",
    "        weights += sim\n",
    "    \n",
    "    return summ / weights"
   ]
  },
  {
   "cell_type": "code",
   "execution_count": 114,
   "id": "e01a3e03-349b-4327-9c20-627ccb2b8981",
   "metadata": {
    "tags": []
   },
   "outputs": [
    {
     "name": "stdout",
     "output_type": "stream",
     "text": [
      "1.1844659834328997\n",
      "1.2209770534282907\n",
      "1.1966747158474076\n",
      "1.2007794280863233\n",
      "1.2033019700471452\n",
      "1.1993663294899979\n",
      "1.1964774317255416\n",
      "1.2043393867054888\n",
      "1.210265230214759\n",
      "1.2097654493151695\n",
      "1.2013639814443906\n",
      "1.1998265940697048\n",
      "1.202164435333428\n",
      "1.2004460176013012\n",
      "1.2064433997049357\n",
      "1.206302719429371\n",
      "1.2084119910072084\n",
      "1.2089400343113494\n",
      "1.2099390027278794\n",
      "1.213548300731373\n",
      "1.2156494331408008\n",
      "1.217626946623452\n",
      "1.2160935324104336\n",
      "1.2167258603734332\n",
      "1.2188832348413967\n",
      "1.2184750631289205\n",
      "1.2215819970956714\n",
      "1.2226889951509234\n",
      "1.2205524217156556\n",
      "1.2197440276908804\n",
      "1.2189051284317745\n",
      "1.217233600292917\n",
      "1.215883034203377\n",
      "1.2147890519063143\n",
      "1.2153738472563924\n",
      "1.214020555094872\n",
      "1.2126514947189044\n",
      "1.212299836653791\n",
      "1.2117762612853296\n",
      "1.2108433556385745\n",
      "1.2106922105983249\n",
      "1.2096367330017785\n",
      "1.2085548787604556\n",
      "1.2073138469111673\n",
      "1.2064667346274727\n",
      "1.205592972268254\n",
      "1.2048633515573899\n",
      "1.205355606553403\n",
      "1.205070454051272\n",
      "1.2037280811190518\n",
      "1.2032045980404822\n",
      "1.2023025249279307\n",
      "1.2019755598778357\n",
      "1.2016305946790493\n",
      "1.2011609353364605\n",
      "1.201085617345128\n",
      "1.2005700622671982\n",
      "1.1995397810706834\n",
      "1.1991292943859913\n",
      "1.1988476427122128\n",
      "1.2000362588600708\n",
      "1.199839762724839\n",
      "1.1996748176175562\n",
      "CPU times: user 1h 20min 52s, sys: 1.55 s, total: 1h 20min 54s\n",
      "Wall time: 1h 21min\n"
     ]
    },
    {
     "data": {
      "text/plain": [
       "1.1994205491356822"
      ]
     },
     "execution_count": 114,
     "metadata": {},
     "output_type": "execute_result"
    }
   ],
   "source": [
    "%%time\n",
    "n = 0 # n is a counter so I can stop it early\n",
    "s = 0\n",
    "for _, row in test.iterrows():\n",
    "    predicted = predict(row['user_id'], row['book_id'])\n",
    "    s += (row['rating']-predicted)  ** 2\n",
    "    n += 1\n",
    "    if n % 10000 == 0:\n",
    "        print(math.sqrt(s/n))\n",
    "math.sqrt(s/n)"
   ]
  },
  {
   "cell_type": "markdown",
   "id": "e6e5c119-1087-4e5a-8a51-b6fda73b0212",
   "metadata": {},
   "source": [
    "number_of_books_required = 10\n",
    "k_neighbours = 10\n",
    "corr_threshold = 0.5\n",
    "r2 = False\n",
    "\n",
    "1.1885425924759414"
   ]
  },
  {
   "cell_type": "markdown",
   "id": "58c8669d-3004-4c13-876f-4d82bafa1d55",
   "metadata": {},
   "source": [
    "number_of_books_required = 10\n",
    "k_neighbours = 10\n",
    "corr_threshold = 0.5\n",
    "r2 = True\n",
    "\n",
    "1.1889582857761327"
   ]
  },
  {
   "cell_type": "markdown",
   "id": "92144921-cd13-4f22-aade-04e2dd9e2bd5",
   "metadata": {},
   "source": [
    "number_of_books_required = 10\n",
    "k_neighbours = 10\n",
    "corr_threshold = 0.1\n",
    "r2 = False\n",
    "\n",
    "1.1994205491356822"
   ]
  },
  {
   "cell_type": "code",
   "execution_count": null,
   "id": "03ed4c49-418c-4b95-ae05-7a164ed45676",
   "metadata": {
    "tags": []
   },
   "outputs": [],
   "source": [
    "len(ratings_df[\"user_id\"].unique())"
   ]
  },
  {
   "cell_type": "code",
   "execution_count": 43,
   "id": "a3f54546-d003-494d-8e7d-25efb36d0c42",
   "metadata": {
    "tags": []
   },
   "outputs": [
    {
     "data": {
      "text/plain": [
       "635993"
      ]
     },
     "execution_count": 43,
     "metadata": {},
     "output_type": "execute_result"
    }
   ],
   "source": [
    "len(test)"
   ]
  }
 ],
 "metadata": {
  "kernelspec": {
   "display_name": "Python 3 (ipykernel)",
   "language": "python",
   "name": "python3"
  },
  "language_info": {
   "codemirror_mode": {
    "name": "ipython",
    "version": 3
   },
   "file_extension": ".py",
   "mimetype": "text/x-python",
   "name": "python",
   "nbconvert_exporter": "python",
   "pygments_lexer": "ipython3",
   "version": "3.8.10"
  }
 },
 "nbformat": 4,
 "nbformat_minor": 5
}
