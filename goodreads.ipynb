{
 "cells": [
  {
   "cell_type": "markdown",
   "id": "141fd84d-5a9d-4581-982b-d55ba6393e24",
   "metadata": {
    "tags": []
   },
   "source": [
    "# Goodreads books recommender system"
   ]
  },
  {
   "cell_type": "code",
   "execution_count": 48,
   "id": "6d18b1c0-9216-466c-b226-64b794ee6f5e",
   "metadata": {
    "tags": []
   },
   "outputs": [],
   "source": [
    "import pandas as pd\n",
    "import numpy as np\n",
    "import seaborn as sns\n",
    "import matplotlib.pyplot as plt\n",
    "import gc\n",
    "from ast import literal_eval\n",
    "import matplotlib.ticker as ticker\n",
    "from sklearn.model_selection import train_test_split\n",
    "import math\n",
    "from scipy.stats import pearsonr\n"
   ]
  },
  {
   "cell_type": "code",
   "execution_count": 49,
   "id": "b194a11b-2984-4e92-8e3d-a058037002de",
   "metadata": {
    "tags": []
   },
   "outputs": [],
   "source": [
    "books_df = pd.read_csv('books.csv',converters={\"genres\": literal_eval})\n",
    "ratings_df = pd.read_csv('ratings.csv')\n",
    "train = pd.read_csv('train.csv')\n",
    "test = pd.read_csv('test.csv')"
   ]
  },
  {
   "cell_type": "code",
   "execution_count": 50,
   "id": "a9317b5c-9a5c-44ab-ba2a-e5b3b16536e9",
   "metadata": {
    "tags": []
   },
   "outputs": [],
   "source": [
    "# shuffling the test set\n",
    "np.random.seed(0)\n",
    "test = test.sample(frac = 1)"
   ]
  },
  {
   "cell_type": "markdown",
   "id": "85b25d81-2e68-4b48-b14f-0d13fcb16c9d",
   "metadata": {},
   "source": [
    "## Books"
   ]
  },
  {
   "cell_type": "code",
   "execution_count": null,
   "id": "47b8aac6-9770-4752-a278-efc6a0c88a90",
   "metadata": {
    "tags": []
   },
   "outputs": [],
   "source": [
    "genres = set(books_df[\"genres\"].explode())\n",
    "genres"
   ]
  },
  {
   "cell_type": "code",
   "execution_count": null,
   "id": "a2af7a7d-9e07-4e2b-a3ef-4eec510add38",
   "metadata": {
    "tags": []
   },
   "outputs": [],
   "source": [
    "books_df.info()"
   ]
  },
  {
   "cell_type": "code",
   "execution_count": null,
   "id": "c43b1bce-0e0c-4535-9e42-b555ce958e29",
   "metadata": {
    "tags": []
   },
   "outputs": [],
   "source": [
    "# most rated books\n",
    "books_df.sort_values('ratings_count', ascending = False)[[\"title\",\"authors\",\"average_rating\", \"ratings_count\"]].iloc[0:20]"
   ]
  },
  {
   "cell_type": "code",
   "execution_count": null,
   "id": "ef660135-07ad-4034-ac62-1aab93d1e9df",
   "metadata": {
    "tags": []
   },
   "outputs": [],
   "source": [
    "# authors of top 100 rated books\n",
    "top_100 = books_df.sort_values(['average_rating'], ascending = False).iloc[0:100,:]\n",
    "\n",
    "# transform authors to list and get top 15 authors that appear in top 100 books\n",
    "authors_top_100 = pd.Series([x for item in top_100['authors'] for x in item]).value_counts().to_frame('counts').reset_index()\n",
    "authors_top_100 = authors_top_100.iloc[0:15,:]"
   ]
  },
  {
   "cell_type": "code",
   "execution_count": null,
   "id": "d8d5a77e-a624-4d54-8d73-df31f9dd800b",
   "metadata": {
    "tags": []
   },
   "outputs": [],
   "source": [
    "sns.set_style('darkgrid')\n",
    "sns.set_palette('cividis')"
   ]
  },
  {
   "cell_type": "code",
   "execution_count": null,
   "id": "7ca4912d-d6b8-4662-838a-3133402f19f1",
   "metadata": {
    "tags": []
   },
   "outputs": [],
   "source": [
    "ax = sns.histplot(data=books_df, x=\"average_rating\", bins=20)\n",
    "ax.set_title(\"Distribution of Book Ratings\")\n",
    "ax.set_xlabel(\"Average Rating\")\n",
    "ax.set_ylabel(\"Number of books\")\n",
    "plt.show()"
   ]
  },
  {
   "cell_type": "code",
   "execution_count": null,
   "id": "0ad7f10f-55cf-4e2c-854f-452bc7e59c81",
   "metadata": {
    "tags": []
   },
   "outputs": [],
   "source": [
    "temp_books = pd.DataFrame()\n",
    "temp_books[\"ratings_count_log\"]=np.log(books_df.ratings_count)\n",
    "ax = sns.histplot(data = temp_books, x = \"ratings_count_log\")\n",
    "ax.set_title(\"Distribution of Book Ratings Count\")\n",
    "ax.set_xlabel(\"Log of number of ratings\")\n",
    "ax.set_ylabel(\"NUmber of books\")\n",
    "sns.despine()\n",
    "plt.show()"
   ]
  },
  {
   "cell_type": "code",
   "execution_count": null,
   "id": "17d50fcc-7299-4f5f-bd8b-b00c63164a90",
   "metadata": {
    "tags": []
   },
   "outputs": [],
   "source": [
    "ax = sns.scatterplot(data = books_df, x = \"ratings_count\", y = \"average_rating\")\n",
    "ax.set(xlim=(0, 1000000))\n",
    "ax.set_title(\"Scatterplot of average book rating vs number of ratings\")\n",
    "ax.set_xlabel(\"Number of ratings\")\n",
    "ax.set_ylabel(\"Rating\")\n",
    "ax.xaxis.set_major_formatter(ticker.FuncFormatter(lambda x, pos: f'{(x/1000000)}M'))\n",
    "sns.regplot(data=books_df, x=\"ratings_count\", y=\"average_rating\", scatter=False, color='r')"
   ]
  },
  {
   "cell_type": "code",
   "execution_count": null,
   "id": "717f09a0-a582-49ae-bf22-76fa15176a02",
   "metadata": {
    "tags": []
   },
   "outputs": [],
   "source": [
    "columns_to_plot = ['average_rating', 'ratings_count']\n",
    "fig, axes = plt.subplots(ncols=len(columns_to_plot))\n",
    "for column, axis in zip(columns_to_plot, axes):\n",
    "    if column == 'ratings_count':\n",
    "        sns.boxplot(data=books_df[column], ax=axis).set(ylim=(0, 100000))\n",
    "        axis.set_title('Number of ratings')\n",
    "    else:\n",
    "        sns.boxplot(data=books_df[column], ax=axis)\n",
    "        axis.set_title('Average rating')\n",
    "plt.tight_layout()\n",
    "plt.show()"
   ]
  },
  {
   "cell_type": "markdown",
   "id": "3d973a5d-b3eb-4ff6-b54d-8a17be6697d0",
   "metadata": {
    "tags": []
   },
   "source": [
    "## Ratings"
   ]
  },
  {
   "cell_type": "code",
   "execution_count": null,
   "id": "8443ee49-3eaa-406f-8df3-3389e56b06ac",
   "metadata": {
    "tags": []
   },
   "outputs": [],
   "source": [
    "ratings_df.head()"
   ]
  },
  {
   "cell_type": "code",
   "execution_count": null,
   "id": "a782d182-bf30-4bf4-9443-87648f6835d9",
   "metadata": {
    "tags": []
   },
   "outputs": [],
   "source": [
    "ratings_df.info()"
   ]
  },
  {
   "cell_type": "code",
   "execution_count": null,
   "id": "e0f3185f-9bc6-48fe-aa06-718521bc6301",
   "metadata": {
    "tags": []
   },
   "outputs": [],
   "source": [
    "len(ratings_df[\"book_id\"].unique())"
   ]
  },
  {
   "cell_type": "code",
   "execution_count": null,
   "id": "e379a53e-3826-4829-a422-2d1bf360f81b",
   "metadata": {
    "tags": []
   },
   "outputs": [],
   "source": [
    "ratings_df[[\"rating\"]].describe()"
   ]
  },
  {
   "cell_type": "code",
   "execution_count": null,
   "id": "a9760dde-520f-4432-b726-7319c6b0626c",
   "metadata": {
    "tags": []
   },
   "outputs": [],
   "source": [
    "ratings_df.groupby('user_id')['book_id'].count().head()"
   ]
  },
  {
   "cell_type": "code",
   "execution_count": null,
   "id": "73478d88-bee9-437d-9a0e-55af24f1b0c9",
   "metadata": {
    "tags": []
   },
   "outputs": [],
   "source": [
    "ax = sns.boxplot(y=ratings_df.groupby('user_id')['book_id'].count(), orient=\"v\")\n",
    "ax.set_ylim(0, 100)\n",
    "ax.set_ylabel(\"Number of ratings\")\n",
    "ax.set_title(\"Number of ratings by user\")"
   ]
  },
  {
   "cell_type": "markdown",
   "id": "3b9ec29b-838b-4ba1-8e70-6f4f3e3dcd5b",
   "metadata": {},
   "source": [
    "## Naive Baselines"
   ]
  },
  {
   "cell_type": "markdown",
   "id": "9176de03-f859-4d97-8043-fe7b704431e4",
   "metadata": {},
   "source": [
    "### Global average"
   ]
  },
  {
   "cell_type": "code",
   "execution_count": 51,
   "id": "c69adb4f-37e6-4318-9407-5ead01edf3ac",
   "metadata": {
    "tags": []
   },
   "outputs": [
    {
     "data": {
      "text/plain": [
       "1.2200771565806698"
      ]
     },
     "execution_count": 51,
     "metadata": {},
     "output_type": "execute_result"
    }
   ],
   "source": [
    "mean = train['rating'].mean()\n",
    "\n",
    "sum = 0\n",
    "n = 0\n",
    "for index, row in test.iterrows():\n",
    "    id = row['book_id']\n",
    "    sum += (row['rating'] - mean)**2\n",
    "    n += 1\n",
    "math.sqrt(sum/n)"
   ]
  },
  {
   "cell_type": "markdown",
   "id": "7342b864-2dad-47d3-a2d1-ccd76ceaa20d",
   "metadata": {},
   "source": [
    "### Book average"
   ]
  },
  {
   "cell_type": "code",
   "execution_count": 52,
   "id": "010c963e-6dd7-4b38-ac71-72a60cd5a668",
   "metadata": {
    "tags": []
   },
   "outputs": [
    {
     "data": {
      "text/plain": [
       "1.1837386913818102"
      ]
     },
     "execution_count": 52,
     "metadata": {},
     "output_type": "execute_result"
    }
   ],
   "source": [
    "mean = train.groupby('book_id').mean()\n",
    "book_average_dict = mean['rating'].to_dict()\n",
    "\n",
    "sum = 0\n",
    "n = 0\n",
    "for index, row in test.iterrows():\n",
    "    id = row['book_id']\n",
    "    sum += (row['rating'] - book_average_dict[id])**2\n",
    "    n += 1\n",
    "math.sqrt(sum/n)"
   ]
  },
  {
   "cell_type": "markdown",
   "id": "eb64dc98-0b27-40d0-aa56-42705e86ff38",
   "metadata": {},
   "source": [
    "### User average"
   ]
  },
  {
   "cell_type": "code",
   "execution_count": 53,
   "id": "33b23280-a691-41ac-a79d-e8b8391be1a5",
   "metadata": {
    "tags": []
   },
   "outputs": [
    {
     "data": {
      "text/plain": [
       "1.129027829510486"
      ]
     },
     "execution_count": 53,
     "metadata": {},
     "output_type": "execute_result"
    }
   ],
   "source": [
    "mean = train.groupby('user_id').mean()\n",
    "user_average_dict = mean['rating'].to_dict()\n",
    "\n",
    "sum = 0\n",
    "n = 0\n",
    "for index, row in test.iterrows():\n",
    "    id = row['user_id']\n",
    "    sum += (row['rating'] - user_average_dict[id])**2\n",
    "    n += 1\n",
    "math.sqrt(sum/n)"
   ]
  },
  {
   "cell_type": "markdown",
   "id": "fe2e320b-4d69-4176-97ee-2293e66725f5",
   "metadata": {},
   "source": [
    "## Collaborative filtering\n",
    "\n",
    "We can use the p-value to determine better the similarity between the users.\n",
    "\n",
    "[4,4], [4,4] has larger similarity than [4,4,4,3,3,4,5], [4,5,4,3,3,4,5], but the second is more preferable.\n",
    "\n",
    "It is slow as it can be, and it does not work well (:"
   ]
  },
  {
   "cell_type": "markdown",
   "id": "c4eb9629-63f5-4172-a6bc-31bf268bb06b",
   "metadata": {},
   "source": [
    "### Precomputing the data structures"
   ]
  },
  {
   "cell_type": "code",
   "execution_count": 6,
   "id": "a078b11d-d462-4426-af2a-69f3f34b5adf",
   "metadata": {
    "tags": []
   },
   "outputs": [],
   "source": [
    "# dictionary from books to list of users which rated the given book\n",
    "book_user_dict = {}\n",
    "grouped_data = train.groupby('book_id')\n",
    "for book_id, group in grouped_data:\n",
    "    user_generator = (x for x in group['user_id'])\n",
    "    book_user_dict[book_id] = list(user_generator)\n",
    "    \n",
    "# dictionary from users to dictionary of books to rating given by the user\n",
    "user_book_rating_dict = {}\n",
    "grouped_data = train.groupby('user_id')\n",
    "for user_id, group in grouped_data:\n",
    "    book_rating_dict = {book_id: rating for book_id, rating in zip(group['book_id'], group['rating'])}\n",
    "    user_book_rating_dict[user_id] = book_rating_dict"
   ]
  },
  {
   "cell_type": "markdown",
   "id": "eb690c7b-6e95-40da-a20f-21b79ef22ba1",
   "metadata": {},
   "source": [
    "### The Algorithm"
   ]
  },
  {
   "cell_type": "code",
   "execution_count": 103,
   "id": "d385499d-ba70-4faa-9ab5-c33b693f31a9",
   "metadata": {
    "tags": []
   },
   "outputs": [],
   "source": [
    "number_of_books_required = 10\n",
    "k_neighbours = 10\n",
    "corr_threshold = 0.5\n",
    "p_val = True\n",
    "r2 = False\n",
    "\n",
    "def user_similarity(r1, r2):\n",
    "    vals1, vals2 = [], []\n",
    "    for key in r1:\n",
    "        if key in r2:\n",
    "            vals1.append(r1[key])\n",
    "            vals2.append(r2[key])\n",
    "    if len(vals1) < number_of_books_required:\n",
    "        return None\n",
    "    corr, p = pearsonr(vals1, vals2)\n",
    "    if (p_val and p > 0.05) or np.isnan(corr) or corr < corr_threshold:\n",
    "        return None\n",
    "    return corr\n",
    "\n",
    "def find_the_similars(user_id, book_id):\n",
    "    similarities = []\n",
    "    for user_id2 in book_user_dict[book_id]:\n",
    "        similarity = user_similarity(user_book_rating_dict[user_id], user_book_rating_dict[user_id2])\n",
    "        if similarity == None:\n",
    "            continue\n",
    "        similarities.append((similarity, user_book_rating_dict[user_id2][book_id], user_id2))\n",
    "    return sorted(similarities, key=lambda x: x[0], reverse=True)\n",
    "\n",
    "def predict(user_id, book_id):\n",
    "    similarities = find_the_similars(user_id, book_id)\n",
    "    if len(similarities) < k_neighbours:\n",
    "        return book_average_dict[book_id], False\n",
    "\n",
    "    summ = 0\n",
    "    weights = 0\n",
    "    for i in range(k_neighbours):\n",
    "        sim = similarities[i][0]\n",
    "        if r2:\n",
    "            sim = sim * sim\n",
    "        summ += (similarities[i][1]-book_average_dict[book_id]) * sim\n",
    "        weights += sim\n",
    "    \n",
    "    return book_average_dict[book_id]+(summ / weights), True"
   ]
  },
  {
   "cell_type": "markdown",
   "id": "3339387b-d31d-4981-abbd-d4a42457d78f",
   "metadata": {},
   "source": [
    "### Debugging"
   ]
  },
  {
   "cell_type": "code",
   "execution_count": 105,
   "id": "d5a812be-c0a3-4e90-bd66-dbfb6a5b4ec5",
   "metadata": {
    "tags": []
   },
   "outputs": [
    {
     "data": {
      "text/plain": [
       "[(1.0, 5, 'c3d033014bbcc966551905f1565137ad'),\n",
       " (1.0, 5, '13e399819abaa7c1e910403462153504'),\n",
       " (0.9999999999999998, 5, '52d2d23cd693ce2d304ecb65d6c2b5bf'),\n",
       " (0.9726921182982429, 4, '287a22a7ce9bddca901c63f698fbce90'),\n",
       " (0.9720615110512387, 5, '8b5996465689dad1aba3a270629abafd'),\n",
       " (0.9551094400921768, 5, 'd2e61dff9a8fbfd5f282aa8739e45222'),\n",
       " (0.9529216659791809, 5, '60e2ee724204574e04fc32517d630d65'),\n",
       " (0.9510441892119875, 5, 'fe6932eec9ecd789ef370cdca9a25e5f'),\n",
       " (0.9505863757867168, 5, 'cca791aaec9d57a183d961e0aee72208'),\n",
       " (0.9370425713316359, 5, 'fc18cfc845e161e9a7e2794014111875'),\n",
       " (0.931551641906374, 5, 'fed4694fbfe70cdbb4bb2eb207e39047'),\n",
       " (0.9211323729436764, 5, 'ee8fd39bfa6572a82bedd0b41ba5a820'),\n",
       " (0.8728715609439694, 5, '8e22737448aab764821f2520a8d5f6b6'),\n",
       " (0.8728715609439694, 5, '46dfaeb0a0fcb8cefb0ba6198c69d06f'),\n",
       " (0.8640987597877146, 5, '066a5ff58f200a53ad99bcd4e0477ce7'),\n",
       " (0.8595324232523596, 5, '405b974ff931822bbae0ec183c6c7ede'),\n",
       " (0.8563488385776754, 5, '60ec9a3f8c87944781e16642aa64bde8'),\n",
       " (0.8547924327535795, 4, '9ab338cce02fe453d67e39a5789d6e91'),\n",
       " (0.8540168202937983, 5, '750cd661429afefaf683fc164d2a31a7'),\n",
       " (0.8532770595046268, 5, '3a7c10ce7f1204c5806640f838c59892'),\n",
       " (0.8528602990262661, 5, 'b48ca01d688e18fd6e4dcebffa6f45b5'),\n",
       " (0.8518370511170396, 5, '144df0f3adabf794478a2ddf6d2eb206'),\n",
       " (0.8480115010871584, 5, 'd92592310e62aead77b6a87d6f0a57d2'),\n",
       " (0.8468261737804974, 5, '179449c8d45f23cc8c39ae378fe0aeb8'),\n",
       " (0.846153846153846, 4, '30dcccda4ce89a6650691c53a4530ba2'),\n",
       " (0.837569926719283, 5, 'ae79140dc9101a7afaa6dc04b8aabba4'),\n",
       " (0.8353441907249963, 5, 'dff447ef9117c4ea26e859a42be4be59'),\n",
       " (0.8310344783790071, 5, '5ff0927d425ab1a70d2b2d41fe6b96b5'),\n",
       " (0.8286633855408042, 5, '14400d74464192e756bdeaae566b9d12'),\n",
       " (0.8179178119091959, 5, '3527d7431d649615eb83ec3cb84ece7f'),\n",
       " (0.8179128813519698, 5, '83318ab6e690d305e3db5c7f55cd085d'),\n",
       " (0.8017837257372731, 5, '61d6b0cb8755d160cd7228ef28ee583f'),\n",
       " (0.8014859194922799, 3, '3e013ef5892fce938ba8b8ec15b93ff8'),\n",
       " (0.7993052538854534, 5, '95286c6f1f2cabc77d5b326c572ecb77'),\n",
       " (0.7960029457578485, 5, 'e63e4d09c60967d37407db00445f8415'),\n",
       " (0.7905694150420947, 5, '71021af33f1e27c8fe1ceb9a9f52e301'),\n",
       " (0.7881860844913342, 5, '0724193a6783316f53402ba6f308d05a'),\n",
       " (0.7817359599705717, 5, '31e68d624494766df47fe5ad228c47c0'),\n",
       " (0.7789057967405799, 5, '79ed0f62f8fa11116967a039d921679c'),\n",
       " (0.7745966692414836, 5, 'f1b86bf7c103c46fcb854e1fb711b1ec'),\n",
       " (0.7745966692414834, 5, '26ca3943326bef5be1babea771a40b62'),\n",
       " (0.7745966692414832, 4, 'cc05e87a7442177684225f465e84966e'),\n",
       " (0.7708333333333334, 5, 'ce51145d2632e96fd7cffabec8c6267b'),\n",
       " (0.7698003589195009, 5, '2f5761a8bb7b35ef17cbafdba264b6bd'),\n",
       " (0.7581753965757456, 4, 'eb17c61f4ad60a6edd23b30af3cf9aec'),\n",
       " (0.7570563574518141, 5, 'd9251d9937876e1bc7885b92d306658b'),\n",
       " (0.7560975609756101, 5, '97bb0ba94ea2de70994905a26e171822'),\n",
       " (0.7555074634398169, 5, '6c03217aef8758bec4ac3c54fc96a2e6'),\n",
       " (0.7512482264253479, 5, '1b709482195baf4bf17dfc001b04537d'),\n",
       " (0.7508654224836593, 5, '4481dca41124ad60cd3eee91717e346b'),\n",
       " (0.7462025072446365, 5, '1bdce0045977b96468c342312e73607a'),\n",
       " (0.745499316410975, 5, '01fd2cde08dd7dffa622d1e93509472a'),\n",
       " (0.74535599249993, 5, '455040ead6040745761aef3e66c16ad4'),\n",
       " (0.7404322357228396, 5, '8f427809bfe64e28bc8691b2adc302cd'),\n",
       " (0.7293968086257968, 5, '5a7355dd76fb7649912b783dffe604e1'),\n",
       " (0.7278602642426105, 4, '489d070d3ecc2978a58ff944d54ffeb1'),\n",
       " (0.7276068751089992, 5, 'd31678ad53cf3226f2082f8b6d2e919c'),\n",
       " (0.725866186311298, 5, 'fd0c1c59ca436b650137805d80ea64b8'),\n",
       " (0.7237468644557459, 4, 'fadac4a528bed23fede388585404e4eb'),\n",
       " (0.7230769971004927, 4, 'afdb7fe58f88f3f69509e42c6f6b0dbd'),\n",
       " (0.7199320667155746, 5, 'ca680cf8175b80ad237f78ded0d1e30a'),\n",
       " (0.7142857142857142, 5, '9ad4880049ae5ec54cab378a99f0fa0d'),\n",
       " (0.7120653320005385, 5, '5992ffbc593f61e1a5a760bffcc9f3c4'),\n",
       " (0.7119666788018505, 5, '223f66143727c719da47fe2fa18bc55c'),\n",
       " (0.710853536673655, 5, '5acab965f77a63062adf0f646c3f101e'),\n",
       " (0.7029836744275274, 5, 'bf2abe9a707f9581f8d32196958b6e05'),\n",
       " (0.7024393586862703, 5, '6b28f357b2c0ba734dd0206f2e5d1899'),\n",
       " (0.7012526785324502, 5, 'c2a87e1f986bbb7525d96b265c3e32ce'),\n",
       " (0.6931032800836721, 5, '0afa18988f3899a5b51cc72d9e8d1cad'),\n",
       " (0.6904732790584837, 5, 'cd1c43ae2901141c83c5375b6e0eed3e'),\n",
       " (0.6890031021158576, 5, 'ada3e9446fb3c91ef7ddb6be86fb4326'),\n",
       " (0.6864064729836439, 5, '49c7b6820af9144e146c2d0e2752cddb'),\n",
       " (0.6846531968814576, 5, 'a68aa9d4bd8accbab6f3a7947b2c092d'),\n",
       " (0.6753377533361222, 5, 'ba7f50286295186a87feaeb42af2ebc1'),\n",
       " (0.6741998624632421, 5, 'ce3051e338f8bc8335a5a8cc1dee21fe'),\n",
       " (0.6741998624632421, 5, '29c22de08d843b32d96d5247d880b58e'),\n",
       " (0.674199862463242, 5, '320df4a6f9b9546bb212c0e05718a301'),\n",
       " (0.6708450497074189, 5, 'f3971e49c7860c68e731e67cdd031314'),\n",
       " (0.6708203932499368, 5, '66401dff380dd6c95cf0bebec5b03906'),\n",
       " (0.670401523153991, 5, '2d58664f983e421f4f3aa3ce8bdd7949'),\n",
       " (0.6680313900328463, 4, 'e363d4d8ec7cd2be1269bcb2a8d4e608'),\n",
       " (0.6666666666666666, 5, '3c567735f549e5329c894815515b797a'),\n",
       " (0.6539214945229089, 5, 'bccfbc9829460881f8e0d99f18dbfae5'),\n",
       " (0.6424200290226084, 5, '3574e57b512913fab157ef3bad62074a'),\n",
       " (0.6396021490668314, 4, '2730b44ffa3ba287337765f61685c201'),\n",
       " (0.6365239496641677, 4, '7c549367e706bb1ef915373f1b1269f5'),\n",
       " (0.6341718324267315, 4, '70318ebc2e583c2708c7b5e1c45f291f'),\n",
       " (0.6274022157855922, 3, 'cf84281970ac706e1afd34aa76675ad2'),\n",
       " (0.6236095644623236, 5, 'acea2fc956d775c1b2cea6b28708d1f4'),\n",
       " (0.6236095644623235, 5, 'f18e9a17737c79e96b197362451c1610'),\n",
       " (0.6172133998483675, 5, '782009240785ecedf1200a0797a4e242'),\n",
       " (0.6119528587806933, 5, 'f115dc148ad8536b6fbc38abf48da61e'),\n",
       " (0.6112122335988511, 4, '7a9f6abe3aedc5feb603350033c522d9'),\n",
       " (0.6085989058527205, 5, 'e16c5013e0de9b45ee657bdae290338d'),\n",
       " (0.6060606060606061, 5, '9d0c4637ac99dcd7b8a6321165993375'),\n",
       " (0.5983211225424633, 5, '610c77e5482455b5b9aee7cb0d33924b'),\n",
       " (0.5908019302787647, 5, 'e9fc8a3de2f39fe0df64eb21c7924119'),\n",
       " (0.5867386940384681, 5, '1370a65ac24c220cf1f37eb57492c371'),\n",
       " (0.5847053462046862, 5, 'f502f0107f19c7955c8dfd1aca3e7711'),\n",
       " (0.5773502691896257, 5, 'f854408563df34a71c3362ec7d337568'),\n",
       " (0.5722817332767336, 5, 'ec659dffbcc498d30d2905a084fa0faa'),\n",
       " (0.5650471242397272, 4, '9ef4381de927cbb8315e241ecf954024'),\n",
       " (0.5603693789193426, 5, 'ef2708bda618121898ddd093ccc00c78'),\n",
       " (0.5581052602166384, 4, 'c0325dc574b34b42cbd3b15df0c0895d'),\n",
       " (0.5532833351724882, 5, '342a566bfe3b5763587179ccaa9f820f'),\n",
       " (0.5440177319743226, 5, 'fc42cbb17f863f27ab7b8b231ef6e49a'),\n",
       " (0.5077021826584465, 3, '7ce38afbb2ae7835a1f8e805619510d7'),\n",
       " (0.5076119249638631, 5, '60f9a8618cb784de18ea38901374c58b')]"
      ]
     },
     "execution_count": 105,
     "metadata": {},
     "output_type": "execute_result"
    }
   ],
   "source": [
    "# harry potter book\n",
    "# TODO graph the values of similarities\n",
    "find_the_similars('c3d033014bbcc966551905f1565137ad', 3)"
   ]
  },
  {
   "cell_type": "markdown",
   "id": "f669fe76-8388-42af-999b-d9b0ebf3f07f",
   "metadata": {},
   "source": [
    "### Testing"
   ]
  },
  {
   "cell_type": "code",
   "execution_count": 100,
   "id": "e01a3e03-349b-4327-9c20-627ccb2b8981",
   "metadata": {
    "tags": []
   },
   "outputs": [
    {
     "name": "stdout",
     "output_type": "stream",
     "text": [
      "1.180574642994932 1000 255\n",
      "1.1692927395164918 2000 521\n",
      "1.1667888187821824 3000 771\n",
      "1.1933272072658454 4000 1023\n",
      "1.1941568657014219 5000 1266\n",
      "1.1916823502226026 6000 1522\n",
      "1.199829544996664 7000 1771\n",
      "1.196730893255919 8000 2035\n",
      "1.193132893181081 9000 2293\n",
      "1.1908221090836189 10000 2552\n",
      "1.1908221090836189 10000 2552\n",
      "CPU times: user 1min 35s, sys: 23.9 ms, total: 1min 35s\n",
      "Wall time: 1min 35s\n"
     ]
    }
   ],
   "source": [
    "%%time\n",
    "# n is a counter so I can stop it early\n",
    "n = 0 \n",
    "s = 0\n",
    "successful = 0\n",
    "for _, row in test.iterrows():\n",
    "    predicted, ok = predict(row['user_id'], row['book_id'])\n",
    "    if ok:\n",
    "       successful += 1 \n",
    "    s += (row['rating']-predicted)  ** 2\n",
    "    n += 1\n",
    "    if n % 1000 == 0:\n",
    "        print(math.sqrt(s/n), n, successful)\n",
    "    if n == 10000:\n",
    "        break\n",
    "print(math.sqrt(s/n), n, successful)"
   ]
  }
 ],
 "metadata": {
  "kernelspec": {
   "display_name": "Python 3 (ipykernel)",
   "language": "python",
   "name": "python3"
  },
  "language_info": {
   "codemirror_mode": {
    "name": "ipython",
    "version": 3
   },
   "file_extension": ".py",
   "mimetype": "text/x-python",
   "name": "python",
   "nbconvert_exporter": "python",
   "pygments_lexer": "ipython3",
   "version": "3.8.10"
  }
 },
 "nbformat": 4,
 "nbformat_minor": 5
}
