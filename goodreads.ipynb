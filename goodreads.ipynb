{
 "cells": [
  {
   "cell_type": "markdown",
   "id": "141fd84d-5a9d-4581-982b-d55ba6393e24",
   "metadata": {
    "tags": []
   },
   "source": [
    "# Goodreads books recommender system"
   ]
  },
  {
   "cell_type": "code",
   "execution_count": 1,
   "id": "6d18b1c0-9216-466c-b226-64b794ee6f5e",
   "metadata": {
    "tags": []
   },
   "outputs": [],
   "source": [
    "import pandas as pd\n",
    "import numpy as np\n",
    "import seaborn as sns\n",
    "import matplotlib.pyplot as plt\n",
    "import gc\n",
    "from ast import literal_eval\n",
    "import matplotlib.ticker as ticker\n",
    "from sklearn.model_selection import train_test_split\n",
    "import math\n",
    "from scipy.stats import pearsonr\n"
   ]
  },
  {
   "cell_type": "code",
   "execution_count": 2,
   "id": "b194a11b-2984-4e92-8e3d-a058037002de",
   "metadata": {
    "tags": []
   },
   "outputs": [],
   "source": [
    "books_df = pd.read_csv('books.csv',converters={\"genres\": literal_eval})\n",
    "ratings_df = pd.read_csv('ratings.csv')\n",
    "train = pd.read_csv('train.csv')\n",
    "test = pd.read_csv('test.csv')"
   ]
  },
  {
   "cell_type": "code",
   "execution_count": 3,
   "id": "a9317b5c-9a5c-44ab-ba2a-e5b3b16536e9",
   "metadata": {
    "tags": []
   },
   "outputs": [],
   "source": [
    "# shuffling the test set\n",
    "np.random.seed(0)\n",
    "test = test.sample(frac = 1)"
   ]
  },
  {
   "cell_type": "markdown",
   "id": "85b25d81-2e68-4b48-b14f-0d13fcb16c9d",
   "metadata": {},
   "source": [
    "## Books"
   ]
  },
  {
   "cell_type": "code",
   "execution_count": null,
   "id": "47b8aac6-9770-4752-a278-efc6a0c88a90",
   "metadata": {
    "tags": []
   },
   "outputs": [],
   "source": [
    "genres = set(books_df[\"genres\"].explode())\n",
    "genres"
   ]
  },
  {
   "cell_type": "code",
   "execution_count": null,
   "id": "a2af7a7d-9e07-4e2b-a3ef-4eec510add38",
   "metadata": {
    "tags": []
   },
   "outputs": [],
   "source": [
    "books_df.info()"
   ]
  },
  {
   "cell_type": "code",
   "execution_count": null,
   "id": "c43b1bce-0e0c-4535-9e42-b555ce958e29",
   "metadata": {
    "tags": []
   },
   "outputs": [],
   "source": [
    "# most rated books\n",
    "books_df.sort_values('ratings_count', ascending = False)[[\"title\",\"authors\",\"average_rating\", \"ratings_count\"]].iloc[0:20]"
   ]
  },
  {
   "cell_type": "code",
   "execution_count": null,
   "id": "ef660135-07ad-4034-ac62-1aab93d1e9df",
   "metadata": {
    "tags": []
   },
   "outputs": [],
   "source": [
    "# authors of top 100 rated books\n",
    "top_100 = books_df.sort_values(['average_rating'], ascending = False).iloc[0:100,:]\n",
    "\n",
    "# transform authors to list and get top 15 authors that appear in top 100 books\n",
    "authors_top_100 = pd.Series([x for item in top_100['authors'] for x in item]).value_counts().to_frame('counts').reset_index()\n",
    "authors_top_100 = authors_top_100.iloc[0:15,:]"
   ]
  },
  {
   "cell_type": "code",
   "execution_count": null,
   "id": "d8d5a77e-a624-4d54-8d73-df31f9dd800b",
   "metadata": {
    "tags": []
   },
   "outputs": [],
   "source": [
    "sns.set_style('darkgrid')\n",
    "sns.set_palette('cividis')"
   ]
  },
  {
   "cell_type": "code",
   "execution_count": null,
   "id": "7ca4912d-d6b8-4662-838a-3133402f19f1",
   "metadata": {
    "tags": []
   },
   "outputs": [],
   "source": [
    "ax = sns.histplot(data=books_df, x=\"average_rating\", bins=20)\n",
    "ax.set_title(\"Distribution of Book Ratings\")\n",
    "ax.set_xlabel(\"Average Rating\")\n",
    "ax.set_ylabel(\"Number of books\")\n",
    "plt.show()"
   ]
  },
  {
   "cell_type": "code",
   "execution_count": null,
   "id": "0ad7f10f-55cf-4e2c-854f-452bc7e59c81",
   "metadata": {
    "tags": []
   },
   "outputs": [],
   "source": [
    "temp_books = pd.DataFrame()\n",
    "temp_books[\"ratings_count_log\"]=np.log(books_df.ratings_count)\n",
    "ax = sns.histplot(data = temp_books, x = \"ratings_count_log\")\n",
    "ax.set_title(\"Distribution of Book Ratings Count\")\n",
    "ax.set_xlabel(\"Log of number of ratings\")\n",
    "ax.set_ylabel(\"NUmber of books\")\n",
    "sns.despine()\n",
    "plt.show()"
   ]
  },
  {
   "cell_type": "code",
   "execution_count": null,
   "id": "17d50fcc-7299-4f5f-bd8b-b00c63164a90",
   "metadata": {
    "tags": []
   },
   "outputs": [],
   "source": [
    "ax = sns.scatterplot(data = books_df, x = \"ratings_count\", y = \"average_rating\")\n",
    "ax.set(xlim=(0, 1000000))\n",
    "ax.set_title(\"Scatterplot of average book rating vs number of ratings\")\n",
    "ax.set_xlabel(\"Number of ratings\")\n",
    "ax.set_ylabel(\"Rating\")\n",
    "ax.xaxis.set_major_formatter(ticker.FuncFormatter(lambda x, pos: f'{(x/1000000)}M'))\n",
    "sns.regplot(data=books_df, x=\"ratings_count\", y=\"average_rating\", scatter=False, color='r')"
   ]
  },
  {
   "cell_type": "code",
   "execution_count": null,
   "id": "717f09a0-a582-49ae-bf22-76fa15176a02",
   "metadata": {
    "tags": []
   },
   "outputs": [],
   "source": [
    "columns_to_plot = ['average_rating', 'ratings_count']\n",
    "fig, axes = plt.subplots(ncols=len(columns_to_plot))\n",
    "for column, axis in zip(columns_to_plot, axes):\n",
    "    if column == 'ratings_count':\n",
    "        sns.boxplot(data=books_df[column], ax=axis).set(ylim=(0, 100000))\n",
    "        axis.set_title('Number of ratings')\n",
    "    else:\n",
    "        sns.boxplot(data=books_df[column], ax=axis)\n",
    "        axis.set_title('Average rating')\n",
    "plt.tight_layout()\n",
    "plt.show()"
   ]
  },
  {
   "cell_type": "markdown",
   "id": "3d973a5d-b3eb-4ff6-b54d-8a17be6697d0",
   "metadata": {
    "tags": []
   },
   "source": [
    "## Ratings"
   ]
  },
  {
   "cell_type": "code",
   "execution_count": null,
   "id": "8443ee49-3eaa-406f-8df3-3389e56b06ac",
   "metadata": {
    "tags": []
   },
   "outputs": [],
   "source": [
    "ratings_df.head()"
   ]
  },
  {
   "cell_type": "code",
   "execution_count": null,
   "id": "a782d182-bf30-4bf4-9443-87648f6835d9",
   "metadata": {
    "tags": []
   },
   "outputs": [],
   "source": [
    "ratings_df.info()"
   ]
  },
  {
   "cell_type": "code",
   "execution_count": null,
   "id": "e0f3185f-9bc6-48fe-aa06-718521bc6301",
   "metadata": {
    "tags": []
   },
   "outputs": [],
   "source": [
    "len(ratings_df[\"book_id\"].unique())"
   ]
  },
  {
   "cell_type": "code",
   "execution_count": null,
   "id": "e379a53e-3826-4829-a422-2d1bf360f81b",
   "metadata": {
    "tags": []
   },
   "outputs": [],
   "source": [
    "ratings_df[[\"rating\"]].describe()"
   ]
  },
  {
   "cell_type": "code",
   "execution_count": null,
   "id": "a9760dde-520f-4432-b726-7319c6b0626c",
   "metadata": {
    "tags": []
   },
   "outputs": [],
   "source": [
    "ratings_df.groupby('user_id')['book_id'].count().head()"
   ]
  },
  {
   "cell_type": "code",
   "execution_count": null,
   "id": "73478d88-bee9-437d-9a0e-55af24f1b0c9",
   "metadata": {
    "tags": []
   },
   "outputs": [],
   "source": [
    "ax = sns.boxplot(y=ratings_df.groupby('user_id')['book_id'].count(), orient=\"v\")\n",
    "ax.set_ylim(0, 100)\n",
    "ax.set_ylabel(\"Number of ratings\")\n",
    "ax.set_title(\"Number of ratings by user\")"
   ]
  },
  {
   "cell_type": "markdown",
   "id": "3b9ec29b-838b-4ba1-8e70-6f4f3e3dcd5b",
   "metadata": {},
   "source": [
    "## Naive Baselines"
   ]
  },
  {
   "cell_type": "markdown",
   "id": "9176de03-f859-4d97-8043-fe7b704431e4",
   "metadata": {},
   "source": [
    "### Global average"
   ]
  },
  {
   "cell_type": "code",
   "execution_count": 11,
   "id": "c69adb4f-37e6-4318-9407-5ead01edf3ac",
   "metadata": {
    "tags": []
   },
   "outputs": [
    {
     "data": {
      "text/plain": [
       "1.003925851125348"
      ]
     },
     "execution_count": 11,
     "metadata": {},
     "output_type": "execute_result"
    }
   ],
   "source": [
    "mean = train['rating'].mean()\n",
    "\n",
    "sum = 0\n",
    "n = 0\n",
    "for index, row in test.iterrows():\n",
    "    id = row['book_id']\n",
    "    sum += (row['rating'] - mean)**2\n",
    "    n += 1\n",
    "math.sqrt(sum/n)"
   ]
  },
  {
   "cell_type": "markdown",
   "id": "7342b864-2dad-47d3-a2d1-ccd76ceaa20d",
   "metadata": {},
   "source": [
    "### Book average"
   ]
  },
  {
   "cell_type": "code",
   "execution_count": 8,
   "id": "010c963e-6dd7-4b38-ac71-72a60cd5a668",
   "metadata": {
    "tags": []
   },
   "outputs": [
    {
     "data": {
      "text/plain": [
       "0.9504173082324604"
      ]
     },
     "execution_count": 8,
     "metadata": {},
     "output_type": "execute_result"
    }
   ],
   "source": [
    "mean = train.groupby('book_id').mean()\n",
    "book_average_dict = mean['rating'].to_dict()\n",
    "\n",
    "sum = 0\n",
    "n = 0\n",
    "for index, row in test.iterrows():\n",
    "    id = row['book_id']\n",
    "    sum += (row['rating'] - book_average_dict[id])**2\n",
    "    n += 1\n",
    "math.sqrt(sum/n)"
   ]
  },
  {
   "cell_type": "markdown",
   "id": "eb64dc98-0b27-40d0-aa56-42705e86ff38",
   "metadata": {},
   "source": [
    "### User average"
   ]
  },
  {
   "cell_type": "code",
   "execution_count": 9,
   "id": "33b23280-a691-41ac-a79d-e8b8391be1a5",
   "metadata": {
    "tags": []
   },
   "outputs": [
    {
     "data": {
      "text/plain": [
       "0.9344274330750967"
      ]
     },
     "execution_count": 9,
     "metadata": {},
     "output_type": "execute_result"
    }
   ],
   "source": [
    "mean = train.groupby('user_id').mean()\n",
    "user_average_dict = mean['rating'].to_dict()\n",
    "\n",
    "sum = 0\n",
    "n = 0\n",
    "for index, row in test.iterrows():\n",
    "    id = row['user_id']\n",
    "    sum += (row['rating'] - user_average_dict[id])**2\n",
    "    n += 1\n",
    "math.sqrt(sum/n)"
   ]
  },
  {
   "cell_type": "markdown",
   "id": "fe2e320b-4d69-4176-97ee-2293e66725f5",
   "metadata": {},
   "source": [
    "## Collaborative filtering\n",
    "\n",
    "We can use the p-value to determine better the similarity between the users.\n",
    "\n",
    "[4,4], [4,4] has larger similarity than [4,4,4,3,3,4,5], [4,5,4,3,3,4,5], but the second is more preferable.\n",
    "\n",
    "It is slow as it can be, and it does not work well (:"
   ]
  },
  {
   "cell_type": "markdown",
   "id": "c4eb9629-63f5-4172-a6bc-31bf268bb06b",
   "metadata": {},
   "source": [
    "### Precomputing the data structures"
   ]
  },
  {
   "cell_type": "code",
   "execution_count": 12,
   "id": "a078b11d-d462-4426-af2a-69f3f34b5adf",
   "metadata": {
    "tags": []
   },
   "outputs": [],
   "source": [
    "# dictionary from books to list of users which rated the given book\n",
    "book_user_dict = {}\n",
    "grouped_data = train.groupby('book_id')\n",
    "for book_id, group in grouped_data:\n",
    "    user_generator = (x for x in group['user_id'])\n",
    "    book_user_dict[book_id] = list(user_generator)\n",
    "    \n",
    "# dictionary from users to dictionary of books to rating given by the user\n",
    "user_book_rating_dict = {}\n",
    "grouped_data = train.groupby('user_id')\n",
    "for user_id, group in grouped_data:\n",
    "    book_rating_dict = {book_id: rating for book_id, rating in zip(group['book_id'], group['rating'])}\n",
    "    user_book_rating_dict[user_id] = book_rating_dict"
   ]
  },
  {
   "cell_type": "markdown",
   "id": "eb690c7b-6e95-40da-a20f-21b79ef22ba1",
   "metadata": {},
   "source": [
    "### The Algorithm"
   ]
  },
  {
   "cell_type": "code",
   "execution_count": 52,
   "id": "d385499d-ba70-4faa-9ab5-c33b693f31a9",
   "metadata": {
    "tags": []
   },
   "outputs": [],
   "source": [
    "number_of_books_required = 10\n",
    "k_neighbours = 10\n",
    "corr_threshold = 0.5\n",
    "p_val = True\n",
    "\n",
    "def user_similarity(r1, r2):\n",
    "    vals1, vals2 = [], []\n",
    "    for key in r1:\n",
    "        if key in r2:\n",
    "            vals1.append(r1[key])\n",
    "            vals2.append(r2[key])\n",
    "    if len(vals1) < number_of_books_required:\n",
    "        return None\n",
    "    corr, p = pearsonr(vals1, vals2)\n",
    "    if (p_val and p > 0.05) or np.isnan(corr) or corr < corr_threshold:\n",
    "        return None\n",
    "    return corr\n",
    "\n",
    "def find_the_similars(user_id, book_id):\n",
    "    similarities = []\n",
    "    for user_id2 in book_user_dict[book_id]:\n",
    "        similarity = user_similarity(user_book_rating_dict[user_id], user_book_rating_dict[user_id2])\n",
    "        if similarity == None:\n",
    "            continue\n",
    "        similarities.append((similarity, user_book_rating_dict[user_id2][book_id], user_id2))\n",
    "    return sorted(similarities, key=lambda x: x[0], reverse=True)\n",
    "\n",
    "def predict0(user_id, book_id):\n",
    "    similarities = find_the_similars(user_id, book_id)\n",
    "    if len(similarities) < k_neighbours:\n",
    "        return book_average_dict[book_id], False\n",
    "\n",
    "    summ = 0\n",
    "    weights = 0\n",
    "    for i in range(k_neighbours):\n",
    "        sim = similarities[i][0]\n",
    "        summ += similarities[i][1] * sim\n",
    "        weights += sim\n",
    "    \n",
    "    return summ / weights, True\n",
    "\n",
    "def predict1(user_id, book_id):\n",
    "    similarities = find_the_similars(user_id, book_id)\n",
    "    if len(similarities) < k_neighbours:\n",
    "        return book_average_dict[book_id], False\n",
    "\n",
    "    summ = 0\n",
    "    weights = 0\n",
    "    for i in range(k_neighbours):\n",
    "        sim = similarities[i][0]\n",
    "        summ += (similarities[i][1]-book_average_dict[book_id]) * sim\n",
    "        weights += sim\n",
    "    \n",
    "    return book_average_dict[book_id]+(summ / weights), True\n",
    "\n",
    "def predict2(user_id, book_id):\n",
    "    similarities = find_the_similars(user_id, book_id)\n",
    "    if len(similarities) < k_neighbours:\n",
    "        return user_average_dict[user_id], False\n",
    "\n",
    "    summ = 0\n",
    "    weights = 0\n",
    "    for i in range(k_neighbours):\n",
    "        sim = similarities[i][0]\n",
    "        score = similarities[i][1]\n",
    "        user2 = similarities[i][2]\n",
    "        summ += sim * (score-user_average_dict[user2]) \n",
    "        weights += sim\n",
    "    \n",
    "    return user_average_dict[user_id]+(summ / weights), True"
   ]
  },
  {
   "cell_type": "markdown",
   "id": "f669fe76-8388-42af-999b-d9b0ebf3f07f",
   "metadata": {},
   "source": [
    "### Testing"
   ]
  },
  {
   "cell_type": "code",
   "execution_count": 53,
   "id": "e01a3e03-349b-4327-9c20-627ccb2b8981",
   "metadata": {
    "tags": []
   },
   "outputs": [
    {
     "name": "stdout",
     "output_type": "stream",
     "text": [
      "0.9559829226196143 10000 2706\n",
      "0.9561919567762762 20000 5402\n",
      "0.9572422274389772 30000 8089\n",
      "0.9573576060890804 40000 10745\n",
      "0.9593550616904334 50000 13497\n",
      "0.9618514644769878 60000 16236\n",
      "0.9618654277470622 70000 18910\n",
      "0.9622182635957338 80000 21650\n",
      "0.9629295014584806 90000 24365\n",
      "0.9622640695565708 100000 27115\n",
      "0.9621529876237165 110000 29770\n",
      "0.9622405932881856 120000 32454\n",
      "0.9612800007123308 130000 35173\n",
      "0.9613144421637557 140000 37922\n",
      "0.961366684181615 150000 40682\n",
      "0.9608300737113401 160000 43464\n",
      "0.9611095402160819 170000 46225\n",
      "0.9612227410069734 180000 49011\n",
      "0.9610126106629111 190000 51774\n",
      "0.960927266831918 200000 54517\n",
      "0.9608693418905657 210000 57240\n",
      "0.9609436439983681 214325 58454\n",
      "CPU times: user 27min 44s, sys: 584 ms, total: 27min 45s\n",
      "Wall time: 27min 44s\n"
     ]
    }
   ],
   "source": [
    "%%time\n",
    "# n is a counter so I can stop it early\n",
    "n = 0 \n",
    "s = 0\n",
    "successful = 0\n",
    "for _, row in test.iterrows():\n",
    "    predicted, ok = predict0(row['user_id'], row['book_id'])\n",
    "    # predicted, ok = predict1(row['user_id'], row['book_id'])\n",
    "    # predicted, ok = predict2(row['user_id'], row['book_id'])\n",
    "    if ok:\n",
    "       successful += 1 \n",
    "    s += (row['rating']-predicted)  ** 2\n",
    "    n += 1\n",
    "    if n % 10000 == 0:\n",
    "        print(math.sqrt(s/n), n, successful)\n",
    "print(math.sqrt(s/n), n, successful)"
   ]
  },
  {
   "cell_type": "markdown",
   "id": "3339387b-d31d-4981-abbd-d4a42457d78f",
   "metadata": {},
   "source": [
    "### Graphing"
   ]
  },
  {
   "cell_type": "code",
   "execution_count": 59,
   "id": "da0173fa-25ea-4103-9c5a-9e8ac057c699",
   "metadata": {
    "tags": []
   },
   "outputs": [],
   "source": [
    "# harry potter book\n",
    "# TODO graph the values of similarities\n",
    "find_the_similars('eb17c61f4ad60a6edd23b30af3cf9aec', 3)\n",
    "'eb17c61f4ad60a6edd23b30af3cf9aec'\n",
    "'a759dbe40b97ae6508237f2ef2efcdf6'"
   ]
  },
  {
   "cell_type": "code",
   "execution_count": 63,
   "id": "a505c6e6-7a6f-4752-ba16-6c366e52583c",
   "metadata": {
    "tags": []
   },
   "outputs": [],
   "source": [
    "dict1 = user_book_rating_dict['eb17c61f4ad60a6edd23b30af3cf9aec']\n",
    "dict2 = user_book_rating_dict['a759dbe40b97ae6508237f2ef2efcdf6']\n",
    "vals1 = []\n",
    "vals2 = []\n",
    "book_ids = []\n",
    "for key in dict1.keys():\n",
    "    if key in dict2:\n",
    "        vals1.append(dict1[key])\n",
    "        vals2.append(dict2[key])\n",
    "        book_ids.append(key)\n",
    "book_names = books_df.loc[books_df['book_id'].isin(book_ids), 'title'].tolist()"
   ]
  },
  {
   "cell_type": "code",
   "execution_count": 74,
   "id": "e9f93949-bf58-4dc5-a6ee-b2d5f182840b",
   "metadata": {
    "tags": []
   },
   "outputs": [],
   "source": [
    "data = {'user1': vals1,\n",
    "        'user2': vals2,\n",
    "        'book_names': book_names}\n",
    "\n",
    "correlation_sample_df = pd.DataFrame(data)"
   ]
  },
  {
   "cell_type": "code",
   "execution_count": 76,
   "id": "40fe90b1-28ac-4733-9541-55be11a21e6a",
   "metadata": {
    "tags": []
   },
   "outputs": [
    {
     "data": {
      "text/html": [
       "<div>\n",
       "<style scoped>\n",
       "    .dataframe tbody tr th:only-of-type {\n",
       "        vertical-align: middle;\n",
       "    }\n",
       "\n",
       "    .dataframe tbody tr th {\n",
       "        vertical-align: top;\n",
       "    }\n",
       "\n",
       "    .dataframe thead th {\n",
       "        text-align: right;\n",
       "    }\n",
       "</style>\n",
       "<table border=\"1\" class=\"dataframe\">\n",
       "  <thead>\n",
       "    <tr style=\"text-align: right;\">\n",
       "      <th></th>\n",
       "      <th>user1</th>\n",
       "      <th>user2</th>\n",
       "      <th>book_names</th>\n",
       "    </tr>\n",
       "  </thead>\n",
       "  <tbody>\n",
       "    <tr>\n",
       "      <th>0</th>\n",
       "      <td>4</td>\n",
       "      <td>5</td>\n",
       "      <td>Harry Potter and the Sorcerer's Stone (Harry P...</td>\n",
       "    </tr>\n",
       "    <tr>\n",
       "      <th>1</th>\n",
       "      <td>5</td>\n",
       "      <td>5</td>\n",
       "      <td>Harry Potter and the Prisoner of Azkaban (Harr...</td>\n",
       "    </tr>\n",
       "    <tr>\n",
       "      <th>2</th>\n",
       "      <td>5</td>\n",
       "      <td>5</td>\n",
       "      <td>Harry Potter and the Order of the Phoenix (Har...</td>\n",
       "    </tr>\n",
       "    <tr>\n",
       "      <th>3</th>\n",
       "      <td>1</td>\n",
       "      <td>1</td>\n",
       "      <td>Harry Potter and the Chamber of Secrets (Harry...</td>\n",
       "    </tr>\n",
       "    <tr>\n",
       "      <th>4</th>\n",
       "      <td>4</td>\n",
       "      <td>5</td>\n",
       "      <td>Harry Potter and the Goblet of Fire (Harry Pot...</td>\n",
       "    </tr>\n",
       "    <tr>\n",
       "      <th>5</th>\n",
       "      <td>5</td>\n",
       "      <td>5</td>\n",
       "      <td>Harry Potter and the Deathly Hallows (Harry Po...</td>\n",
       "    </tr>\n",
       "    <tr>\n",
       "      <th>6</th>\n",
       "      <td>5</td>\n",
       "      <td>5</td>\n",
       "      <td>A Game of Thrones (A Song of Ice and Fire, #1)</td>\n",
       "    </tr>\n",
       "    <tr>\n",
       "      <th>7</th>\n",
       "      <td>5</td>\n",
       "      <td>5</td>\n",
       "      <td>Jane Eyre</td>\n",
       "    </tr>\n",
       "    <tr>\n",
       "      <th>8</th>\n",
       "      <td>4</td>\n",
       "      <td>5</td>\n",
       "      <td>The Handmaid's Tale</td>\n",
       "    </tr>\n",
       "    <tr>\n",
       "      <th>9</th>\n",
       "      <td>5</td>\n",
       "      <td>5</td>\n",
       "      <td>Robinson Crusoe</td>\n",
       "    </tr>\n",
       "  </tbody>\n",
       "</table>\n",
       "</div>"
      ],
      "text/plain": [
       "   user1  user2                                         book_names\n",
       "0      4      5  Harry Potter and the Sorcerer's Stone (Harry P...\n",
       "1      5      5  Harry Potter and the Prisoner of Azkaban (Harr...\n",
       "2      5      5  Harry Potter and the Order of the Phoenix (Har...\n",
       "3      1      1  Harry Potter and the Chamber of Secrets (Harry...\n",
       "4      4      5  Harry Potter and the Goblet of Fire (Harry Pot...\n",
       "5      5      5  Harry Potter and the Deathly Hallows (Harry Po...\n",
       "6      5      5     A Game of Thrones (A Song of Ice and Fire, #1)\n",
       "7      5      5                                          Jane Eyre\n",
       "8      4      5                                The Handmaid's Tale\n",
       "9      5      5                                    Robinson Crusoe"
      ]
     },
     "execution_count": 76,
     "metadata": {},
     "output_type": "execute_result"
    }
   ],
   "source": [
    "correlation_sample_df"
   ]
  },
  {
   "cell_type": "code",
   "execution_count": 19,
   "id": "7ea7eae7-5d19-4f13-ad74-1cc8315fd71b",
   "metadata": {
    "tags": []
   },
   "outputs": [],
   "source": [
    "real_list = []\n",
    "baseline_list1 = []\n",
    "predicted_list1 = []\n",
    "baseline_list2 = []\n",
    "predicted_list2 = []\n",
    "\n",
    "stop_after = 1000\n",
    "for _, row in test.iterrows():\n",
    "    user_id, book_id = row['user_id'], row['book_id']\n",
    "    real_list.append(row['rating'])\n",
    "    predicted_list1.append(predict1(user_id, book_id)[0])\n",
    "    predicted_list2.append(predict2(user_id, book_id)[0])\n",
    "    baseline_list1.append(book_average_dict[book_id])\n",
    "    baseline_list2.append(user_average_dict[user_id])\n",
    "    stop_after -= 1\n",
    "    if stop_after == 0:\n",
    "        break\n"
   ]
  },
  {
   "cell_type": "code",
   "execution_count": 30,
   "id": "597409c6-619b-4e07-b434-335414f61311",
   "metadata": {
    "tags": []
   },
   "outputs": [],
   "source": [
    "measurements = pd.DataFrame(list(zip(real_list, baseline_list1, baseline_list2, predicted_list1, predicted_list2)), columns =['real', 'baseline1', 'baseline2', 'predicted1', 'predicted2'])"
   ]
  },
  {
   "cell_type": "code",
   "execution_count": 39,
   "id": "7dcb1422-113d-40c4-9629-4f10f96c1ce0",
   "metadata": {
    "tags": []
   },
   "outputs": [
    {
     "data": {
      "text/plain": [
       "<AxesSubplot:xlabel='baseline1', ylabel='predicted1'>"
      ]
     },
     "execution_count": 39,
     "metadata": {},
     "output_type": "execute_result"
    },
    {
     "data": {
      "image/png": "[encoded data removed]",
      "text/plain": [
       "<Figure size 600x400 with 1 Axes>"
      ]
     },
     "metadata": {
      "needs_background": "light"
     },
     "output_type": "display_data"
    }
   ],
   "source": [
    "plt.axis('equal')\n",
    "sns.scatterplot(data=measurements, x='baseline1', y=\"predicted1\")"
   ]
  },
  {
   "cell_type": "code",
   "execution_count": 46,
   "id": "f89a3605-3b55-48de-b5f7-9cf9eea5877c",
   "metadata": {
    "tags": []
   },
   "outputs": [
    {
     "data": {
      "text/plain": [
       "<AxesSubplot:xlabel='baseline2', ylabel='predicted2'>"
      ]
     },
     "execution_count": 46,
     "metadata": {},
     "output_type": "execute_result"
    },
    {
     "data": {
      "image/png": "[encoded data removed]",
      "text/plain": [
       "<Figure size 600x400 with 1 Axes>"
      ]
     },
     "metadata": {
      "needs_background": "light"
     },
     "output_type": "display_data"
    }
   ],
   "source": [
    "plt.axis('equal')\n",
    "sns.scatterplot(data=measurements, x='baseline2', y=\"predicted2\")"
   ]
  },
  {
   "cell_type": "code",
   "execution_count": 42,
   "id": "8276682c-5e65-43b8-970c-fbb6c03a2195",
   "metadata": {
    "tags": []
   },
   "outputs": [
    {
     "data": {
      "text/plain": [
       "<AxesSubplot:xlabel='predicted1', ylabel='real'>"
      ]
     },
     "execution_count": 42,
     "metadata": {},
     "output_type": "execute_result"
    },
    {
     "data": {
      "image/png": "[encoded data removed]",
      "text/plain": [
       "<Figure size 600x400 with 1 Axes>"
      ]
     },
     "metadata": {
      "needs_background": "light"
     },
     "output_type": "display_data"
    }
   ],
   "source": [
    "plt.axis('equal')\n",
    "sns.scatterplot(data=measurements, x='predicted1', y=\"real\")"
   ]
  },
  {
   "cell_type": "code",
   "execution_count": 43,
   "id": "5ab82590-903b-44b0-a4a6-aa0bae62173b",
   "metadata": {
    "tags": []
   },
   "outputs": [
    {
     "data": {
      "text/plain": [
       "<AxesSubplot:xlabel='predicted2', ylabel='real'>"
      ]
     },
     "execution_count": 43,
     "metadata": {},
     "output_type": "execute_result"
    },
    {
     "data": {
      "image/png": "[encoded data removed]",
      "text/plain": [
       "<Figure size 600x400 with 1 Axes>"
      ]
     },
     "metadata": {
      "needs_background": "light"
     },
     "output_type": "display_data"
    }
   ],
   "source": [
    "plt.axis('equal')\n",
    "sns.scatterplot(data=measurements, x='predicted2', y=\"real\")"
   ]
  },
  {
   "cell_type": "code",
   "execution_count": 45,
   "id": "f6263ac1-333a-4f60-b5ac-0d5abe3312b9",
   "metadata": {
    "tags": []
   },
   "outputs": [
    {
     "data": {
      "text/plain": [
       "<AxesSubplot:xlabel='predicted1', ylabel='predicted2'>"
      ]
     },
     "execution_count": 45,
     "metadata": {},
     "output_type": "execute_result"
    },
    {
     "data": {
      "image/png": "[encoded data removed]",
      "text/plain": [
       "<Figure size 600x400 with 1 Axes>"
      ]
     },
     "metadata": {
      "needs_background": "light"
     },
     "output_type": "display_data"
    }
   ],
   "source": [
    "plt.axis('equal')\n",
    "sns.scatterplot(data=measurements, x='predicted1', y=\"predicted2\")"
   ]
  },
  {
   "cell_type": "code",
   "execution_count": null,
   "id": "fb3ee4f7-9d31-4d0b-aa63-2a509b7f5654",
   "metadata": {
    "tags": []
   },
   "outputs": [],
   "source": []
  }
 ],
 "metadata": {
  "kernelspec": {
   "display_name": "Python 3 (ipykernel)",
   "language": "python",
   "name": "python3"
  },
  "language_info": {
   "codemirror_mode": {
    "name": "ipython",
    "version": 3
   },
   "file_extension": ".py",
   "mimetype": "text/x-python",
   "name": "python",
   "nbconvert_exporter": "python",
   "pygments_lexer": "ipython3",
   "version": "3.9.6"
  }
 },
 "nbformat": 4,
 "nbformat_minor": 5
}
