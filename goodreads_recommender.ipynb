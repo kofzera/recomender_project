{
 "cells": [
  {
   "cell_type": "markdown",
   "id": "0a2fde9d-b654-488c-802f-fc0f88d5e1e5",
   "metadata": {},
   "source": [
    "# Goodreads books recommender system"
   ]
  },
  {
   "cell_type": "markdown",
   "id": "c29267f7-639f-4e65-a109-e0587ec06e2d",
   "metadata": {
    "tags": []
   },
   "source": [
    "## Preprocessing"
   ]
  },
  {
   "cell_type": "code",
   "execution_count": 1,
   "id": "c15d5ea1-75cc-4e3a-ae93-383730556d30",
   "metadata": {
    "tags": []
   },
   "outputs": [],
   "source": [
    "import pandas as pd\n",
    "import numpy as np\n",
    "import seaborn as sns\n",
    "import matplotlib.pyplot as plt\n",
    "import gc\n",
    "from ast import literal_eval\n",
    "import matplotlib.ticker as ticker\n",
    "from sklearn.model_selection import train_test_split"
   ]
  },
  {
   "cell_type": "markdown",
   "id": "c3279500-3bda-4322-954f-d577d7e67bf4",
   "metadata": {},
   "source": [
    "### Books"
   ]
  },
  {
   "cell_type": "markdown",
   "id": "c94fc1a8-8f48-49a6-990c-2590a85c3097",
   "metadata": {},
   "source": [
    "#### Cleaning"
   ]
  },
  {
   "cell_type": "code",
   "execution_count": 2,
   "id": "dd289523-6bb9-4ee7-9b67-d61ba5362909",
   "metadata": {
    "tags": []
   },
   "outputs": [],
   "source": [
    "books_df = pd.read_csv('https://raw.githubusercontent.com/malcolmosh/goodbooks-10k/master/books_enriched.csv', index_col=[0], converters={\"genres\": literal_eval})"
   ]
  },
  {
   "cell_type": "code",
   "execution_count": 3,
   "id": "537ad703-bfa8-4d56-b120-c27d50c59a94",
   "metadata": {
    "tags": []
   },
   "outputs": [],
   "source": [
    "# use goodreads book id instead of the arbitrary id\n",
    "books_df[\"book_id\"] = books_df.goodreads_book_id"
   ]
  },
  {
   "cell_type": "code",
   "execution_count": 4,
   "id": "6fc35df2-3d16-4dd5-9e81-029e91c78dbe",
   "metadata": {
    "tags": []
   },
   "outputs": [],
   "source": [
    "# Dropping unneeded columns\n",
    "books_df = books_df.drop(columns=[\"description\", \"image_url\", \"small_image_url\", \"index\", \"authors_2\", \"best_book_id\", \"goodreads_book_id\"], errors = 'ignore')"
   ]
  },
  {
   "cell_type": "code",
   "execution_count": 5,
   "id": "fb5ed9ab-165b-4f2e-834d-218486124765",
   "metadata": {
    "tags": []
   },
   "outputs": [
    {
     "data": {
      "text/plain": [
       "{'art',\n",
       " 'biography',\n",
       " 'books',\n",
       " 'business',\n",
       " 'chick-lit',\n",
       " 'christian',\n",
       " 'classics',\n",
       " 'comics',\n",
       " 'contemporary',\n",
       " 'cookbooks',\n",
       " 'crime',\n",
       " 'fantasy',\n",
       " 'fiction',\n",
       " 'gay-and-lesbian',\n",
       " 'graphic-novels',\n",
       " 'historical-fiction',\n",
       " 'history',\n",
       " 'horror',\n",
       " 'humor-and-comedy',\n",
       " 'manga',\n",
       " 'memoir',\n",
       " 'music',\n",
       " 'mystery',\n",
       " 'nonfiction',\n",
       " 'paranormal',\n",
       " 'philosophy',\n",
       " 'poetry',\n",
       " 'psychology',\n",
       " 'religion',\n",
       " 'romance',\n",
       " 'science',\n",
       " 'science-fiction',\n",
       " 'self-help',\n",
       " 'spirituality',\n",
       " 'sports',\n",
       " 'suspense',\n",
       " 'thriller',\n",
       " 'travel',\n",
       " 'young-adult'}"
      ]
     },
     "execution_count": 5,
     "metadata": {},
     "output_type": "execute_result"
    }
   ],
   "source": [
    "genres = set(books_df[\"genres\"].explode())\n",
    "genres"
   ]
  },
  {
   "cell_type": "code",
   "execution_count": 6,
   "id": "8657ab0c-efa7-4cec-9178-7537fb8aa813",
   "metadata": {
    "tags": []
   },
   "outputs": [],
   "source": [
    "# Keep only english books.\n",
    "books_df = books_df[books_df.language_code == 'eng']"
   ]
  },
  {
   "cell_type": "code",
   "execution_count": 7,
   "id": "1d0571e6-b661-4485-b721-0f2947e7902e",
   "metadata": {
    "tags": []
   },
   "outputs": [],
   "source": [
    "# drop books with duplicated title\n",
    "books_df = books_df.drop_duplicates(subset = ['title'])"
   ]
  },
  {
   "cell_type": "code",
   "execution_count": 8,
   "id": "ce5ed7b0-e69e-4f56-87c9-37ff0dccf89d",
   "metadata": {
    "tags": []
   },
   "outputs": [],
   "source": [
    "# transform list columns to list\n",
    "books_df['authors'] = books_df['authors'].apply(lambda x: x.strip('[]').replace(\"'\",\"\").split(\", \"))"
   ]
  },
  {
   "cell_type": "markdown",
   "id": "6c6f5985-fd74-4549-9ce5-a755223e4dd7",
   "metadata": {
    "tags": []
   },
   "source": [
    "#### EDA"
   ]
  },
  {
   "cell_type": "code",
   "execution_count": 9,
   "id": "261781e9-e149-49a2-af65-637f51f4bd49",
   "metadata": {
    "tags": []
   },
   "outputs": [
    {
     "data": {
      "text/html": [
       "<div>\n",
       "<style scoped>\n",
       "    .dataframe tbody tr th:only-of-type {\n",
       "        vertical-align: middle;\n",
       "    }\n",
       "\n",
       "    .dataframe tbody tr th {\n",
       "        vertical-align: top;\n",
       "    }\n",
       "\n",
       "    .dataframe thead th {\n",
       "        text-align: right;\n",
       "    }\n",
       "</style>\n",
       "<table border=\"1\" class=\"dataframe\">\n",
       "  <thead>\n",
       "    <tr style=\"text-align: right;\">\n",
       "      <th></th>\n",
       "      <th>authors</th>\n",
       "      <th>average_rating</th>\n",
       "      <th>book_id</th>\n",
       "      <th>books_count</th>\n",
       "      <th>genres</th>\n",
       "      <th>isbn</th>\n",
       "      <th>isbn13</th>\n",
       "      <th>language_code</th>\n",
       "      <th>original_publication_year</th>\n",
       "      <th>original_title</th>\n",
       "      <th>...</th>\n",
       "      <th>ratings_1</th>\n",
       "      <th>ratings_2</th>\n",
       "      <th>ratings_3</th>\n",
       "      <th>ratings_4</th>\n",
       "      <th>ratings_5</th>\n",
       "      <th>ratings_count</th>\n",
       "      <th>title</th>\n",
       "      <th>work_id</th>\n",
       "      <th>work_ratings_count</th>\n",
       "      <th>work_text_reviews_count</th>\n",
       "    </tr>\n",
       "  </thead>\n",
       "  <tbody>\n",
       "    <tr>\n",
       "      <th>0</th>\n",
       "      <td>[Suzanne Collins]</td>\n",
       "      <td>4.34</td>\n",
       "      <td>2767052</td>\n",
       "      <td>272</td>\n",
       "      <td>[young-adult, fiction, fantasy, science-fictio...</td>\n",
       "      <td>439023483</td>\n",
       "      <td>9.780439e+12</td>\n",
       "      <td>eng</td>\n",
       "      <td>2008.0</td>\n",
       "      <td>The Hunger Games</td>\n",
       "      <td>...</td>\n",
       "      <td>66715</td>\n",
       "      <td>127936</td>\n",
       "      <td>560092</td>\n",
       "      <td>1481305</td>\n",
       "      <td>2706317</td>\n",
       "      <td>4780653</td>\n",
       "      <td>The Hunger Games (The Hunger Games, #1)</td>\n",
       "      <td>2792775</td>\n",
       "      <td>4942365</td>\n",
       "      <td>155254</td>\n",
       "    </tr>\n",
       "    <tr>\n",
       "      <th>1</th>\n",
       "      <td>[J.K. Rowling, Mary GrandPré]</td>\n",
       "      <td>4.44</td>\n",
       "      <td>3</td>\n",
       "      <td>491</td>\n",
       "      <td>[fantasy, fiction, young-adult, classics]</td>\n",
       "      <td>439554934</td>\n",
       "      <td>9.780440e+12</td>\n",
       "      <td>eng</td>\n",
       "      <td>1997.0</td>\n",
       "      <td>Harry Potter and the Philosopher's Stone</td>\n",
       "      <td>...</td>\n",
       "      <td>75504</td>\n",
       "      <td>101676</td>\n",
       "      <td>455024</td>\n",
       "      <td>1156318</td>\n",
       "      <td>3011543</td>\n",
       "      <td>4602479</td>\n",
       "      <td>Harry Potter and the Sorcerer's Stone (Harry P...</td>\n",
       "      <td>4640799</td>\n",
       "      <td>4800065</td>\n",
       "      <td>75867</td>\n",
       "    </tr>\n",
       "    <tr>\n",
       "      <th>2</th>\n",
       "      <td>[Stephenie Meyer]</td>\n",
       "      <td>3.57</td>\n",
       "      <td>41865</td>\n",
       "      <td>226</td>\n",
       "      <td>[young-adult, fantasy, romance, fiction, paran...</td>\n",
       "      <td>316015849</td>\n",
       "      <td>9.780316e+12</td>\n",
       "      <td>eng</td>\n",
       "      <td>2005.0</td>\n",
       "      <td>Twilight</td>\n",
       "      <td>...</td>\n",
       "      <td>456191</td>\n",
       "      <td>436802</td>\n",
       "      <td>793319</td>\n",
       "      <td>875073</td>\n",
       "      <td>1355439</td>\n",
       "      <td>3866839</td>\n",
       "      <td>Twilight (Twilight, #1)</td>\n",
       "      <td>3212258</td>\n",
       "      <td>3916824</td>\n",
       "      <td>95009</td>\n",
       "    </tr>\n",
       "    <tr>\n",
       "      <th>3</th>\n",
       "      <td>[Harper Lee]</td>\n",
       "      <td>4.25</td>\n",
       "      <td>2657</td>\n",
       "      <td>487</td>\n",
       "      <td>[classics, fiction, historical-fiction, young-...</td>\n",
       "      <td>61120081</td>\n",
       "      <td>9.780061e+12</td>\n",
       "      <td>eng</td>\n",
       "      <td>1960.0</td>\n",
       "      <td>To Kill a Mockingbird</td>\n",
       "      <td>...</td>\n",
       "      <td>60427</td>\n",
       "      <td>117415</td>\n",
       "      <td>446835</td>\n",
       "      <td>1001952</td>\n",
       "      <td>1714267</td>\n",
       "      <td>3198671</td>\n",
       "      <td>To Kill a Mockingbird</td>\n",
       "      <td>3275794</td>\n",
       "      <td>3340896</td>\n",
       "      <td>72586</td>\n",
       "    </tr>\n",
       "    <tr>\n",
       "      <th>4</th>\n",
       "      <td>[F. Scott Fitzgerald]</td>\n",
       "      <td>3.89</td>\n",
       "      <td>4671</td>\n",
       "      <td>1356</td>\n",
       "      <td>[classics, fiction, historical-fiction, romance]</td>\n",
       "      <td>743273567</td>\n",
       "      <td>9.780743e+12</td>\n",
       "      <td>eng</td>\n",
       "      <td>1925.0</td>\n",
       "      <td>The Great Gatsby</td>\n",
       "      <td>...</td>\n",
       "      <td>86236</td>\n",
       "      <td>197621</td>\n",
       "      <td>606158</td>\n",
       "      <td>936012</td>\n",
       "      <td>947718</td>\n",
       "      <td>2683664</td>\n",
       "      <td>The Great Gatsby</td>\n",
       "      <td>245494</td>\n",
       "      <td>2773745</td>\n",
       "      <td>51992</td>\n",
       "    </tr>\n",
       "  </tbody>\n",
       "</table>\n",
       "<p>5 rows × 22 columns</p>\n",
       "</div>"
      ],
      "text/plain": [
       "                         authors  average_rating  book_id  books_count  \\\n",
       "0              [Suzanne Collins]            4.34  2767052          272   \n",
       "1  [J.K. Rowling, Mary GrandPré]            4.44        3          491   \n",
       "2              [Stephenie Meyer]            3.57    41865          226   \n",
       "3                   [Harper Lee]            4.25     2657          487   \n",
       "4          [F. Scott Fitzgerald]            3.89     4671         1356   \n",
       "\n",
       "                                              genres       isbn        isbn13  \\\n",
       "0  [young-adult, fiction, fantasy, science-fictio...  439023483  9.780439e+12   \n",
       "1          [fantasy, fiction, young-adult, classics]  439554934  9.780440e+12   \n",
       "2  [young-adult, fantasy, romance, fiction, paran...  316015849  9.780316e+12   \n",
       "3  [classics, fiction, historical-fiction, young-...   61120081  9.780061e+12   \n",
       "4   [classics, fiction, historical-fiction, romance]  743273567  9.780743e+12   \n",
       "\n",
       "  language_code  original_publication_year  \\\n",
       "0           eng                     2008.0   \n",
       "1           eng                     1997.0   \n",
       "2           eng                     2005.0   \n",
       "3           eng                     1960.0   \n",
       "4           eng                     1925.0   \n",
       "\n",
       "                             original_title  ...  ratings_1 ratings_2  \\\n",
       "0                          The Hunger Games  ...      66715    127936   \n",
       "1  Harry Potter and the Philosopher's Stone  ...      75504    101676   \n",
       "2                                  Twilight  ...     456191    436802   \n",
       "3                     To Kill a Mockingbird  ...      60427    117415   \n",
       "4                          The Great Gatsby  ...      86236    197621   \n",
       "\n",
       "   ratings_3  ratings_4  ratings_5  ratings_count  \\\n",
       "0     560092    1481305    2706317        4780653   \n",
       "1     455024    1156318    3011543        4602479   \n",
       "2     793319     875073    1355439        3866839   \n",
       "3     446835    1001952    1714267        3198671   \n",
       "4     606158     936012     947718        2683664   \n",
       "\n",
       "                                               title  work_id  \\\n",
       "0            The Hunger Games (The Hunger Games, #1)  2792775   \n",
       "1  Harry Potter and the Sorcerer's Stone (Harry P...  4640799   \n",
       "2                            Twilight (Twilight, #1)  3212258   \n",
       "3                              To Kill a Mockingbird  3275794   \n",
       "4                                   The Great Gatsby   245494   \n",
       "\n",
       "  work_ratings_count  work_text_reviews_count  \n",
       "0            4942365                   155254  \n",
       "1            4800065                    75867  \n",
       "2            3916824                    95009  \n",
       "3            3340896                    72586  \n",
       "4            2773745                    51992  \n",
       "\n",
       "[5 rows x 22 columns]"
      ]
     },
     "execution_count": 9,
     "metadata": {},
     "output_type": "execute_result"
    }
   ],
   "source": [
    "books_df.head()"
   ]
  },
  {
   "cell_type": "code",
   "execution_count": 10,
   "id": "b23ebb27-68d3-4556-88c0-398105ec83c0",
   "metadata": {
    "tags": []
   },
   "outputs": [
    {
     "name": "stdout",
     "output_type": "stream",
     "text": [
      "<class 'pandas.core.frame.DataFrame'>\n",
      "Int64Index: 9645 entries, 0 to 9999\n",
      "Data columns (total 22 columns):\n",
      " #   Column                     Non-Null Count  Dtype  \n",
      "---  ------                     --------------  -----  \n",
      " 0   authors                    9645 non-null   object \n",
      " 1   average_rating             9645 non-null   float64\n",
      " 2   book_id                    9645 non-null   int64  \n",
      " 3   books_count                9645 non-null   int64  \n",
      " 4   genres                     9645 non-null   object \n",
      " 5   isbn                       9026 non-null   object \n",
      " 6   isbn13                     9110 non-null   float64\n",
      " 7   language_code              9645 non-null   object \n",
      " 8   original_publication_year  9625 non-null   float64\n",
      " 9   original_title             9085 non-null   object \n",
      " 10  pages                      9576 non-null   float64\n",
      " 11  publishDate                9637 non-null   object \n",
      " 12  ratings_1                  9645 non-null   int64  \n",
      " 13  ratings_2                  9645 non-null   int64  \n",
      " 14  ratings_3                  9645 non-null   int64  \n",
      " 15  ratings_4                  9645 non-null   int64  \n",
      " 16  ratings_5                  9645 non-null   int64  \n",
      " 17  ratings_count              9645 non-null   int64  \n",
      " 18  title                      9645 non-null   object \n",
      " 19  work_id                    9645 non-null   int64  \n",
      " 20  work_ratings_count         9645 non-null   int64  \n",
      " 21  work_text_reviews_count    9645 non-null   int64  \n",
      "dtypes: float64(4), int64(11), object(7)\n",
      "memory usage: 1.7+ MB\n"
     ]
    }
   ],
   "source": [
    "books_df.info()"
   ]
  },
  {
   "cell_type": "code",
   "execution_count": 11,
   "id": "ad92c3fc-a716-4dc2-896f-129ab9272355",
   "metadata": {
    "tags": []
   },
   "outputs": [
    {
     "data": {
      "text/html": [
       "<div>\n",
       "<style scoped>\n",
       "    .dataframe tbody tr th:only-of-type {\n",
       "        vertical-align: middle;\n",
       "    }\n",
       "\n",
       "    .dataframe tbody tr th {\n",
       "        vertical-align: top;\n",
       "    }\n",
       "\n",
       "    .dataframe thead th {\n",
       "        text-align: right;\n",
       "    }\n",
       "</style>\n",
       "<table border=\"1\" class=\"dataframe\">\n",
       "  <thead>\n",
       "    <tr style=\"text-align: right;\">\n",
       "      <th></th>\n",
       "      <th>title</th>\n",
       "      <th>authors</th>\n",
       "      <th>average_rating</th>\n",
       "      <th>ratings_count</th>\n",
       "    </tr>\n",
       "  </thead>\n",
       "  <tbody>\n",
       "    <tr>\n",
       "      <th>0</th>\n",
       "      <td>The Hunger Games (The Hunger Games, #1)</td>\n",
       "      <td>[Suzanne Collins]</td>\n",
       "      <td>4.34</td>\n",
       "      <td>4780653</td>\n",
       "    </tr>\n",
       "    <tr>\n",
       "      <th>1</th>\n",
       "      <td>Harry Potter and the Sorcerer's Stone (Harry P...</td>\n",
       "      <td>[J.K. Rowling, Mary GrandPré]</td>\n",
       "      <td>4.44</td>\n",
       "      <td>4602479</td>\n",
       "    </tr>\n",
       "    <tr>\n",
       "      <th>2</th>\n",
       "      <td>Twilight (Twilight, #1)</td>\n",
       "      <td>[Stephenie Meyer]</td>\n",
       "      <td>3.57</td>\n",
       "      <td>3866839</td>\n",
       "    </tr>\n",
       "    <tr>\n",
       "      <th>3</th>\n",
       "      <td>To Kill a Mockingbird</td>\n",
       "      <td>[Harper Lee]</td>\n",
       "      <td>4.25</td>\n",
       "      <td>3198671</td>\n",
       "    </tr>\n",
       "    <tr>\n",
       "      <th>4</th>\n",
       "      <td>The Great Gatsby</td>\n",
       "      <td>[F. Scott Fitzgerald]</td>\n",
       "      <td>3.89</td>\n",
       "      <td>2683664</td>\n",
       "    </tr>\n",
       "    <tr>\n",
       "      <th>5</th>\n",
       "      <td>The Fault in Our Stars</td>\n",
       "      <td>[John Green]</td>\n",
       "      <td>4.26</td>\n",
       "      <td>2346404</td>\n",
       "    </tr>\n",
       "    <tr>\n",
       "      <th>6</th>\n",
       "      <td>The Hobbit</td>\n",
       "      <td>[J.R.R. Tolkien]</td>\n",
       "      <td>4.25</td>\n",
       "      <td>2071616</td>\n",
       "    </tr>\n",
       "    <tr>\n",
       "      <th>7</th>\n",
       "      <td>The Catcher in the Rye</td>\n",
       "      <td>[J.D. Salinger]</td>\n",
       "      <td>3.79</td>\n",
       "      <td>2044241</td>\n",
       "    </tr>\n",
       "    <tr>\n",
       "      <th>9</th>\n",
       "      <td>Pride and Prejudice</td>\n",
       "      <td>[Jane Austen]</td>\n",
       "      <td>4.24</td>\n",
       "      <td>2035490</td>\n",
       "    </tr>\n",
       "    <tr>\n",
       "      <th>8</th>\n",
       "      <td>Angels &amp; Demons  (Robert Langdon, #1)</td>\n",
       "      <td>[Dan Brown]</td>\n",
       "      <td>3.85</td>\n",
       "      <td>2001311</td>\n",
       "    </tr>\n",
       "    <tr>\n",
       "      <th>12</th>\n",
       "      <td>The Diary of a Young Girl</td>\n",
       "      <td>[Anne Frank, Eleanor Roosevelt, B.M. Mooyaart-...</td>\n",
       "      <td>4.10</td>\n",
       "      <td>1972666</td>\n",
       "    </tr>\n",
       "    <tr>\n",
       "      <th>8167</th>\n",
       "      <td>1984</td>\n",
       "      <td>[[George Orwell, Marcelo Pen, Erich Fromm, Ama...</td>\n",
       "      <td>4.14</td>\n",
       "      <td>1956832</td>\n",
       "    </tr>\n",
       "    <tr>\n",
       "      <th>11</th>\n",
       "      <td>Divergent (Divergent, #1)</td>\n",
       "      <td>[Veronica Roth]</td>\n",
       "      <td>4.24</td>\n",
       "      <td>1903563</td>\n",
       "    </tr>\n",
       "    <tr>\n",
       "      <th>8168</th>\n",
       "      <td>Animal Farm</td>\n",
       "      <td>[[George Orwell, Boris Grabnar, Celâl Üster, C...</td>\n",
       "      <td>3.87</td>\n",
       "      <td>1881700</td>\n",
       "    </tr>\n",
       "    <tr>\n",
       "      <th>15</th>\n",
       "      <td>Harry Potter and the Prisoner of Azkaban (Harr...</td>\n",
       "      <td>[J.K. Rowling, Mary GrandPré, Rufus Beck]</td>\n",
       "      <td>4.53</td>\n",
       "      <td>1832823</td>\n",
       "    </tr>\n",
       "    <tr>\n",
       "      <th>14</th>\n",
       "      <td>Catching Fire (The Hunger Games, #2)</td>\n",
       "      <td>[Suzanne Collins]</td>\n",
       "      <td>4.30</td>\n",
       "      <td>1831039</td>\n",
       "    </tr>\n",
       "    <tr>\n",
       "      <th>10</th>\n",
       "      <td>The Kite Runner</td>\n",
       "      <td>[Khaled Hosseini]</td>\n",
       "      <td>4.26</td>\n",
       "      <td>1813044</td>\n",
       "    </tr>\n",
       "    <tr>\n",
       "      <th>13</th>\n",
       "      <td>The Girl with the Dragon Tattoo (Millennium, #1)</td>\n",
       "      <td>[Stieg Larsson, Reg Keeland]</td>\n",
       "      <td>4.11</td>\n",
       "      <td>1808403</td>\n",
       "    </tr>\n",
       "    <tr>\n",
       "      <th>19</th>\n",
       "      <td>Harry Potter and the Chamber of Secrets (Harry...</td>\n",
       "      <td>[J.K. Rowling, Mary GrandPré]</td>\n",
       "      <td>4.37</td>\n",
       "      <td>1779331</td>\n",
       "    </tr>\n",
       "    <tr>\n",
       "      <th>8169</th>\n",
       "      <td>The Fellowship of the Ring (The Lord of the Ri...</td>\n",
       "      <td>[[J.R.R. Tolkien, Francis Ledoux, Maria Skibni...</td>\n",
       "      <td>4.34</td>\n",
       "      <td>1766803</td>\n",
       "    </tr>\n",
       "  </tbody>\n",
       "</table>\n",
       "</div>"
      ],
      "text/plain": [
       "                                                  title  \\\n",
       "0               The Hunger Games (The Hunger Games, #1)   \n",
       "1     Harry Potter and the Sorcerer's Stone (Harry P...   \n",
       "2                               Twilight (Twilight, #1)   \n",
       "3                                 To Kill a Mockingbird   \n",
       "4                                      The Great Gatsby   \n",
       "5                                The Fault in Our Stars   \n",
       "6                                            The Hobbit   \n",
       "7                                The Catcher in the Rye   \n",
       "9                                   Pride and Prejudice   \n",
       "8                 Angels & Demons  (Robert Langdon, #1)   \n",
       "12                            The Diary of a Young Girl   \n",
       "8167                                               1984   \n",
       "11                            Divergent (Divergent, #1)   \n",
       "8168                                        Animal Farm   \n",
       "15    Harry Potter and the Prisoner of Azkaban (Harr...   \n",
       "14                 Catching Fire (The Hunger Games, #2)   \n",
       "10                                      The Kite Runner   \n",
       "13     The Girl with the Dragon Tattoo (Millennium, #1)   \n",
       "19    Harry Potter and the Chamber of Secrets (Harry...   \n",
       "8169  The Fellowship of the Ring (The Lord of the Ri...   \n",
       "\n",
       "                                                authors  average_rating  \\\n",
       "0                                     [Suzanne Collins]            4.34   \n",
       "1                         [J.K. Rowling, Mary GrandPré]            4.44   \n",
       "2                                     [Stephenie Meyer]            3.57   \n",
       "3                                          [Harper Lee]            4.25   \n",
       "4                                 [F. Scott Fitzgerald]            3.89   \n",
       "5                                          [John Green]            4.26   \n",
       "6                                      [J.R.R. Tolkien]            4.25   \n",
       "7                                       [J.D. Salinger]            3.79   \n",
       "9                                         [Jane Austen]            4.24   \n",
       "8                                           [Dan Brown]            3.85   \n",
       "12    [Anne Frank, Eleanor Roosevelt, B.M. Mooyaart-...            4.10   \n",
       "8167  [[George Orwell, Marcelo Pen, Erich Fromm, Ama...            4.14   \n",
       "11                                      [Veronica Roth]            4.24   \n",
       "8168  [[George Orwell, Boris Grabnar, Celâl Üster, C...            3.87   \n",
       "15            [J.K. Rowling, Mary GrandPré, Rufus Beck]            4.53   \n",
       "14                                    [Suzanne Collins]            4.30   \n",
       "10                                    [Khaled Hosseini]            4.26   \n",
       "13                         [Stieg Larsson, Reg Keeland]            4.11   \n",
       "19                        [J.K. Rowling, Mary GrandPré]            4.37   \n",
       "8169  [[J.R.R. Tolkien, Francis Ledoux, Maria Skibni...            4.34   \n",
       "\n",
       "      ratings_count  \n",
       "0           4780653  \n",
       "1           4602479  \n",
       "2           3866839  \n",
       "3           3198671  \n",
       "4           2683664  \n",
       "5           2346404  \n",
       "6           2071616  \n",
       "7           2044241  \n",
       "9           2035490  \n",
       "8           2001311  \n",
       "12          1972666  \n",
       "8167        1956832  \n",
       "11          1903563  \n",
       "8168        1881700  \n",
       "15          1832823  \n",
       "14          1831039  \n",
       "10          1813044  \n",
       "13          1808403  \n",
       "19          1779331  \n",
       "8169        1766803  "
      ]
     },
     "execution_count": 11,
     "metadata": {},
     "output_type": "execute_result"
    }
   ],
   "source": [
    "# most rated books\n",
    "books_df.sort_values('ratings_count', ascending = False)[[\"title\",\"authors\",\"average_rating\", \"ratings_count\"]].iloc[0:20]"
   ]
  },
  {
   "cell_type": "code",
   "execution_count": 12,
   "id": "aa04fe26-e515-4add-8f7c-03f80fa7863b",
   "metadata": {
    "tags": []
   },
   "outputs": [],
   "source": [
    "# authors of top 100 rated books\n",
    "top_100 = books_df.sort_values(['average_rating'], ascending = False).iloc[0:100,:]\n",
    "\n",
    "# transform authors to list and get top 15 authors that appear in top 100 books\n",
    "authors_top_100 = pd.Series([x for item in top_100['authors'] for x in item]).value_counts().to_frame('counts').reset_index()\n",
    "authors_top_100 = authors_top_100.iloc[0:15,:]"
   ]
  },
  {
   "cell_type": "code",
   "execution_count": 13,
   "id": "b6637dc6-06d6-413c-a3fb-4c2d353906a5",
   "metadata": {
    "tags": []
   },
   "outputs": [],
   "source": [
    "sns.set_style('darkgrid')\n",
    "sns.set_palette('cividis')"
   ]
  },
  {
   "cell_type": "code",
   "execution_count": 14,
   "id": "46aa5352-f540-48a3-a336-f5dbda7004c1",
   "metadata": {
    "tags": []
   },
   "outputs": [
    {
     "data": {
      "image/png": "[encoded data removed]",
      "text/plain": [
       "<Figure size 640x480 with 1 Axes>"
      ]
     },
     "metadata": {},
     "output_type": "display_data"
    }
   ],
   "source": [
    "ax = sns.histplot(data=books_df, x=\"average_rating\", bins=20)\n",
    "ax.set_title(\"Distribution of Book Ratings\")\n",
    "ax.set_xlabel(\"Average Rating\")\n",
    "ax.set_ylabel(\"Number of books\")\n",
    "plt.show()"
   ]
  },
  {
   "cell_type": "code",
   "execution_count": 15,
   "id": "942a2fcd-5e1a-46cc-ae63-0627469945c0",
   "metadata": {
    "tags": []
   },
   "outputs": [
    {
     "data": {
      "image/png": "[encoded data removed]",
      "text/plain": [
       "<Figure size 640x480 with 1 Axes>"
      ]
     },
     "metadata": {},
     "output_type": "display_data"
    }
   ],
   "source": [
    "temp_books = pd.DataFrame()\n",
    "temp_books[\"ratings_count_log\"]=np.log(books_df.ratings_count)\n",
    "ax = sns.histplot(data = temp_books, x = \"ratings_count_log\")\n",
    "ax.set_title(\"Distribution of Book Ratings Count\")\n",
    "ax.set_xlabel(\"Log of number of ratings\")\n",
    "ax.set_ylabel(\"NUmber of books\")\n",
    "sns.despine()\n",
    "plt.show()"
   ]
  },
  {
   "cell_type": "code",
   "execution_count": 16,
   "id": "71c21660-cd21-48ef-ac55-765b14f04321",
   "metadata": {
    "tags": []
   },
   "outputs": [
    {
     "data": {
      "text/plain": [
       "<AxesSubplot:title={'center':'Scatterplot of average book rating vs number of ratings'}, xlabel='ratings_count', ylabel='average_rating'>"
      ]
     },
     "execution_count": 16,
     "metadata": {},
     "output_type": "execute_result"
    },
    {
     "data": {
      "image/png": "[encoded data removed]",
      "text/plain": [
       "<Figure size 640x480 with 1 Axes>"
      ]
     },
     "metadata": {},
     "output_type": "display_data"
    }
   ],
   "source": [
    "ax = sns.scatterplot(data = books_df, x = \"ratings_count\", y = \"average_rating\")\n",
    "ax.set(xlim=(0, 1000000))\n",
    "ax.set_title(\"Scatterplot of average book rating vs number of ratings\")\n",
    "ax.set_xlabel(\"Number of ratings\")\n",
    "ax.set_ylabel(\"Rating\")\n",
    "ax.xaxis.set_major_formatter(ticker.FuncFormatter(lambda x, pos: f'{(x/1000000)}M'))\n",
    "sns.regplot(data=books_df, x=\"ratings_count\", y=\"average_rating\", scatter=False, color='r')"
   ]
  },
  {
   "cell_type": "code",
   "execution_count": 17,
   "id": "57db7863-42d6-4968-856c-e03a2bdbc12e",
   "metadata": {
    "tags": []
   },
   "outputs": [
    {
     "data": {
      "image/png": "[encoded data removed]",
      "text/plain": [
       "<Figure size 640x480 with 2 Axes>"
      ]
     },
     "metadata": {},
     "output_type": "display_data"
    }
   ],
   "source": [
    "columns_to_plot = ['average_rating', 'ratings_count']\n",
    "fig, axes = plt.subplots(ncols=len(columns_to_plot))\n",
    "for column, axis in zip(columns_to_plot, axes):\n",
    "    if column == 'ratings_count':\n",
    "        sns.boxplot(data=books_df[column], ax=axis).set(ylim=(0, 100000))\n",
    "        axis.set_title('Number of ratings')\n",
    "    else:\n",
    "        sns.boxplot(data=books_df[column], ax=axis)\n",
    "        axis.set_title('Average rating')\n",
    "plt.tight_layout()\n",
    "plt.show()"
   ]
  },
  {
   "cell_type": "markdown",
   "id": "30d0a579-c246-453b-99b7-f0fd56c88df2",
   "metadata": {},
   "source": [
    "### Ratings"
   ]
  },
  {
   "cell_type": "code",
   "execution_count": 18,
   "id": "d030d7a9-8202-40e6-9438-649032f54860",
   "metadata": {
    "tags": []
   },
   "outputs": [],
   "source": [
    "ratings_df = pd.read_csv('reviews_updated2.csv')"
   ]
  },
  {
   "cell_type": "code",
   "execution_count": 19,
   "id": "12723574-241e-4d5f-addf-c8112bc121b2",
   "metadata": {
    "tags": []
   },
   "outputs": [],
   "source": [
    "# remove index column\n",
    "ratings_df = ratings_df.drop(columns=[\"Unnamed: 0\"])"
   ]
  },
  {
   "cell_type": "code",
   "execution_count": 20,
   "id": "b3b3ceb7-a7dc-4180-99c6-187834131f69",
   "metadata": {
    "tags": []
   },
   "outputs": [],
   "source": [
    "# convert date to timestamp, and keep only the date\n",
    "ratings_df[\"date_added\"] = pd.to_datetime(ratings_df.date_added, format='%Y/%m/%d', utc = True)\n",
    "ratings_df[\"date_added\"] = ratings_df.date_added.dt.date\n"
   ]
  },
  {
   "cell_type": "code",
   "execution_count": 21,
   "id": "6c77e996-fb7d-4f9e-b819-dc301b7c2804",
   "metadata": {
    "tags": []
   },
   "outputs": [
    {
     "name": "stderr",
     "output_type": "stream",
     "text": [
      "/home/eddous/.local/lib/python3.8/site-packages/pandas/core/ops/array_ops.py:73: FutureWarning: Comparison of Timestamp with datetime.date is deprecated in order to match the standard library behavior. In a future version these will be considered non-comparable. Use 'ts == pd.Timestamp(date)' or 'ts.date() == date' instead.\n",
      "  result = libops.scalar_compare(x.ravel(), y, op)\n"
     ]
    }
   ],
   "source": [
    "# filter out reviews preceding goodreads site\n",
    "ratings_df = ratings_df[ratings_df.date_added >= pd.Timestamp(year=2000, month=1, day=1)]"
   ]
  },
  {
   "cell_type": "code",
   "execution_count": 22,
   "id": "fc4b4765-e618-4292-965d-f9649be3f656",
   "metadata": {
    "tags": []
   },
   "outputs": [],
   "source": [
    "# filter out books with low number of reviews\n",
    "book_review_counts = ratings_df.groupby('book_id').count()\n",
    "popular_books = book_review_counts[book_review_counts['user_id'] > 10].index.tolist()\n",
    "ratings_df = ratings_df[ratings_df['book_id'].isin(popular_books)]"
   ]
  },
  {
   "cell_type": "code",
   "execution_count": 23,
   "id": "b7b4047d-feae-48c4-91d5-6e3b7dc84c50",
   "metadata": {
    "tags": []
   },
   "outputs": [],
   "source": [
    "# remove the books not in our dataframe\n",
    "ratings_df = ratings_df[ratings_df.book_id.isin(books_df.book_id)]"
   ]
  },
  {
   "cell_type": "code",
   "execution_count": 24,
   "id": "a2bf02f0-373c-4e77-876d-70c217b5cf0c",
   "metadata": {
    "tags": []
   },
   "outputs": [
    {
     "data": {
      "text/html": [
       "<div>\n",
       "<style scoped>\n",
       "    .dataframe tbody tr th:only-of-type {\n",
       "        vertical-align: middle;\n",
       "    }\n",
       "\n",
       "    .dataframe tbody tr th {\n",
       "        vertical-align: top;\n",
       "    }\n",
       "\n",
       "    .dataframe thead th {\n",
       "        text-align: right;\n",
       "    }\n",
       "</style>\n",
       "<table border=\"1\" class=\"dataframe\">\n",
       "  <thead>\n",
       "    <tr style=\"text-align: right;\">\n",
       "      <th></th>\n",
       "      <th>user_id</th>\n",
       "      <th>book_id</th>\n",
       "      <th>rating</th>\n",
       "      <th>date_added</th>\n",
       "    </tr>\n",
       "  </thead>\n",
       "  <tbody>\n",
       "    <tr>\n",
       "      <th>0</th>\n",
       "      <td>8842281e1d1347389f2ab93d60773d4d</td>\n",
       "      <td>16981</td>\n",
       "      <td>3</td>\n",
       "      <td>2016-12-05</td>\n",
       "    </tr>\n",
       "    <tr>\n",
       "      <th>1</th>\n",
       "      <td>8842281e1d1347389f2ab93d60773d4d</td>\n",
       "      <td>27161156</td>\n",
       "      <td>0</td>\n",
       "      <td>2016-11-10</td>\n",
       "    </tr>\n",
       "    <tr>\n",
       "      <th>2</th>\n",
       "      <td>8842281e1d1347389f2ab93d60773d4d</td>\n",
       "      <td>4866</td>\n",
       "      <td>0</td>\n",
       "      <td>2015-08-19</td>\n",
       "    </tr>\n",
       "    <tr>\n",
       "      <th>3</th>\n",
       "      <td>8842281e1d1347389f2ab93d60773d4d</td>\n",
       "      <td>23158207</td>\n",
       "      <td>3</td>\n",
       "      <td>2015-07-29</td>\n",
       "    </tr>\n",
       "    <tr>\n",
       "      <th>4</th>\n",
       "      <td>8842281e1d1347389f2ab93d60773d4d</td>\n",
       "      <td>22318578</td>\n",
       "      <td>5</td>\n",
       "      <td>2015-06-07</td>\n",
       "    </tr>\n",
       "  </tbody>\n",
       "</table>\n",
       "</div>"
      ],
      "text/plain": [
       "                            user_id   book_id  rating  date_added\n",
       "0  8842281e1d1347389f2ab93d60773d4d     16981       3  2016-12-05\n",
       "1  8842281e1d1347389f2ab93d60773d4d  27161156       0  2016-11-10\n",
       "2  8842281e1d1347389f2ab93d60773d4d      4866       0  2015-08-19\n",
       "3  8842281e1d1347389f2ab93d60773d4d  23158207       3  2015-07-29\n",
       "4  8842281e1d1347389f2ab93d60773d4d  22318578       5  2015-06-07"
      ]
     },
     "execution_count": 24,
     "metadata": {},
     "output_type": "execute_result"
    }
   ],
   "source": [
    "ratings_df.head()"
   ]
  },
  {
   "cell_type": "code",
   "execution_count": 25,
   "id": "63173189-6ec7-423f-97db-6cda3e0379da",
   "metadata": {
    "tags": []
   },
   "outputs": [
    {
     "name": "stdout",
     "output_type": "stream",
     "text": [
      "<class 'pandas.core.frame.DataFrame'>\n",
      "Int64Index: 4437044 entries, 0 to 4522468\n",
      "Data columns (total 4 columns):\n",
      " #   Column      Dtype \n",
      "---  ------      ----- \n",
      " 0   user_id     object\n",
      " 1   book_id     int64 \n",
      " 2   rating      int64 \n",
      " 3   date_added  object\n",
      "dtypes: int64(2), object(2)\n",
      "memory usage: 169.3+ MB\n"
     ]
    }
   ],
   "source": [
    "ratings_df.info()"
   ]
  },
  {
   "cell_type": "code",
   "execution_count": 26,
   "id": "9e67afcf-3a7a-4863-acda-bdc6d2f1473e",
   "metadata": {
    "tags": []
   },
   "outputs": [
    {
     "data": {
      "text/plain": [
       "348604"
      ]
     },
     "execution_count": 26,
     "metadata": {},
     "output_type": "execute_result"
    }
   ],
   "source": [
    "len(ratings_df[\"user_id\"].unique())"
   ]
  },
  {
   "cell_type": "markdown",
   "id": "5a98afad-c827-4c0a-9725-d7d52f5b494a",
   "metadata": {},
   "source": [
    "~35k users"
   ]
  },
  {
   "cell_type": "code",
   "execution_count": 27,
   "id": "ee0c40cc-3765-4766-a90f-2b960b2234b1",
   "metadata": {
    "tags": []
   },
   "outputs": [
    {
     "data": {
      "text/html": [
       "<div>\n",
       "<style scoped>\n",
       "    .dataframe tbody tr th:only-of-type {\n",
       "        vertical-align: middle;\n",
       "    }\n",
       "\n",
       "    .dataframe tbody tr th {\n",
       "        vertical-align: top;\n",
       "    }\n",
       "\n",
       "    .dataframe thead th {\n",
       "        text-align: right;\n",
       "    }\n",
       "</style>\n",
       "<table border=\"1\" class=\"dataframe\">\n",
       "  <thead>\n",
       "    <tr style=\"text-align: right;\">\n",
       "      <th></th>\n",
       "      <th>rating</th>\n",
       "    </tr>\n",
       "  </thead>\n",
       "  <tbody>\n",
       "    <tr>\n",
       "      <th>count</th>\n",
       "      <td>4.437044e+06</td>\n",
       "    </tr>\n",
       "    <tr>\n",
       "      <th>mean</th>\n",
       "      <td>3.835721e+00</td>\n",
       "    </tr>\n",
       "    <tr>\n",
       "      <th>std</th>\n",
       "      <td>1.236423e+00</td>\n",
       "    </tr>\n",
       "    <tr>\n",
       "      <th>min</th>\n",
       "      <td>0.000000e+00</td>\n",
       "    </tr>\n",
       "    <tr>\n",
       "      <th>25%</th>\n",
       "      <td>3.000000e+00</td>\n",
       "    </tr>\n",
       "    <tr>\n",
       "      <th>50%</th>\n",
       "      <td>4.000000e+00</td>\n",
       "    </tr>\n",
       "    <tr>\n",
       "      <th>75%</th>\n",
       "      <td>5.000000e+00</td>\n",
       "    </tr>\n",
       "    <tr>\n",
       "      <th>max</th>\n",
       "      <td>5.000000e+00</td>\n",
       "    </tr>\n",
       "  </tbody>\n",
       "</table>\n",
       "</div>"
      ],
      "text/plain": [
       "             rating\n",
       "count  4.437044e+06\n",
       "mean   3.835721e+00\n",
       "std    1.236423e+00\n",
       "min    0.000000e+00\n",
       "25%    3.000000e+00\n",
       "50%    4.000000e+00\n",
       "75%    5.000000e+00\n",
       "max    5.000000e+00"
      ]
     },
     "execution_count": 27,
     "metadata": {},
     "output_type": "execute_result"
    }
   ],
   "source": [
    "ratings_df[[\"rating\"]].describe()"
   ]
  },
  {
   "cell_type": "code",
   "execution_count": 28,
   "id": "5bec1ffa-7ed1-4843-a801-32efeca18f5f",
   "metadata": {
    "tags": []
   },
   "outputs": [
    {
     "data": {
      "text/plain": [
       "user_id\n",
       "00000377eea48021d3002730d56aca9a     2\n",
       "00009e46d18f223a82b22da38586b605    90\n",
       "0000c3d51aa099745e93a4e99c4856c8    66\n",
       "000157a6f8331e9c9a21252e1fee91d1    29\n",
       "0001703a0a5e1ca65d06b7487907d3e6     1\n",
       "Name: book_id, dtype: int64"
      ]
     },
     "execution_count": 28,
     "metadata": {},
     "output_type": "execute_result"
    }
   ],
   "source": [
    "ratings_df.groupby('user_id')['book_id'].count().head()"
   ]
  },
  {
   "cell_type": "code",
   "execution_count": 29,
   "id": "488d7844-25bf-4e8d-ae37-6d23b9ad248c",
   "metadata": {
    "tags": []
   },
   "outputs": [
    {
     "data": {
      "text/plain": [
       "Text(0.5, 1.0, 'Number of ratings by user')"
      ]
     },
     "execution_count": 29,
     "metadata": {},
     "output_type": "execute_result"
    },
    {
     "data": {
      "image/png": "[encoded data removed]",
      "text/plain": [
       "<Figure size 640x480 with 1 Axes>"
      ]
     },
     "metadata": {},
     "output_type": "display_data"
    }
   ],
   "source": [
    "ax = sns.boxplot(y=ratings_df.groupby('user_id')['book_id'].count(), orient=\"v\")\n",
    "ax.set_ylim(0, 100)\n",
    "ax.set_ylabel(\"Number of ratings\")\n",
    "ax.set_title(\"Number of ratings by user\")"
   ]
  },
  {
   "cell_type": "markdown",
   "id": "986749d9-4bef-4a39-af24-f706c93eb444",
   "metadata": {
    "tags": []
   },
   "source": [
    "### Other tables\n",
    "Don't know if these will be needed for our purpose:\n",
    "- **tags** - Shelf name (genre) and count of the books in that shelf\n",
    "- **book_tags** - Shelves with the count for each book\n",
    "- **to_read** - books to read for user"
   ]
  },
  {
   "cell_type": "code",
   "execution_count": 30,
   "id": "430bd348-1637-4471-ae1a-195f7e320874",
   "metadata": {
    "tags": []
   },
   "outputs": [],
   "source": [
    "tags_df = pd.read_csv('https://raw.githubusercontent.com/malcolmosh/goodbooks-10k/master/tags.csv')"
   ]
  },
  {
   "cell_type": "code",
   "execution_count": 31,
   "id": "e608f64f-d6df-4686-a3ff-55083352c5a1",
   "metadata": {
    "tags": []
   },
   "outputs": [],
   "source": [
    "book_tags_df = pd.read_csv('https://raw.githubusercontent.com/malcolmosh/goodbooks-10k/master/book_tags.csv')"
   ]
  },
  {
   "cell_type": "code",
   "execution_count": 32,
   "id": "ce1375c9-4562-4971-9a22-85fbdc7c4104",
   "metadata": {
    "tags": []
   },
   "outputs": [],
   "source": [
    "to_read_df = pd.read_csv('https://raw.githubusercontent.com/malcolmosh/goodbooks-10k/master/to_read.csv')"
   ]
  },
  {
   "cell_type": "markdown",
   "id": "a4736835-034e-4db6-bb7c-a541eb817c3b",
   "metadata": {},
   "source": [
    "## Splits"
   ]
  },
  {
   "cell_type": "code",
   "execution_count": 34,
   "id": "d27df6ab-3c73-4979-8fd3-f22d7d112d3d",
   "metadata": {
    "tags": []
   },
   "outputs": [],
   "source": [
    "train, test = train_test_split(ratings_df.sort_values(by='date_added'), test_size=0.2, shuffle = False)\n",
    "# pivot_table = train.pivot(index='user_id', columns='book_id', values='rating')\n",
    "# matrix = pivot_table.to_numpy()"
   ]
  },
  {
   "cell_type": "code",
   "execution_count": 35,
   "id": "be2d891e-ba34-45eb-ae5b-0556d6182086",
   "metadata": {
    "tags": []
   },
   "outputs": [
    {
     "data": {
      "text/plain": [
       "291356"
      ]
     },
     "execution_count": 35,
     "metadata": {},
     "output_type": "execute_result"
    }
   ],
   "source": [
    "len(train.user_id.unique())"
   ]
  },
  {
   "cell_type": "markdown",
   "id": "fba2b233-f561-473d-b2ad-dd4e4b416db1",
   "metadata": {},
   "source": [
    "## Naive Baseline"
   ]
  },
  {
   "cell_type": "code",
   "execution_count": null,
   "id": "629c467f-a4ec-4f1f-80ec-62f82fda07bf",
   "metadata": {
    "tags": []
   },
   "outputs": [],
   "source": [
    "import math\n",
    "\n",
    "mean = train.groupby('book_id').mean()\n",
    "id_score_dict = mean['rating'].to_dict()\n",
    "\n",
    "sum = 0\n",
    "n = 0\n",
    "for index, row in test.iterrows():\n",
    "    id = row['book_id']\n",
    "    if id in id_score_dict:\n",
    "        sum += (row['rating'] - id_score_dict[id])**2\n",
    "        n += 1\n",
    "\n",
    "math.sqrt(sum/n)"
   ]
  },
  {
   "cell_type": "code",
   "execution_count": null,
   "id": "66fa8954-345d-44c7-8629-c5947ce72c54",
   "metadata": {},
   "outputs": [],
   "source": []
  }
 ],
 "metadata": {
  "kernelspec": {
   "display_name": "Python 3 (ipykernel)",
   "language": "python",
   "name": "python3"
  },
  "language_info": {
   "codemirror_mode": {
    "name": "ipython",
    "version": 3
   },
   "file_extension": ".py",
   "mimetype": "text/x-python",
   "name": "python",
   "nbconvert_exporter": "python",
   "pygments_lexer": "ipython3",
   "version": "3.8.10"
  }
 },
 "nbformat": 4,
 "nbformat_minor": 5
}
