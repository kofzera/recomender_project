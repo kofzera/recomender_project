{
 "cells": [
  {
   "cell_type": "markdown",
   "id": "0a2fde9d-b654-488c-802f-fc0f88d5e1e5",
   "metadata": {},
   "source": [
    "# Goodreads books recommender system"
   ]
  },
  {
   "cell_type": "markdown",
   "id": "c29267f7-639f-4e65-a109-e0587ec06e2d",
   "metadata": {
    "tags": []
   },
   "source": [
    "## Preprocessing"
   ]
  },
  {
   "cell_type": "code",
   "execution_count": null,
   "id": "c15d5ea1-75cc-4e3a-ae93-383730556d30",
   "metadata": {
    "tags": []
   },
   "outputs": [],
   "source": [
    "import pandas as pd\n",
    "import numpy as np\n",
    "import seaborn as sns\n",
    "import matplotlib.pyplot as plt\n",
    "import gc\n",
    "from ast import literal_eval\n",
    "import matplotlib.ticker as ticker\n",
    "from sklearn.model_selection import train_test_split"
   ]
  },
  {
   "cell_type": "markdown",
   "id": "c3279500-3bda-4322-954f-d577d7e67bf4",
   "metadata": {},
   "source": [
    "### Books"
   ]
  },
  {
   "cell_type": "markdown",
   "id": "c94fc1a8-8f48-49a6-990c-2590a85c3097",
   "metadata": {},
   "source": [
    "#### Cleaning"
   ]
  },
  {
   "cell_type": "code",
   "execution_count": null,
   "id": "dd289523-6bb9-4ee7-9b67-d61ba5362909",
   "metadata": {
    "tags": []
   },
   "outputs": [],
   "source": [
    "books_df = pd.read_csv('https://raw.githubusercontent.com/malcolmosh/goodbooks-10k/master/books_enriched.csv', index_col=[0], converters={\"genres\": literal_eval})"
   ]
  },
  {
   "cell_type": "code",
   "execution_count": null,
   "id": "537ad703-bfa8-4d56-b120-c27d50c59a94",
   "metadata": {
    "tags": []
   },
   "outputs": [],
   "source": [
    "# use goodreads book id instead of the arbitrary id\n",
    "books_df[\"book_id\"] = books_df.goodreads_book_id"
   ]
  },
  {
   "cell_type": "code",
   "execution_count": null,
   "id": "6fc35df2-3d16-4dd5-9e81-029e91c78dbe",
   "metadata": {
    "tags": []
   },
   "outputs": [],
   "source": [
    "# Dropping unneeded columns\n",
    "books_df = books_df.drop(columns=[\"description\", \"image_url\", \"small_image_url\", \"index\", \"authors_2\", \"best_book_id\", \"goodreads_book_id\"], errors = 'ignore')"
   ]
  },
  {
   "cell_type": "code",
   "execution_count": null,
   "id": "fb5ed9ab-165b-4f2e-834d-218486124765",
   "metadata": {
    "tags": []
   },
   "outputs": [],
   "source": [
    "genres = set(books_df[\"genres\"].explode())\n",
    "genres"
   ]
  },
  {
   "cell_type": "code",
   "execution_count": null,
   "id": "8657ab0c-efa7-4cec-9178-7537fb8aa813",
   "metadata": {
    "tags": []
   },
   "outputs": [],
   "source": [
    "# Keep only english books.\n",
    "books_df = books_df[books_df.language_code == 'eng']"
   ]
  },
  {
   "cell_type": "code",
   "execution_count": null,
   "id": "1d0571e6-b661-4485-b721-0f2947e7902e",
   "metadata": {
    "tags": []
   },
   "outputs": [],
   "source": [
    "# drop books with duplicated title\n",
    "books_df = books_df.drop_duplicates(subset = ['title'])"
   ]
  },
  {
   "cell_type": "code",
   "execution_count": null,
   "id": "ce5ed7b0-e69e-4f56-87c9-37ff0dccf89d",
   "metadata": {
    "tags": []
   },
   "outputs": [],
   "source": [
    "# transform list columns to list\n",
    "books_df['authors'] = books_df['authors'].apply(lambda x: x.strip('[]').replace(\"'\",\"\").split(\", \"))"
   ]
  },
  {
   "cell_type": "markdown",
   "id": "6c6f5985-fd74-4549-9ce5-a755223e4dd7",
   "metadata": {
    "tags": []
   },
   "source": [
    "#### EDA"
   ]
  },
  {
   "cell_type": "code",
   "execution_count": null,
   "id": "261781e9-e149-49a2-af65-637f51f4bd49",
   "metadata": {
    "tags": []
   },
   "outputs": [],
   "source": [
    "books_df.head()"
   ]
  },
  {
   "cell_type": "code",
   "execution_count": null,
   "id": "b23ebb27-68d3-4556-88c0-398105ec83c0",
   "metadata": {
    "tags": []
   },
   "outputs": [],
   "source": [
    "books_df.info()"
   ]
  },
  {
   "cell_type": "code",
   "execution_count": null,
   "id": "ad92c3fc-a716-4dc2-896f-129ab9272355",
   "metadata": {
    "tags": []
   },
   "outputs": [],
   "source": [
    "# most rated books\n",
    "books_df.sort_values('ratings_count', ascending = False)[[\"title\",\"authors\",\"average_rating\", \"ratings_count\"]].iloc[0:20]"
   ]
  },
  {
   "cell_type": "code",
   "execution_count": null,
   "id": "aa04fe26-e515-4add-8f7c-03f80fa7863b",
   "metadata": {
    "tags": []
   },
   "outputs": [],
   "source": [
    "# authors of top 100 rated books\n",
    "top_100 = books_df.sort_values(['average_rating'], ascending = False).iloc[0:100,:]\n",
    "\n",
    "# transform authors to list and get top 15 authors that appear in top 100 books\n",
    "authors_top_100 = pd.Series([x for item in top_100['authors'] for x in item]).value_counts().to_frame('counts').reset_index()\n",
    "authors_top_100 = authors_top_100.iloc[0:15,:]"
   ]
  },
  {
   "cell_type": "code",
   "execution_count": null,
   "id": "b6637dc6-06d6-413c-a3fb-4c2d353906a5",
   "metadata": {
    "tags": []
   },
   "outputs": [],
   "source": [
    "sns.set_style('darkgrid')\n",
    "sns.set_palette('cividis')"
   ]
  },
  {
   "cell_type": "code",
   "execution_count": null,
   "id": "46aa5352-f540-48a3-a336-f5dbda7004c1",
   "metadata": {
    "tags": []
   },
   "outputs": [],
   "source": [
    "ax = sns.histplot(data=books_df, x=\"average_rating\", bins=20)\n",
    "ax.set_title(\"Distribution of Book Ratings\")\n",
    "ax.set_xlabel(\"Average Rating\")\n",
    "ax.set_ylabel(\"Number of books\")\n",
    "plt.show()"
   ]
  },
  {
   "cell_type": "code",
   "execution_count": null,
   "id": "942a2fcd-5e1a-46cc-ae63-0627469945c0",
   "metadata": {
    "tags": []
   },
   "outputs": [],
   "source": [
    "temp_books = pd.DataFrame()\n",
    "temp_books[\"ratings_count_log\"]=np.log(books_df.ratings_count)\n",
    "ax = sns.histplot(data = temp_books, x = \"ratings_count_log\")\n",
    "ax.set_title(\"Distribution of Book Ratings Count\")\n",
    "ax.set_xlabel(\"Log of number of ratings\")\n",
    "ax.set_ylabel(\"NUmber of books\")\n",
    "sns.despine()\n",
    "plt.show()"
   ]
  },
  {
   "cell_type": "code",
   "execution_count": null,
   "id": "71c21660-cd21-48ef-ac55-765b14f04321",
   "metadata": {
    "tags": []
   },
   "outputs": [],
   "source": [
    "ax = sns.scatterplot(data = books_df, x = \"ratings_count\", y = \"average_rating\")\n",
    "ax.set(xlim=(0, 1000000))\n",
    "ax.set_title(\"Scatterplot of average book rating vs number of ratings\")\n",
    "ax.set_xlabel(\"Number of ratings\")\n",
    "ax.set_ylabel(\"Rating\")\n",
    "ax.xaxis.set_major_formatter(ticker.FuncFormatter(lambda x, pos: f'{(x/1000000)}M'))\n",
    "sns.regplot(data=books_df, x=\"ratings_count\", y=\"average_rating\", scatter=False, color='r')"
   ]
  },
  {
   "cell_type": "code",
   "execution_count": null,
   "id": "57db7863-42d6-4968-856c-e03a2bdbc12e",
   "metadata": {
    "tags": []
   },
   "outputs": [],
   "source": [
    "columns_to_plot = ['average_rating', 'ratings_count']\n",
    "fig, axes = plt.subplots(ncols=len(columns_to_plot))\n",
    "for column, axis in zip(columns_to_plot, axes):\n",
    "    if column == 'ratings_count':\n",
    "        sns.boxplot(data=books_df[column], ax=axis).set(ylim=(0, 100000))\n",
    "        axis.set_title('Number of ratings')\n",
    "    else:\n",
    "        sns.boxplot(data=books_df[column], ax=axis)\n",
    "        axis.set_title('Average rating')\n",
    "plt.tight_layout()\n",
    "plt.show()"
   ]
  },
  {
   "cell_type": "markdown",
   "id": "30d0a579-c246-453b-99b7-f0fd56c88df2",
   "metadata": {},
   "source": [
    "### Ratings"
   ]
  },
  {
   "cell_type": "code",
   "execution_count": null,
   "id": "d030d7a9-8202-40e6-9438-649032f54860",
   "metadata": {
    "tags": []
   },
   "outputs": [],
   "source": [
    "ratings_df = pd.read_csv('reviews_updated2.csv')"
   ]
  },
  {
   "cell_type": "code",
   "execution_count": null,
   "id": "12723574-241e-4d5f-addf-c8112bc121b2",
   "metadata": {
    "tags": []
   },
   "outputs": [],
   "source": [
    "# remove index column\n",
    "ratings_df = ratings_df.drop(columns=[\"Unnamed: 0\"])"
   ]
  },
  {
   "cell_type": "code",
   "execution_count": null,
   "id": "b894c52c-6ccf-477c-8a46-809e5f7de5f4",
   "metadata": {
    "tags": []
   },
   "outputs": [],
   "source": [
    "ratings_df.head()"
   ]
  },
  {
   "cell_type": "code",
   "execution_count": null,
   "id": "63173189-6ec7-423f-97db-6cda3e0379da",
   "metadata": {
    "tags": []
   },
   "outputs": [],
   "source": [
    "ratings_df.info()"
   ]
  },
  {
   "cell_type": "code",
   "execution_count": null,
   "id": "9e67afcf-3a7a-4863-acda-bdc6d2f1473e",
   "metadata": {
    "tags": []
   },
   "outputs": [],
   "source": [
    "len(ratings_df[\"user_id\"].unique())"
   ]
  },
  {
   "cell_type": "markdown",
   "id": "5a98afad-c827-4c0a-9725-d7d52f5b494a",
   "metadata": {},
   "source": [
    "~35k users"
   ]
  },
  {
   "cell_type": "code",
   "execution_count": null,
   "id": "ee0c40cc-3765-4766-a90f-2b960b2234b1",
   "metadata": {
    "tags": []
   },
   "outputs": [],
   "source": [
    "ratings_df[[\"rating\"]].describe()"
   ]
  },
  {
   "cell_type": "code",
   "execution_count": null,
   "id": "5bec1ffa-7ed1-4843-a801-32efeca18f5f",
   "metadata": {
    "tags": []
   },
   "outputs": [],
   "source": [
    "ratings_df.groupby('user_id')['book_id'].count().head()"
   ]
  },
  {
   "cell_type": "code",
   "execution_count": null,
   "id": "488d7844-25bf-4e8d-ae37-6d23b9ad248c",
   "metadata": {
    "tags": []
   },
   "outputs": [],
   "source": [
    "ax = sns.boxplot(y=ratings_df.groupby('user_id')['book_id'].count(), orient=\"v\")\n",
    "ax.set_ylim(0, 100)\n",
    "ax.set_ylabel(\"Number of ratings\")\n",
    "ax.set_title(\"Number of ratings by user\")"
   ]
  },
  {
   "cell_type": "markdown",
   "id": "986749d9-4bef-4a39-af24-f706c93eb444",
   "metadata": {
    "jp-MarkdownHeadingCollapsed": true,
    "tags": []
   },
   "source": [
    "### Other tables\n",
    "Don't know if these will be needed for our purpose:\n",
    "- **tags** - Shelf name (genre) and count of the books in that shelf\n",
    "- **book_tags** - Shelves with the count for each book\n",
    "- **to_read** - books to read for user"
   ]
  },
  {
   "cell_type": "code",
   "execution_count": null,
   "id": "430bd348-1637-4471-ae1a-195f7e320874",
   "metadata": {
    "tags": []
   },
   "outputs": [],
   "source": [
    "tags_df = pd.read_csv('https://raw.githubusercontent.com/malcolmosh/goodbooks-10k/master/tags.csv')"
   ]
  },
  {
   "cell_type": "code",
   "execution_count": null,
   "id": "e608f64f-d6df-4686-a3ff-55083352c5a1",
   "metadata": {
    "tags": []
   },
   "outputs": [],
   "source": [
    "book_tags_df = pd.read_csv('https://raw.githubusercontent.com/malcolmosh/goodbooks-10k/master/book_tags.csv')"
   ]
  },
  {
   "cell_type": "code",
   "execution_count": null,
   "id": "ce1375c9-4562-4971-9a22-85fbdc7c4104",
   "metadata": {
    "tags": []
   },
   "outputs": [],
   "source": [
    "to_read_df = pd.read_csv('https://raw.githubusercontent.com/malcolmosh/goodbooks-10k/master/to_read.csv')"
   ]
  },
  {
   "cell_type": "markdown",
   "id": "a4736835-034e-4db6-bb7c-a541eb817c3b",
   "metadata": {},
   "source": [
    "## Splits\n",
    "\n",
    "there is no temporal data about the reviews, hence random is the best we can do... (I think)"
   ]
  },
  {
   "cell_type": "code",
   "execution_count": null,
   "id": "d27df6ab-3c73-4979-8fd3-f22d7d112d3d",
   "metadata": {
    "tags": []
   },
   "outputs": [],
   "source": [
    "train, test = train_test_split(ratings_df, test_size=0.2)\n",
    "pivot_table = train.pivot_table(index='user_id', columns='book_id', values='rating')\n",
    "matrix = pivot_table.to_numpy()"
   ]
  },
  {
   "cell_type": "markdown",
   "id": "fba2b233-f561-473d-b2ad-dd4e4b416db1",
   "metadata": {},
   "source": [
    "## Naive Baseline\n",
    "\n",
    "fills the gaps with median"
   ]
  },
  {
   "cell_type": "code",
   "execution_count": null,
   "id": "0b51b914-0003-4638-9c9c-644e19d90a99",
   "metadata": {
    "tags": []
   },
   "outputs": [],
   "source": [
    "def naive(matrix):\n",
    "    medians = []\n",
    "    for i in range(matrix.shape[1]):\n",
    "        medians.append(np.nanmedian(matrix[:,i]))\n",
    "    \n",
    "    medians = []\n",
    "    for i in range(matrix.shape[1]):\n",
    "        medians.append(np.nanmedian(matrix[:,i]))\n",
    "    medians = np.array(medians)\n",
    "    \n",
    "    for i,row in enumerate(matrix):\n",
    "        matrix[i][np.isnan(row)] = medians[np.isnan(row)]\n",
    "    return matrix"
   ]
  },
  {
   "cell_type": "markdown",
   "id": "770a7710-7f2c-49ec-8b63-e8d309068aba",
   "metadata": {
    "tags": []
   },
   "source": [
    "## Testing\n",
    "\n",
    "dummy testing function, because it will change based on how the new data will look like"
   ]
  },
  {
   "cell_type": "code",
   "execution_count": null,
   "id": "24bfbf3d-c07a-4cd2-872c-bb4e96b117ea",
   "metadata": {},
   "outputs": [],
   "source": [
    "def evaluate(matrix):\n",
    "    return 10"
   ]
  },
  {
   "cell_type": "code",
   "execution_count": null,
   "id": "a28e719f-04cf-43ce-b0c7-d2611de42e64",
   "metadata": {
    "tags": []
   },
   "outputs": [],
   "source": [
    "evaluate(naive(matrix.copy()))\n"
   ]
  }
 ],
 "metadata": {
  "kernelspec": {
   "display_name": "Python 3 (ipykernel)",
   "language": "python",
   "name": "python3"
  },
  "language_info": {
   "codemirror_mode": {
    "name": "ipython",
    "version": 3
   },
   "file_extension": ".py",
   "mimetype": "text/x-python",
   "name": "python",
   "nbconvert_exporter": "python",
   "pygments_lexer": "ipython3",
   "version": "3.10.10"
  }
 },
 "nbformat": 4,
 "nbformat_minor": 5
}
