{
 "cells": [
  {
   "cell_type": "markdown",
   "id": "0a2fde9d-b654-488c-802f-fc0f88d5e1e5",
   "metadata": {},
   "source": [
    "# Goodreads books recommender system"
   ]
  },
  {
   "cell_type": "markdown",
   "id": "c29267f7-639f-4e65-a109-e0587ec06e2d",
   "metadata": {
    "tags": []
   },
   "source": [
    "## Preprocessing"
   ]
  },
  {
   "cell_type": "code",
   "execution_count": 7,
   "id": "c15d5ea1-75cc-4e3a-ae93-383730556d30",
   "metadata": {
    "tags": []
   },
   "outputs": [],
   "source": [
    "import pandas as pd\n",
    "import numpy as np\n",
    "import seaborn as sns\n",
    "from ast import literal_eval"
   ]
  },
  {
   "cell_type": "markdown",
   "id": "c3279500-3bda-4322-954f-d577d7e67bf4",
   "metadata": {},
   "source": [
    "### Books"
   ]
  },
  {
   "cell_type": "markdown",
   "id": "c94fc1a8-8f48-49a6-990c-2590a85c3097",
   "metadata": {},
   "source": [
    "#### Cleaning"
   ]
  },
  {
   "cell_type": "code",
   "execution_count": 8,
   "id": "dd289523-6bb9-4ee7-9b67-d61ba5362909",
   "metadata": {
    "tags": []
   },
   "outputs": [],
   "source": [
    "books_df = pd.read_csv('https://raw.githubusercontent.com/malcolmosh/goodbooks-10k/master/books_enriched.csv', index_col=[0], converters={\"genres\": literal_eval})"
   ]
  },
  {
   "cell_type": "code",
   "execution_count": 16,
   "id": "6fc35df2-3d16-4dd5-9e81-029e91c78dbe",
   "metadata": {
    "tags": []
   },
   "outputs": [],
   "source": [
    "# Dropping unneeded columns\n",
    "books_df = books_df.drop(columns=[\"description\", \"image_url\", \"small_image_url\", \"index\", \"authors_2\"])"
   ]
  },
  {
   "cell_type": "code",
   "execution_count": 49,
   "id": "fb5ed9ab-165b-4f2e-834d-218486124765",
   "metadata": {
    "collapsed": true,
    "jupyter": {
     "outputs_hidden": true
    },
    "tags": []
   },
   "outputs": [
    {
     "data": {
      "text/plain": [
       "{'art',\n",
       " 'biography',\n",
       " 'books',\n",
       " 'business',\n",
       " 'chick-lit',\n",
       " 'christian',\n",
       " 'classics',\n",
       " 'comics',\n",
       " 'contemporary',\n",
       " 'cookbooks',\n",
       " 'crime',\n",
       " 'fantasy',\n",
       " 'fiction',\n",
       " 'gay-and-lesbian',\n",
       " 'graphic-novels',\n",
       " 'historical-fiction',\n",
       " 'history',\n",
       " 'horror',\n",
       " 'humor-and-comedy',\n",
       " 'manga',\n",
       " 'memoir',\n",
       " 'music',\n",
       " 'mystery',\n",
       " 'nonfiction',\n",
       " 'paranormal',\n",
       " 'philosophy',\n",
       " 'poetry',\n",
       " 'psychology',\n",
       " 'religion',\n",
       " 'romance',\n",
       " 'science',\n",
       " 'science-fiction',\n",
       " 'self-help',\n",
       " 'spirituality',\n",
       " 'sports',\n",
       " 'suspense',\n",
       " 'thriller',\n",
       " 'travel',\n",
       " 'young-adult'}"
      ]
     },
     "execution_count": 49,
     "metadata": {},
     "output_type": "execute_result"
    }
   ],
   "source": [
    "set(books_df[\"genres\"].explode())"
   ]
  },
  {
   "cell_type": "code",
   "execution_count": 52,
   "id": "8657ab0c-efa7-4cec-9178-7537fb8aa813",
   "metadata": {
    "tags": []
   },
   "outputs": [],
   "source": [
    "# Keep only english books.\n",
    "books_df = books_df[books_df.language_code == 'eng']"
   ]
  },
  {
   "cell_type": "code",
   "execution_count": 54,
   "id": "1d0571e6-b661-4485-b721-0f2947e7902e",
   "metadata": {
    "tags": []
   },
   "outputs": [],
   "source": [
    "# drop books with duplicated title\n",
    "books_df = books_df.drop_duplicates(subset = ['title'])"
   ]
  },
  {
   "cell_type": "code",
   "execution_count": null,
   "id": "ce5ed7b0-e69e-4f56-87c9-37ff0dccf89d",
   "metadata": {
    "tags": []
   },
   "outputs": [],
   "source": [
    "#transform list columns to list\n",
    "books_df['authors'] = books_df['authors'].apply(lambda x: x.strip('[]').replace(\"'\",\"\").split(\", \"))\n",
    "books_df['genres'] = books_df['genres'].apply(lambda x: x.strip('[]').replace(\"'\",\"\").split(\", \"))"
   ]
  },
  {
   "cell_type": "markdown",
   "id": "6c6f5985-fd74-4549-9ce5-a755223e4dd7",
   "metadata": {
    "tags": []
   },
   "source": [
    "#### EDA"
   ]
  },
  {
   "cell_type": "code",
   "execution_count": 68,
   "id": "261781e9-e149-49a2-af65-637f51f4bd49",
   "metadata": {
    "tags": []
   },
   "outputs": [
    {
     "data": {
      "text/html": [
       "<div>\n",
       "<style scoped>\n",
       "    .dataframe tbody tr th:only-of-type {\n",
       "        vertical-align: middle;\n",
       "    }\n",
       "\n",
       "    .dataframe tbody tr th {\n",
       "        vertical-align: top;\n",
       "    }\n",
       "\n",
       "    .dataframe thead th {\n",
       "        text-align: right;\n",
       "    }\n",
       "</style>\n",
       "<table border=\"1\" class=\"dataframe\">\n",
       "  <thead>\n",
       "    <tr style=\"text-align: right;\">\n",
       "      <th></th>\n",
       "      <th>authors</th>\n",
       "      <th>average_rating</th>\n",
       "      <th>best_book_id</th>\n",
       "      <th>book_id</th>\n",
       "      <th>books_count</th>\n",
       "      <th>genres</th>\n",
       "      <th>goodreads_book_id</th>\n",
       "      <th>isbn</th>\n",
       "      <th>isbn13</th>\n",
       "      <th>language_code</th>\n",
       "      <th>...</th>\n",
       "      <th>ratings_3</th>\n",
       "      <th>ratings_4</th>\n",
       "      <th>ratings_5</th>\n",
       "      <th>ratings_count</th>\n",
       "      <th>small_image_url</th>\n",
       "      <th>title</th>\n",
       "      <th>work_id</th>\n",
       "      <th>work_ratings_count</th>\n",
       "      <th>work_text_reviews_count</th>\n",
       "      <th>authors_2</th>\n",
       "    </tr>\n",
       "  </thead>\n",
       "  <tbody>\n",
       "    <tr>\n",
       "      <th>0</th>\n",
       "      <td>[Suzanne Collins]</td>\n",
       "      <td>4.34</td>\n",
       "      <td>2767052</td>\n",
       "      <td>1</td>\n",
       "      <td>272</td>\n",
       "      <td>[young-adult, fiction, fantasy, science-fictio...</td>\n",
       "      <td>2767052</td>\n",
       "      <td>439023483</td>\n",
       "      <td>9.780439e+12</td>\n",
       "      <td>eng</td>\n",
       "      <td>...</td>\n",
       "      <td>560092</td>\n",
       "      <td>1481305</td>\n",
       "      <td>2706317</td>\n",
       "      <td>4780653</td>\n",
       "      <td>https://images.gr-assets.com/books/1447303603s...</td>\n",
       "      <td>The Hunger Games (The Hunger Games, #1)</td>\n",
       "      <td>2792775</td>\n",
       "      <td>4942365</td>\n",
       "      <td>155254</td>\n",
       "      <td>['Suzanne Collins']</td>\n",
       "    </tr>\n",
       "    <tr>\n",
       "      <th>1</th>\n",
       "      <td>[J.K. Rowling, Mary GrandPré]</td>\n",
       "      <td>4.44</td>\n",
       "      <td>3</td>\n",
       "      <td>2</td>\n",
       "      <td>491</td>\n",
       "      <td>[fantasy, fiction, young-adult, classics]</td>\n",
       "      <td>3</td>\n",
       "      <td>439554934</td>\n",
       "      <td>9.780440e+12</td>\n",
       "      <td>eng</td>\n",
       "      <td>...</td>\n",
       "      <td>455024</td>\n",
       "      <td>1156318</td>\n",
       "      <td>3011543</td>\n",
       "      <td>4602479</td>\n",
       "      <td>https://images.gr-assets.com/books/1474154022s...</td>\n",
       "      <td>Harry Potter and the Sorcerer's Stone (Harry P...</td>\n",
       "      <td>4640799</td>\n",
       "      <td>4800065</td>\n",
       "      <td>75867</td>\n",
       "      <td>['J.K. Rowling', 'Mary GrandPré']</td>\n",
       "    </tr>\n",
       "    <tr>\n",
       "      <th>2</th>\n",
       "      <td>[Stephenie Meyer]</td>\n",
       "      <td>3.57</td>\n",
       "      <td>41865</td>\n",
       "      <td>3</td>\n",
       "      <td>226</td>\n",
       "      <td>[young-adult, fantasy, romance, fiction, paran...</td>\n",
       "      <td>41865</td>\n",
       "      <td>316015849</td>\n",
       "      <td>9.780316e+12</td>\n",
       "      <td>eng</td>\n",
       "      <td>...</td>\n",
       "      <td>793319</td>\n",
       "      <td>875073</td>\n",
       "      <td>1355439</td>\n",
       "      <td>3866839</td>\n",
       "      <td>https://images.gr-assets.com/books/1361039443s...</td>\n",
       "      <td>Twilight (Twilight, #1)</td>\n",
       "      <td>3212258</td>\n",
       "      <td>3916824</td>\n",
       "      <td>95009</td>\n",
       "      <td>['Stephenie Meyer']</td>\n",
       "    </tr>\n",
       "    <tr>\n",
       "      <th>3</th>\n",
       "      <td>[Harper Lee]</td>\n",
       "      <td>4.25</td>\n",
       "      <td>2657</td>\n",
       "      <td>4</td>\n",
       "      <td>487</td>\n",
       "      <td>[classics, fiction, historical-fiction, young-...</td>\n",
       "      <td>2657</td>\n",
       "      <td>61120081</td>\n",
       "      <td>9.780061e+12</td>\n",
       "      <td>eng</td>\n",
       "      <td>...</td>\n",
       "      <td>446835</td>\n",
       "      <td>1001952</td>\n",
       "      <td>1714267</td>\n",
       "      <td>3198671</td>\n",
       "      <td>https://images.gr-assets.com/books/1361975680s...</td>\n",
       "      <td>To Kill a Mockingbird</td>\n",
       "      <td>3275794</td>\n",
       "      <td>3340896</td>\n",
       "      <td>72586</td>\n",
       "      <td>['Harper Lee']</td>\n",
       "    </tr>\n",
       "    <tr>\n",
       "      <th>4</th>\n",
       "      <td>[F. Scott Fitzgerald]</td>\n",
       "      <td>3.89</td>\n",
       "      <td>4671</td>\n",
       "      <td>5</td>\n",
       "      <td>1356</td>\n",
       "      <td>[classics, fiction, historical-fiction, romance]</td>\n",
       "      <td>4671</td>\n",
       "      <td>743273567</td>\n",
       "      <td>9.780743e+12</td>\n",
       "      <td>eng</td>\n",
       "      <td>...</td>\n",
       "      <td>606158</td>\n",
       "      <td>936012</td>\n",
       "      <td>947718</td>\n",
       "      <td>2683664</td>\n",
       "      <td>https://images.gr-assets.com/books/1490528560s...</td>\n",
       "      <td>The Great Gatsby</td>\n",
       "      <td>245494</td>\n",
       "      <td>2773745</td>\n",
       "      <td>51992</td>\n",
       "      <td>['F. Scott Fitzgerald']</td>\n",
       "    </tr>\n",
       "  </tbody>\n",
       "</table>\n",
       "<p>5 rows × 26 columns</p>\n",
       "</div>"
      ],
      "text/plain": [
       "                         authors  average_rating  best_book_id  book_id  \\\n",
       "0              [Suzanne Collins]            4.34       2767052        1   \n",
       "1  [J.K. Rowling, Mary GrandPré]            4.44             3        2   \n",
       "2              [Stephenie Meyer]            3.57         41865        3   \n",
       "3                   [Harper Lee]            4.25          2657        4   \n",
       "4          [F. Scott Fitzgerald]            3.89          4671        5   \n",
       "\n",
       "   books_count                                             genres  \\\n",
       "0          272  [young-adult, fiction, fantasy, science-fictio...   \n",
       "1          491          [fantasy, fiction, young-adult, classics]   \n",
       "2          226  [young-adult, fantasy, romance, fiction, paran...   \n",
       "3          487  [classics, fiction, historical-fiction, young-...   \n",
       "4         1356   [classics, fiction, historical-fiction, romance]   \n",
       "\n",
       "   goodreads_book_id       isbn        isbn13 language_code  ...  ratings_3  \\\n",
       "0            2767052  439023483  9.780439e+12           eng  ...     560092   \n",
       "1                  3  439554934  9.780440e+12           eng  ...     455024   \n",
       "2              41865  316015849  9.780316e+12           eng  ...     793319   \n",
       "3               2657   61120081  9.780061e+12           eng  ...     446835   \n",
       "4               4671  743273567  9.780743e+12           eng  ...     606158   \n",
       "\n",
       "  ratings_4  ratings_5 ratings_count  \\\n",
       "0   1481305    2706317       4780653   \n",
       "1   1156318    3011543       4602479   \n",
       "2    875073    1355439       3866839   \n",
       "3   1001952    1714267       3198671   \n",
       "4    936012     947718       2683664   \n",
       "\n",
       "                                     small_image_url  \\\n",
       "0  https://images.gr-assets.com/books/1447303603s...   \n",
       "1  https://images.gr-assets.com/books/1474154022s...   \n",
       "2  https://images.gr-assets.com/books/1361039443s...   \n",
       "3  https://images.gr-assets.com/books/1361975680s...   \n",
       "4  https://images.gr-assets.com/books/1490528560s...   \n",
       "\n",
       "                                               title  work_id  \\\n",
       "0            The Hunger Games (The Hunger Games, #1)  2792775   \n",
       "1  Harry Potter and the Sorcerer's Stone (Harry P...  4640799   \n",
       "2                            Twilight (Twilight, #1)  3212258   \n",
       "3                              To Kill a Mockingbird  3275794   \n",
       "4                                   The Great Gatsby   245494   \n",
       "\n",
       "   work_ratings_count  work_text_reviews_count  \\\n",
       "0             4942365                   155254   \n",
       "1             4800065                    75867   \n",
       "2             3916824                    95009   \n",
       "3             3340896                    72586   \n",
       "4             2773745                    51992   \n",
       "\n",
       "                           authors_2  \n",
       "0                ['Suzanne Collins']  \n",
       "1  ['J.K. Rowling', 'Mary GrandPré']  \n",
       "2                ['Stephenie Meyer']  \n",
       "3                     ['Harper Lee']  \n",
       "4            ['F. Scott Fitzgerald']  \n",
       "\n",
       "[5 rows x 26 columns]"
      ]
     },
     "execution_count": 68,
     "metadata": {},
     "output_type": "execute_result"
    }
   ],
   "source": [
    "books_df.head()"
   ]
  },
  {
   "cell_type": "code",
   "execution_count": 69,
   "id": "b23ebb27-68d3-4556-88c0-398105ec83c0",
   "metadata": {
    "tags": []
   },
   "outputs": [
    {
     "name": "stdout",
     "output_type": "stream",
     "text": [
      "<class 'pandas.core.frame.DataFrame'>\n",
      "Int64Index: 9645 entries, 0 to 9999\n",
      "Data columns (total 26 columns):\n",
      " #   Column                     Non-Null Count  Dtype  \n",
      "---  ------                     --------------  -----  \n",
      " 0   authors                    9645 non-null   object \n",
      " 1   average_rating             9645 non-null   float64\n",
      " 2   best_book_id               9645 non-null   int64  \n",
      " 3   book_id                    9645 non-null   int64  \n",
      " 4   books_count                9645 non-null   int64  \n",
      " 5   genres                     9645 non-null   object \n",
      " 6   goodreads_book_id          9645 non-null   int64  \n",
      " 7   isbn                       9026 non-null   object \n",
      " 8   isbn13                     9110 non-null   float64\n",
      " 9   language_code              9645 non-null   object \n",
      " 10  original_publication_year  9625 non-null   float64\n",
      " 11  original_title             9085 non-null   object \n",
      " 12  pages                      9576 non-null   float64\n",
      " 13  publishDate                9637 non-null   object \n",
      " 14  ratings_1                  9645 non-null   int64  \n",
      " 15  ratings_2                  9645 non-null   int64  \n",
      " 16  ratings_3                  9645 non-null   int64  \n",
      " 17  ratings_4                  9645 non-null   int64  \n",
      " 18  ratings_5                  9645 non-null   int64  \n",
      " 19  ratings_count              9645 non-null   int64  \n",
      " 20  small_image_url            9645 non-null   object \n",
      " 21  title                      9645 non-null   object \n",
      " 22  work_id                    9645 non-null   int64  \n",
      " 23  work_ratings_count         9645 non-null   int64  \n",
      " 24  work_text_reviews_count    9645 non-null   int64  \n",
      " 25  authors_2                  9645 non-null   object \n",
      "dtypes: float64(4), int64(13), object(9)\n",
      "memory usage: 2.0+ MB\n"
     ]
    }
   ],
   "source": [
    "books_df.info()"
   ]
  },
  {
   "cell_type": "code",
   "execution_count": 66,
   "id": "ad92c3fc-a716-4dc2-896f-129ab9272355",
   "metadata": {
    "tags": []
   },
   "outputs": [
    {
     "data": {
      "text/html": [
       "<div>\n",
       "<style scoped>\n",
       "    .dataframe tbody tr th:only-of-type {\n",
       "        vertical-align: middle;\n",
       "    }\n",
       "\n",
       "    .dataframe tbody tr th {\n",
       "        vertical-align: top;\n",
       "    }\n",
       "\n",
       "    .dataframe thead th {\n",
       "        text-align: right;\n",
       "    }\n",
       "</style>\n",
       "<table border=\"1\" class=\"dataframe\">\n",
       "  <thead>\n",
       "    <tr style=\"text-align: right;\">\n",
       "      <th></th>\n",
       "      <th>title</th>\n",
       "      <th>authors</th>\n",
       "      <th>average_rating</th>\n",
       "      <th>ratings_count</th>\n",
       "    </tr>\n",
       "  </thead>\n",
       "  <tbody>\n",
       "    <tr>\n",
       "      <th>0</th>\n",
       "      <td>The Hunger Games (The Hunger Games, #1)</td>\n",
       "      <td>['Suzanne Collins']</td>\n",
       "      <td>4.34</td>\n",
       "      <td>4780653</td>\n",
       "    </tr>\n",
       "    <tr>\n",
       "      <th>1</th>\n",
       "      <td>Harry Potter and the Sorcerer's Stone (Harry P...</td>\n",
       "      <td>['J.K. Rowling', 'Mary GrandPré']</td>\n",
       "      <td>4.44</td>\n",
       "      <td>4602479</td>\n",
       "    </tr>\n",
       "    <tr>\n",
       "      <th>2</th>\n",
       "      <td>Twilight (Twilight, #1)</td>\n",
       "      <td>['Stephenie Meyer']</td>\n",
       "      <td>3.57</td>\n",
       "      <td>3866839</td>\n",
       "    </tr>\n",
       "    <tr>\n",
       "      <th>3</th>\n",
       "      <td>To Kill a Mockingbird</td>\n",
       "      <td>['Harper Lee']</td>\n",
       "      <td>4.25</td>\n",
       "      <td>3198671</td>\n",
       "    </tr>\n",
       "    <tr>\n",
       "      <th>4</th>\n",
       "      <td>The Great Gatsby</td>\n",
       "      <td>['F. Scott Fitzgerald']</td>\n",
       "      <td>3.89</td>\n",
       "      <td>2683664</td>\n",
       "    </tr>\n",
       "    <tr>\n",
       "      <th>5</th>\n",
       "      <td>The Fault in Our Stars</td>\n",
       "      <td>['John Green']</td>\n",
       "      <td>4.26</td>\n",
       "      <td>2346404</td>\n",
       "    </tr>\n",
       "    <tr>\n",
       "      <th>6</th>\n",
       "      <td>The Hobbit</td>\n",
       "      <td>['J.R.R. Tolkien']</td>\n",
       "      <td>4.25</td>\n",
       "      <td>2071616</td>\n",
       "    </tr>\n",
       "    <tr>\n",
       "      <th>7</th>\n",
       "      <td>The Catcher in the Rye</td>\n",
       "      <td>['J.D. Salinger']</td>\n",
       "      <td>3.79</td>\n",
       "      <td>2044241</td>\n",
       "    </tr>\n",
       "    <tr>\n",
       "      <th>9</th>\n",
       "      <td>Pride and Prejudice</td>\n",
       "      <td>['Jane Austen']</td>\n",
       "      <td>4.24</td>\n",
       "      <td>2035490</td>\n",
       "    </tr>\n",
       "    <tr>\n",
       "      <th>8</th>\n",
       "      <td>Angels &amp; Demons  (Robert Langdon, #1)</td>\n",
       "      <td>['Dan Brown']</td>\n",
       "      <td>3.85</td>\n",
       "      <td>2001311</td>\n",
       "    </tr>\n",
       "    <tr>\n",
       "      <th>12</th>\n",
       "      <td>The Diary of a Young Girl</td>\n",
       "      <td>['Anne Frank', 'Eleanor Roosevelt', 'B.M. Mooy...</td>\n",
       "      <td>4.10</td>\n",
       "      <td>1972666</td>\n",
       "    </tr>\n",
       "    <tr>\n",
       "      <th>8167</th>\n",
       "      <td>1984</td>\n",
       "      <td>['[George Orwell', 'Marcelo Pen', 'Erich Fromm...</td>\n",
       "      <td>4.14</td>\n",
       "      <td>1956832</td>\n",
       "    </tr>\n",
       "    <tr>\n",
       "      <th>11</th>\n",
       "      <td>Divergent (Divergent, #1)</td>\n",
       "      <td>['Veronica Roth']</td>\n",
       "      <td>4.24</td>\n",
       "      <td>1903563</td>\n",
       "    </tr>\n",
       "    <tr>\n",
       "      <th>8168</th>\n",
       "      <td>Animal Farm</td>\n",
       "      <td>['[George Orwell', 'Boris Grabnar', 'Celâl Üst...</td>\n",
       "      <td>3.87</td>\n",
       "      <td>1881700</td>\n",
       "    </tr>\n",
       "    <tr>\n",
       "      <th>15</th>\n",
       "      <td>Harry Potter and the Prisoner of Azkaban (Harr...</td>\n",
       "      <td>['J.K. Rowling', 'Mary GrandPré', 'Rufus Beck']</td>\n",
       "      <td>4.53</td>\n",
       "      <td>1832823</td>\n",
       "    </tr>\n",
       "    <tr>\n",
       "      <th>14</th>\n",
       "      <td>Catching Fire (The Hunger Games, #2)</td>\n",
       "      <td>['Suzanne Collins']</td>\n",
       "      <td>4.30</td>\n",
       "      <td>1831039</td>\n",
       "    </tr>\n",
       "    <tr>\n",
       "      <th>10</th>\n",
       "      <td>The Kite Runner</td>\n",
       "      <td>['Khaled Hosseini']</td>\n",
       "      <td>4.26</td>\n",
       "      <td>1813044</td>\n",
       "    </tr>\n",
       "    <tr>\n",
       "      <th>13</th>\n",
       "      <td>The Girl with the Dragon Tattoo (Millennium, #1)</td>\n",
       "      <td>['Stieg Larsson', 'Reg Keeland']</td>\n",
       "      <td>4.11</td>\n",
       "      <td>1808403</td>\n",
       "    </tr>\n",
       "    <tr>\n",
       "      <th>19</th>\n",
       "      <td>Harry Potter and the Chamber of Secrets (Harry...</td>\n",
       "      <td>['J.K. Rowling', 'Mary GrandPré']</td>\n",
       "      <td>4.37</td>\n",
       "      <td>1779331</td>\n",
       "    </tr>\n",
       "    <tr>\n",
       "      <th>8169</th>\n",
       "      <td>The Fellowship of the Ring (The Lord of the Ri...</td>\n",
       "      <td>['[J.R.R. Tolkien', 'Francis Ledoux', 'Maria S...</td>\n",
       "      <td>4.34</td>\n",
       "      <td>1766803</td>\n",
       "    </tr>\n",
       "  </tbody>\n",
       "</table>\n",
       "</div>"
      ],
      "text/plain": [
       "                                                  title  \\\n",
       "0               The Hunger Games (The Hunger Games, #1)   \n",
       "1     Harry Potter and the Sorcerer's Stone (Harry P...   \n",
       "2                               Twilight (Twilight, #1)   \n",
       "3                                 To Kill a Mockingbird   \n",
       "4                                      The Great Gatsby   \n",
       "5                                The Fault in Our Stars   \n",
       "6                                            The Hobbit   \n",
       "7                                The Catcher in the Rye   \n",
       "9                                   Pride and Prejudice   \n",
       "8                 Angels & Demons  (Robert Langdon, #1)   \n",
       "12                            The Diary of a Young Girl   \n",
       "8167                                               1984   \n",
       "11                            Divergent (Divergent, #1)   \n",
       "8168                                        Animal Farm   \n",
       "15    Harry Potter and the Prisoner of Azkaban (Harr...   \n",
       "14                 Catching Fire (The Hunger Games, #2)   \n",
       "10                                      The Kite Runner   \n",
       "13     The Girl with the Dragon Tattoo (Millennium, #1)   \n",
       "19    Harry Potter and the Chamber of Secrets (Harry...   \n",
       "8169  The Fellowship of the Ring (The Lord of the Ri...   \n",
       "\n",
       "                                                authors  average_rating  \\\n",
       "0                                   ['Suzanne Collins']            4.34   \n",
       "1                     ['J.K. Rowling', 'Mary GrandPré']            4.44   \n",
       "2                                   ['Stephenie Meyer']            3.57   \n",
       "3                                        ['Harper Lee']            4.25   \n",
       "4                               ['F. Scott Fitzgerald']            3.89   \n",
       "5                                        ['John Green']            4.26   \n",
       "6                                    ['J.R.R. Tolkien']            4.25   \n",
       "7                                     ['J.D. Salinger']            3.79   \n",
       "9                                       ['Jane Austen']            4.24   \n",
       "8                                         ['Dan Brown']            3.85   \n",
       "12    ['Anne Frank', 'Eleanor Roosevelt', 'B.M. Mooy...            4.10   \n",
       "8167  ['[George Orwell', 'Marcelo Pen', 'Erich Fromm...            4.14   \n",
       "11                                    ['Veronica Roth']            4.24   \n",
       "8168  ['[George Orwell', 'Boris Grabnar', 'Celâl Üst...            3.87   \n",
       "15      ['J.K. Rowling', 'Mary GrandPré', 'Rufus Beck']            4.53   \n",
       "14                                  ['Suzanne Collins']            4.30   \n",
       "10                                  ['Khaled Hosseini']            4.26   \n",
       "13                     ['Stieg Larsson', 'Reg Keeland']            4.11   \n",
       "19                    ['J.K. Rowling', 'Mary GrandPré']            4.37   \n",
       "8169  ['[J.R.R. Tolkien', 'Francis Ledoux', 'Maria S...            4.34   \n",
       "\n",
       "      ratings_count  \n",
       "0           4780653  \n",
       "1           4602479  \n",
       "2           3866839  \n",
       "3           3198671  \n",
       "4           2683664  \n",
       "5           2346404  \n",
       "6           2071616  \n",
       "7           2044241  \n",
       "9           2035490  \n",
       "8           2001311  \n",
       "12          1972666  \n",
       "8167        1956832  \n",
       "11          1903563  \n",
       "8168        1881700  \n",
       "15          1832823  \n",
       "14          1831039  \n",
       "10          1813044  \n",
       "13          1808403  \n",
       "19          1779331  \n",
       "8169        1766803  "
      ]
     },
     "execution_count": 66,
     "metadata": {},
     "output_type": "execute_result"
    }
   ],
   "source": [
    "# most rated books\n",
    "books_df.sort_values('ratings_count', ascending = False)[[\"title\",\"authors\",\"average_rating\", \"ratings_count\"]].iloc[0:20]"
   ]
  },
  {
   "cell_type": "code",
   "execution_count": 67,
   "id": "aa04fe26-e515-4add-8f7c-03f80fa7863b",
   "metadata": {
    "tags": []
   },
   "outputs": [],
   "source": [
    "#most popular authors\n",
    "\n",
    "\n",
    "#authors of top 100 rated books\n",
    "top_100 = books_df.sort_values(['average_rating'], ascending = False).iloc[0:100,:]\n",
    "\n",
    "# transform authors to list and get top 15 authors that appear in top 100 books\n",
    "authors_top_100 = pd.Series([x for item in top_100['authors'] for x in item]).value_counts().to_frame('counts').reset_index()\n",
    "authors_top_100 = authors_top_100.iloc[0:15,:]"
   ]
  },
  {
   "cell_type": "code",
   "execution_count": null,
   "id": "b6637dc6-06d6-413c-a3fb-4c2d353906a5",
   "metadata": {},
   "outputs": [],
   "source": []
  },
  {
   "cell_type": "markdown",
   "id": "30d0a579-c246-453b-99b7-f0fd56c88df2",
   "metadata": {},
   "source": [
    "### Ratings"
   ]
  },
  {
   "cell_type": "code",
   "execution_count": 18,
   "id": "d030d7a9-8202-40e6-9438-649032f54860",
   "metadata": {
    "tags": []
   },
   "outputs": [],
   "source": [
    "ratings_df = pd.read_csv('https://raw.githubusercontent.com/malcolmosh/goodbooks-10k/master/ratings.csv')"
   ]
  },
  {
   "cell_type": "code",
   "execution_count": 23,
   "id": "b894c52c-6ccf-477c-8a46-809e5f7de5f4",
   "metadata": {
    "tags": []
   },
   "outputs": [
    {
     "data": {
      "text/html": [
       "<div>\n",
       "<style scoped>\n",
       "    .dataframe tbody tr th:only-of-type {\n",
       "        vertical-align: middle;\n",
       "    }\n",
       "\n",
       "    .dataframe tbody tr th {\n",
       "        vertical-align: top;\n",
       "    }\n",
       "\n",
       "    .dataframe thead th {\n",
       "        text-align: right;\n",
       "    }\n",
       "</style>\n",
       "<table border=\"1\" class=\"dataframe\">\n",
       "  <thead>\n",
       "    <tr style=\"text-align: right;\">\n",
       "      <th></th>\n",
       "      <th>user_id</th>\n",
       "      <th>book_id</th>\n",
       "      <th>rating</th>\n",
       "    </tr>\n",
       "  </thead>\n",
       "  <tbody>\n",
       "    <tr>\n",
       "      <th>0</th>\n",
       "      <td>1</td>\n",
       "      <td>258</td>\n",
       "      <td>5</td>\n",
       "    </tr>\n",
       "    <tr>\n",
       "      <th>1</th>\n",
       "      <td>2</td>\n",
       "      <td>4081</td>\n",
       "      <td>4</td>\n",
       "    </tr>\n",
       "    <tr>\n",
       "      <th>2</th>\n",
       "      <td>2</td>\n",
       "      <td>260</td>\n",
       "      <td>5</td>\n",
       "    </tr>\n",
       "    <tr>\n",
       "      <th>3</th>\n",
       "      <td>2</td>\n",
       "      <td>9296</td>\n",
       "      <td>5</td>\n",
       "    </tr>\n",
       "    <tr>\n",
       "      <th>4</th>\n",
       "      <td>2</td>\n",
       "      <td>2318</td>\n",
       "      <td>3</td>\n",
       "    </tr>\n",
       "  </tbody>\n",
       "</table>\n",
       "</div>"
      ],
      "text/plain": [
       "   user_id  book_id  rating\n",
       "0        1      258       5\n",
       "1        2     4081       4\n",
       "2        2      260       5\n",
       "3        2     9296       5\n",
       "4        2     2318       3"
      ]
     },
     "execution_count": 23,
     "metadata": {},
     "output_type": "execute_result"
    }
   ],
   "source": [
    "ratings_df.head()"
   ]
  },
  {
   "cell_type": "code",
   "execution_count": 24,
   "id": "63173189-6ec7-423f-97db-6cda3e0379da",
   "metadata": {
    "tags": []
   },
   "outputs": [
    {
     "name": "stdout",
     "output_type": "stream",
     "text": [
      "<class 'pandas.core.frame.DataFrame'>\n",
      "RangeIndex: 5976479 entries, 0 to 5976478\n",
      "Data columns (total 3 columns):\n",
      " #   Column   Dtype\n",
      "---  ------   -----\n",
      " 0   user_id  int64\n",
      " 1   book_id  int64\n",
      " 2   rating   int64\n",
      "dtypes: int64(3)\n",
      "memory usage: 136.8 MB\n"
     ]
    }
   ],
   "source": [
    "ratings_df.info()"
   ]
  },
  {
   "cell_type": "code",
   "execution_count": 29,
   "id": "9e67afcf-3a7a-4863-acda-bdc6d2f1473e",
   "metadata": {
    "tags": []
   },
   "outputs": [
    {
     "data": {
      "text/plain": [
       "53424"
      ]
     },
     "execution_count": 29,
     "metadata": {},
     "output_type": "execute_result"
    }
   ],
   "source": [
    "len(ratings_df[\"user_id\"].unique())"
   ]
  },
  {
   "cell_type": "markdown",
   "id": "5a98afad-c827-4c0a-9725-d7d52f5b494a",
   "metadata": {},
   "source": [
    "~50k users"
   ]
  },
  {
   "cell_type": "markdown",
   "id": "986749d9-4bef-4a39-af24-f706c93eb444",
   "metadata": {
    "tags": []
   },
   "source": [
    "### Other tables\n",
    "Don't know if these will be needed for our purpose:\n",
    "- **tags** - Shelf name (genre) and count of the books in that shelf\n",
    "- **book_tags** - Shelves with the count for each book\n",
    "- **to_read** - books to read for user"
   ]
  },
  {
   "cell_type": "code",
   "execution_count": 19,
   "id": "430bd348-1637-4471-ae1a-195f7e320874",
   "metadata": {
    "tags": []
   },
   "outputs": [],
   "source": [
    "tags_df = pd.read_csv('https://raw.githubusercontent.com/malcolmosh/goodbooks-10k/master/tags.csv')"
   ]
  },
  {
   "cell_type": "code",
   "execution_count": 20,
   "id": "e608f64f-d6df-4686-a3ff-55083352c5a1",
   "metadata": {
    "tags": []
   },
   "outputs": [],
   "source": [
    "book_tags_df = pd.read_csv('https://raw.githubusercontent.com/malcolmosh/goodbooks-10k/master/book_tags.csv')"
   ]
  },
  {
   "cell_type": "code",
   "execution_count": 21,
   "id": "ce1375c9-4562-4971-9a22-85fbdc7c4104",
   "metadata": {
    "tags": []
   },
   "outputs": [],
   "source": [
    "to_read_df = pd.read_csv('https://raw.githubusercontent.com/malcolmosh/goodbooks-10k/master/to_read.csv')"
   ]
  },
  {
   "cell_type": "code",
   "execution_count": null,
   "id": "13d3fd1e-4536-45f7-82c1-2faa443a54d0",
   "metadata": {},
   "outputs": [],
   "source": []
  }
 ],
 "metadata": {
  "kernelspec": {
   "display_name": "Python 3 (ipykernel)",
   "language": "python",
   "name": "python3"
  },
  "language_info": {
   "codemirror_mode": {
    "name": "ipython",
    "version": 3
   },
   "file_extension": ".py",
   "mimetype": "text/x-python",
   "name": "python",
   "nbconvert_exporter": "python",
   "pygments_lexer": "ipython3",
   "version": "3.10.9"
  }
 },
 "nbformat": 4,
 "nbformat_minor": 5
}
