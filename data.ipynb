{
 "cells": [
  {
   "cell_type": "markdown",
   "id": "fe4d47db-d70b-4c64-9e19-afd5020cdeaf",
   "metadata": {},
   "source": [
    "# Goodreads books recommender system\n",
    "\n",
    "This notebook creates a clean data from the existing data"
   ]
  },
  {
   "cell_type": "code",
   "execution_count": 1,
   "id": "9757072a-90ad-4d29-aa27-ae9261225ce7",
   "metadata": {
    "tags": []
   },
   "outputs": [],
   "source": [
    "import pandas as pd\n",
    "import numpy as np\n",
    "import seaborn as sns\n",
    "import matplotlib.pyplot as plt\n",
    "import gc\n",
    "from ast import literal_eval\n",
    "import matplotlib.ticker as ticker\n",
    "from sklearn.model_selection import train_test_split"
   ]
  },
  {
   "cell_type": "markdown",
   "id": "6e8ae2b7-f4e2-4e1c-a6c8-d81415e8ad5b",
   "metadata": {},
   "source": [
    "## Books"
   ]
  },
  {
   "cell_type": "code",
   "execution_count": 2,
   "id": "cf58ac1e-a132-45e0-bf6b-e2410ca8ce33",
   "metadata": {
    "tags": []
   },
   "outputs": [],
   "source": [
    "books_df = pd.read_csv('https://raw.githubusercontent.com/malcolmosh/goodbooks-10k/master/books_enriched.csv', index_col=[0], converters={\"genres\": literal_eval})"
   ]
  },
  {
   "cell_type": "code",
   "execution_count": 3,
   "id": "169e5b1b-a87c-49df-a7f9-e193f423a3fb",
   "metadata": {
    "tags": []
   },
   "outputs": [
    {
     "data": {
      "text/plain": [
       "10000"
      ]
     },
     "execution_count": 3,
     "metadata": {},
     "output_type": "execute_result"
    }
   ],
   "source": [
    "len(books_df)"
   ]
  },
  {
   "cell_type": "code",
   "execution_count": 4,
   "id": "00dc7adb-4549-41d6-854c-6b54ce5b03a5",
   "metadata": {
    "tags": []
   },
   "outputs": [],
   "source": [
    "# use goodreads book id instead of the arbitrary id\n",
    "books_df[\"book_id\"] = books_df.goodreads_book_id"
   ]
  },
  {
   "cell_type": "code",
   "execution_count": 5,
   "id": "2dd7f542-4e54-4c6f-bc23-c56de82ee03d",
   "metadata": {
    "tags": []
   },
   "outputs": [],
   "source": [
    "# Dropping unneeded columns\n",
    "books_df = books_df.drop(columns=[\"description\", \"image_url\", \"small_image_url\", \"index\", \"authors_2\", \"best_book_id\", \"goodreads_book_id\"], errors = 'ignore')"
   ]
  },
  {
   "cell_type": "code",
   "execution_count": 6,
   "id": "99f9eada-acc7-4bae-920f-3fa468243762",
   "metadata": {
    "tags": []
   },
   "outputs": [],
   "source": [
    "# Keep only english books.\n",
    "books_df = books_df[books_df.language_code == 'eng']"
   ]
  },
  {
   "cell_type": "code",
   "execution_count": 7,
   "id": "00cc5003-3187-496c-84d3-6561382d6a31",
   "metadata": {
    "tags": []
   },
   "outputs": [],
   "source": [
    "# drop books with duplicated title\n",
    "books_df = books_df.drop_duplicates(subset = ['title'])"
   ]
  },
  {
   "cell_type": "code",
   "execution_count": 8,
   "id": "188f94b2-d379-4f03-a89c-5af0d793a855",
   "metadata": {
    "tags": []
   },
   "outputs": [],
   "source": [
    "# transform list columns to list\n",
    "books_df['authors'] = books_df['authors'].apply(lambda x: x.strip('[]').replace(\"'\",\"\").split(\", \"))"
   ]
  },
  {
   "cell_type": "markdown",
   "id": "3128871c-fff3-4f22-9fdb-7c7b71a7aaf5",
   "metadata": {},
   "source": [
    "## Ratings"
   ]
  },
  {
   "cell_type": "code",
   "execution_count": 9,
   "id": "21f784bb-6f31-441f-95b9-c854eee768e0",
   "metadata": {
    "tags": []
   },
   "outputs": [],
   "source": [
    "ratings_df = pd.read_csv('reviews_updated2.csv')"
   ]
  },
  {
   "cell_type": "code",
   "execution_count": 10,
   "id": "57ae2b70-aa58-4fc8-ac6b-451f75f44d37",
   "metadata": {
    "tags": []
   },
   "outputs": [],
   "source": [
    "# remove index column\n",
    "ratings_df = ratings_df.drop(columns=[\"Unnamed: 0\"])"
   ]
  },
  {
   "cell_type": "code",
   "execution_count": 11,
   "id": "9d017a6d-f859-45ee-a06b-5f7e4f79a00f",
   "metadata": {
    "tags": []
   },
   "outputs": [],
   "source": [
    "# convert date to timestamp, and keep only the date\n",
    "ratings_df[\"date_added\"] = pd.to_datetime(ratings_df.date_added, format='%Y/%m/%d', utc = True)\n",
    "ratings_df[\"date_added\"] = ratings_df.date_added.dt.date"
   ]
  },
  {
   "cell_type": "code",
   "execution_count": 13,
   "id": "d24a7265-834f-4414-b43e-c55a715b2d93",
   "metadata": {
    "tags": []
   },
   "outputs": [
    {
     "name": "stderr",
     "output_type": "stream",
     "text": [
      "/tmp/ipykernel_2199/3793001874.py:2: FutureWarning: Comparison of Timestamp with datetime.date is deprecated in order to match the standard library behavior. In a future version these will be considered non-comparable. Use 'ts == pd.Timestamp(date)' or 'ts.date() == date' instead.\n",
      "  ratings_df = ratings_df[ratings_df.date_added >= pd.Timestamp(year=2000, month=1, day=1)]\n"
     ]
    }
   ],
   "source": [
    "# filter out reviews preceding goodreads site\n",
    "ratings_df = ratings_df[ratings_df.date_added >= pd.Timestamp(year=2000, month=1, day=1)]"
   ]
  },
  {
   "cell_type": "code",
   "execution_count": 17,
   "id": "1cd17ff9-9242-43c2-acab-143f37d46b7a",
   "metadata": {
    "tags": []
   },
   "outputs": [],
   "source": [
    "# filter out 0 reviews\n",
    "ratings_df = ratings_df.loc[ratings_df['rating'] != 0]"
   ]
  },
  {
   "cell_type": "code",
   "execution_count": null,
   "id": "107ba5ac-ed1e-46d6-bf13-d8929bad142e",
   "metadata": {
    "tags": []
   },
   "outputs": [],
   "source": [
    "i = 0\n",
    "while True:\n",
    "    i += 1\n",
    "    l = len(ratings_df)\n",
    "    \n",
    "    # remove users with low number of reviews (<75)\n",
    "    user_review_counts = ratings_df['user_id'].value_counts()\n",
    "    ratings_df = ratings_df[ratings_df['user_id'].isin(user_review_counts[user_review_counts >= 75].index)]\n",
    "    \n",
    "    # filter out books with low number of reviews (<75)\n",
    "    book_review_counts = ratings_df.groupby('book_id').count()\n",
    "    popular_books = book_review_counts[book_review_counts['user_id'] >= 75].index.tolist()\n",
    "    ratings_df = ratings_df[ratings_df['book_id'].isin(popular_books)]\n",
    "    \n",
    "    # remove the removed books from ratings \n",
    "    ratings_df = ratings_df[ratings_df.book_id.isin(books_df.book_id)]\n",
    "    if len(ratings_df) == l:\n",
    "        break\n",
    "    \n",
    "print('number of iters:', i)"
   ]
  },
  {
   "cell_type": "code",
   "execution_count": null,
   "id": "1882d148-a48b-4ab5-8f26-cd0ed7a4b9f0",
   "metadata": {
    "tags": []
   },
   "outputs": [],
   "source": [
    "# filtering books which are no longer in the dataset\n",
    "books_df = books_df[books_df['book_id'].isin(ratings_df['book_id'])]"
   ]
  },
  {
   "cell_type": "code",
   "execution_count": null,
   "id": "2ec711ae-aa35-4cb5-8b5b-21e78a6a688c",
   "metadata": {
    "tags": []
   },
   "outputs": [],
   "source": [
    "len(ratings_df[\"user_id\"].unique()), len(ratings_df), len(books_df)"
   ]
  },
  {
   "cell_type": "markdown",
   "id": "823da9ac-60d3-4208-b8b5-a116cbb22276",
   "metadata": {},
   "source": [
    "### Other tables\n",
    "Don't know if these will be needed for our purpose:\n",
    "- **tags** - Shelf name (genre) and count of the books in that shelf\n",
    "- **book_tags** - Shelves with the count for each book\n",
    "- **to_read** - books to read for user"
   ]
  },
  {
   "cell_type": "code",
   "execution_count": 16,
   "id": "1e46aa1a-10b6-4c70-8df4-b582a21c07ac",
   "metadata": {
    "tags": []
   },
   "outputs": [],
   "source": [
    "tags_df = pd.read_csv('https://raw.githubusercontent.com/malcolmosh/goodbooks-10k/master/tags.csv')"
   ]
  },
  {
   "cell_type": "code",
   "execution_count": 17,
   "id": "ed5ede27-6e01-42af-aab0-46e378a44b5b",
   "metadata": {
    "tags": []
   },
   "outputs": [],
   "source": [
    "book_tags_df = pd.read_csv('https://raw.githubusercontent.com/malcolmosh/goodbooks-10k/master/book_tags.csv')"
   ]
  },
  {
   "cell_type": "code",
   "execution_count": 18,
   "id": "07e6bc9d-3f5a-4b28-ac15-415384a4014a",
   "metadata": {
    "tags": []
   },
   "outputs": [],
   "source": [
    "to_read_df = pd.read_csv('https://raw.githubusercontent.com/malcolmosh/goodbooks-10k/master/to_read.csv')"
   ]
  },
  {
   "cell_type": "markdown",
   "id": "1924a64d-af5c-4394-928b-117634913715",
   "metadata": {},
   "source": [
    "## Splits"
   ]
  },
  {
   "cell_type": "code",
   "execution_count": 19,
   "id": "138efcdb-3ff3-4377-ab3b-d195e9320491",
   "metadata": {},
   "outputs": [
    {
     "name": "stdout",
     "output_type": "stream",
     "text": [
      "CPU times: user 1min 16s, sys: 1.07 s, total: 1min 17s\n",
      "Wall time: 1min 18s\n"
     ]
    }
   ],
   "source": [
    "%%time\n",
    "\n",
    "tmp = ratings_df.sort_values(by='date_added')\n",
    "\n",
    "rows_by_user_id = dict()\n",
    "for index, row in tmp.iterrows():\n",
    "    if row.user_id not in rows_by_user_id:\n",
    "        rows_by_user_id[row.user_id] = []\n",
    "    rows_by_user_id[row.user_id].append(row)\n",
    "\n",
    "train, test = [], []\n",
    "for users_ratings in rows_by_user_id.values():\n",
    "    indx = int(len(users_ratings) * 0.8)\n",
    "    train.extend(users_ratings[:indx])\n",
    "    test.extend(users_ratings[indx:])\n",
    "\n",
    "train, test = pd.DataFrame(train), pd.DataFrame(test)"
   ]
  },
  {
   "cell_type": "markdown",
   "id": "8a11de30-49ac-49f1-abb5-9c3f945888a1",
   "metadata": {},
   "source": [
    "## Saving the data"
   ]
  },
  {
   "cell_type": "code",
   "execution_count": 20,
   "id": "50a25fb9-6979-4565-9d2d-9edb3bcb66a4",
   "metadata": {},
   "outputs": [],
   "source": [
    "ratings_df.to_csv('ratings.csv', index=False)"
   ]
  },
  {
   "cell_type": "code",
   "execution_count": 21,
   "id": "b47a0a69-eb71-476e-a3d8-09f50ac19ed3",
   "metadata": {},
   "outputs": [],
   "source": [
    "books_df.to_csv('books.csv', index=False)"
   ]
  },
  {
   "cell_type": "code",
   "execution_count": 22,
   "id": "8d1bf605-382d-44f5-b6a5-a1566815e926",
   "metadata": {},
   "outputs": [],
   "source": [
    "train.to_csv('train.csv', index=False)"
   ]
  },
  {
   "cell_type": "code",
   "execution_count": 23,
   "id": "47e8da6e-b40b-4f71-aea7-673514716b5b",
   "metadata": {},
   "outputs": [],
   "source": [
    "test.to_csv('test.csv', index=False)"
   ]
  },
  {
   "cell_type": "code",
   "execution_count": null,
   "id": "ef584b29-e50a-4cdc-8b82-8921e0133a8c",
   "metadata": {},
   "outputs": [],
   "source": []
  }
 ],
 "metadata": {
  "kernelspec": {
   "display_name": "Python 3 (ipykernel)",
   "language": "python",
   "name": "python3"
  },
  "language_info": {
   "codemirror_mode": {
    "name": "ipython",
    "version": 3
   },
   "file_extension": ".py",
   "mimetype": "text/x-python",
   "name": "python",
   "nbconvert_exporter": "python",
   "pygments_lexer": "ipython3",
   "version": "3.8.10"
  }
 },
 "nbformat": 4,
 "nbformat_minor": 5
}
