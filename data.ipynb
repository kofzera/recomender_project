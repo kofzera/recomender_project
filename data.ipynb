{
 "cells": [
  {
   "cell_type": "markdown",
   "id": "fe4d47db-d70b-4c64-9e19-afd5020cdeaf",
   "metadata": {},
   "source": [
    "# Goodreads books recommender system\n",
    "\n",
    "This notebook creates a clean data from the existing data"
   ]
  },
  {
   "cell_type": "code",
   "execution_count": 1,
   "id": "9757072a-90ad-4d29-aa27-ae9261225ce7",
   "metadata": {
    "tags": []
   },
   "outputs": [],
   "source": [
    "import pandas as pd\n",
    "import numpy as np\n",
    "import seaborn as sns\n",
    "import matplotlib.pyplot as plt\n",
    "import gc\n",
    "from ast import literal_eval\n",
    "import matplotlib.ticker as ticker\n",
    "from sklearn.model_selection import train_test_split"
   ]
  },
  {
   "cell_type": "markdown",
   "id": "6e8ae2b7-f4e2-4e1c-a6c8-d81415e8ad5b",
   "metadata": {},
   "source": [
    "## Books"
   ]
  },
  {
   "cell_type": "code",
   "execution_count": 2,
   "id": "cf58ac1e-a132-45e0-bf6b-e2410ca8ce33",
   "metadata": {
    "tags": []
   },
   "outputs": [],
   "source": [
    "books_df = pd.read_csv('https://raw.githubusercontent.com/malcolmosh/goodbooks-10k/master/books_enriched.csv', index_col=[0], converters={\"genres\": literal_eval})"
   ]
  },
  {
   "cell_type": "code",
   "execution_count": 3,
   "id": "00dc7adb-4549-41d6-854c-6b54ce5b03a5",
   "metadata": {
    "tags": []
   },
   "outputs": [],
   "source": [
    "# use goodreads book id instead of the arbitrary id\n",
    "books_df[\"book_id\"] = books_df.goodreads_book_id"
   ]
  },
  {
   "cell_type": "code",
   "execution_count": 4,
   "id": "2dd7f542-4e54-4c6f-bc23-c56de82ee03d",
   "metadata": {
    "tags": []
   },
   "outputs": [],
   "source": [
    "# Dropping unneeded columns\n",
    "books_df = books_df.drop(columns=[\"description\", \"image_url\", \"small_image_url\", \"index\", \"authors_2\", \"best_book_id\", \"goodreads_book_id\"], errors = 'ignore')"
   ]
  },
  {
   "cell_type": "code",
   "execution_count": 5,
   "id": "99f9eada-acc7-4bae-920f-3fa468243762",
   "metadata": {
    "tags": []
   },
   "outputs": [],
   "source": [
    "# Keep only english books.\n",
    "books_df = books_df[books_df.language_code == 'eng']"
   ]
  },
  {
   "cell_type": "code",
   "execution_count": 6,
   "id": "00cc5003-3187-496c-84d3-6561382d6a31",
   "metadata": {
    "tags": []
   },
   "outputs": [],
   "source": [
    "# drop books with duplicated title\n",
    "books_df = books_df.drop_duplicates(subset = ['title'])"
   ]
  },
  {
   "cell_type": "code",
   "execution_count": 7,
   "id": "188f94b2-d379-4f03-a89c-5af0d793a855",
   "metadata": {
    "tags": []
   },
   "outputs": [],
   "source": [
    "# transform list columns to list\n",
    "books_df['authors'] = books_df['authors'].apply(lambda x: x.strip('[]').replace(\"'\",\"\").split(\", \"))"
   ]
  },
  {
   "cell_type": "markdown",
   "id": "3128871c-fff3-4f22-9fdb-7c7b71a7aaf5",
   "metadata": {},
   "source": [
    "## Ratings"
   ]
  },
  {
   "cell_type": "code",
   "execution_count": 8,
   "id": "21f784bb-6f31-441f-95b9-c854eee768e0",
   "metadata": {
    "tags": []
   },
   "outputs": [],
   "source": [
    "ratings_df = pd.read_csv('reviews_updated2.csv')"
   ]
  },
  {
   "cell_type": "code",
   "execution_count": 9,
   "id": "57ae2b70-aa58-4fc8-ac6b-451f75f44d37",
   "metadata": {
    "tags": []
   },
   "outputs": [],
   "source": [
    "# remove index column\n",
    "ratings_df = ratings_df.drop(columns=[\"Unnamed: 0\"])"
   ]
  },
  {
   "cell_type": "code",
   "execution_count": 10,
   "id": "9d017a6d-f859-45ee-a06b-5f7e4f79a00f",
   "metadata": {
    "tags": []
   },
   "outputs": [],
   "source": [
    "# convert date to timestamp, and keep only the date\n",
    "ratings_df[\"date_added\"] = pd.to_datetime(ratings_df.date_added, format='%Y/%m/%d', utc = True)\n",
    "ratings_df[\"date_added\"] = ratings_df.date_added.dt.date"
   ]
  },
  {
   "cell_type": "code",
   "execution_count": 11,
   "id": "d24a7265-834f-4414-b43e-c55a715b2d93",
   "metadata": {
    "tags": []
   },
   "outputs": [
    {
     "name": "stderr",
     "output_type": "stream",
     "text": [
      "/home/eddous/.local/lib/python3.8/site-packages/pandas/core/ops/array_ops.py:73: FutureWarning: Comparison of Timestamp with datetime.date is deprecated in order to match the standard library behavior. In a future version these will be considered non-comparable. Use 'ts == pd.Timestamp(date)' or 'ts.date() == date' instead.\n",
      "  result = libops.scalar_compare(x.ravel(), y, op)\n"
     ]
    }
   ],
   "source": [
    "# filter out reviews preceding goodreads site\n",
    "ratings_df = ratings_df[ratings_df.date_added >= pd.Timestamp(year=2000, month=1, day=1)]"
   ]
  },
  {
   "cell_type": "code",
   "execution_count": 12,
   "id": "107ba5ac-ed1e-46d6-bf13-d8929bad142e",
   "metadata": {
    "tags": []
   },
   "outputs": [
    {
     "name": "stdout",
     "output_type": "stream",
     "text": [
      "number of iters: 4\n"
     ]
    }
   ],
   "source": [
    "i = 0\n",
    "while True:\n",
    "    i += 1\n",
    "    l = len(ratings_df)\n",
    "    \n",
    "    # remove users with low number of reviews (<20)\n",
    "    user_review_counts = ratings_df['user_id'].value_counts()\n",
    "    ratings_df = ratings_df[ratings_df['user_id'].isin(user_review_counts[user_review_counts >= 20].index)]\n",
    "    \n",
    "    # filter out books with low number of reviews (<20)\n",
    "    book_review_counts = ratings_df.groupby('book_id').count()\n",
    "    popular_books = book_review_counts[book_review_counts['user_id'] >= 20].index.tolist()\n",
    "    ratings_df = ratings_df[ratings_df['book_id'].isin(popular_books)]\n",
    "    \n",
    "    # remove the removed books from ratings \n",
    "    ratings_df = ratings_df[ratings_df.book_id.isin(books_df.book_id)]\n",
    "    if len(ratings_df) == l:\n",
    "        break\n",
    "    \n",
    "print('number of iters:', i)"
   ]
  },
  {
   "cell_type": "markdown",
   "id": "823da9ac-60d3-4208-b8b5-a116cbb22276",
   "metadata": {},
   "source": [
    "### Other tables\n",
    "Don't know if these will be needed for our purpose:\n",
    "- **tags** - Shelf name (genre) and count of the books in that shelf\n",
    "- **book_tags** - Shelves with the count for each book\n",
    "- **to_read** - books to read for user"
   ]
  },
  {
   "cell_type": "code",
   "execution_count": 13,
   "id": "1e46aa1a-10b6-4c70-8df4-b582a21c07ac",
   "metadata": {
    "tags": []
   },
   "outputs": [],
   "source": [
    "tags_df = pd.read_csv('https://raw.githubusercontent.com/malcolmosh/goodbooks-10k/master/tags.csv')"
   ]
  },
  {
   "cell_type": "code",
   "execution_count": 14,
   "id": "ed5ede27-6e01-42af-aab0-46e378a44b5b",
   "metadata": {
    "tags": []
   },
   "outputs": [],
   "source": [
    "book_tags_df = pd.read_csv('https://raw.githubusercontent.com/malcolmosh/goodbooks-10k/master/book_tags.csv')"
   ]
  },
  {
   "cell_type": "code",
   "execution_count": 15,
   "id": "07e6bc9d-3f5a-4b28-ac15-415384a4014a",
   "metadata": {
    "tags": []
   },
   "outputs": [],
   "source": [
    "to_read_df = pd.read_csv('https://raw.githubusercontent.com/malcolmosh/goodbooks-10k/master/to_read.csv')"
   ]
  },
  {
   "cell_type": "markdown",
   "id": "1924a64d-af5c-4394-928b-117634913715",
   "metadata": {},
   "source": [
    "## Splits"
   ]
  },
  {
   "cell_type": "code",
   "execution_count": 16,
   "id": "138efcdb-3ff3-4377-ab3b-d195e9320491",
   "metadata": {},
   "outputs": [
    {
     "name": "stdout",
     "output_type": "stream",
     "text": [
      "CPU times: user 3min 5s, sys: 2.63 s, total: 3min 8s\n",
      "Wall time: 3min 8s\n"
     ]
    }
   ],
   "source": [
    "%%time\n",
    "\n",
    "tmp = ratings_df.sort_values(by='date_added')\n",
    "\n",
    "rows_by_user_id = dict()\n",
    "for index, row in tmp.iterrows():\n",
    "    if row.user_id not in rows_by_user_id:\n",
    "        rows_by_user_id[row.user_id] = []\n",
    "    rows_by_user_id[row.user_id].append(row)\n",
    "\n",
    "train, test = [], []\n",
    "for users_ratings in rows_by_user_id.values():\n",
    "    indx = int(len(users_ratings) * 0.8)\n",
    "    train.extend(users_ratings[:indx])\n",
    "    test.extend(users_ratings[indx:])\n",
    "\n",
    "train, test = pd.DataFrame(train), pd.DataFrame(test)"
   ]
  },
  {
   "cell_type": "code",
   "execution_count": 17,
   "id": "57a5ead6-379f-476d-b2d8-c7fc8f44eb32",
   "metadata": {
    "tags": []
   },
   "outputs": [
    {
     "data": {
      "text/html": [
       "<div>\n",
       "<style scoped>\n",
       "    .dataframe tbody tr th:only-of-type {\n",
       "        vertical-align: middle;\n",
       "    }\n",
       "\n",
       "    .dataframe tbody tr th {\n",
       "        vertical-align: top;\n",
       "    }\n",
       "\n",
       "    .dataframe thead th {\n",
       "        text-align: right;\n",
       "    }\n",
       "</style>\n",
       "<table border=\"1\" class=\"dataframe\">\n",
       "  <thead>\n",
       "    <tr style=\"text-align: right;\">\n",
       "      <th></th>\n",
       "      <th>user_id</th>\n",
       "      <th>book_id</th>\n",
       "      <th>rating</th>\n",
       "      <th>date_added</th>\n",
       "    </tr>\n",
       "  </thead>\n",
       "  <tbody>\n",
       "    <tr>\n",
       "      <th>3496706</th>\n",
       "      <td>12707977a55df3ec3deaf86e874fe3ad</td>\n",
       "      <td>438492</td>\n",
       "      <td>5</td>\n",
       "      <td>2001-02-02</td>\n",
       "    </tr>\n",
       "    <tr>\n",
       "      <th>3496705</th>\n",
       "      <td>12707977a55df3ec3deaf86e874fe3ad</td>\n",
       "      <td>3398625</td>\n",
       "      <td>4</td>\n",
       "      <td>2011-09-20</td>\n",
       "    </tr>\n",
       "    <tr>\n",
       "      <th>3496701</th>\n",
       "      <td>12707977a55df3ec3deaf86e874fe3ad</td>\n",
       "      <td>7445</td>\n",
       "      <td>5</td>\n",
       "      <td>2012-01-01</td>\n",
       "    </tr>\n",
       "    <tr>\n",
       "      <th>3496702</th>\n",
       "      <td>12707977a55df3ec3deaf86e874fe3ad</td>\n",
       "      <td>5556595</td>\n",
       "      <td>4</td>\n",
       "      <td>2012-01-01</td>\n",
       "    </tr>\n",
       "    <tr>\n",
       "      <th>3496703</th>\n",
       "      <td>12707977a55df3ec3deaf86e874fe3ad</td>\n",
       "      <td>7937843</td>\n",
       "      <td>4</td>\n",
       "      <td>2012-01-01</td>\n",
       "    </tr>\n",
       "    <tr>\n",
       "      <th>...</th>\n",
       "      <td>...</td>\n",
       "      <td>...</td>\n",
       "      <td>...</td>\n",
       "      <td>...</td>\n",
       "    </tr>\n",
       "    <tr>\n",
       "      <th>4460857</th>\n",
       "      <td>4c4574a066856ce7fb70e7a009f5184f</td>\n",
       "      <td>7260188</td>\n",
       "      <td>5</td>\n",
       "      <td>2017-11-02</td>\n",
       "    </tr>\n",
       "    <tr>\n",
       "      <th>4460838</th>\n",
       "      <td>4c4574a066856ce7fb70e7a009f5184f</td>\n",
       "      <td>8755785</td>\n",
       "      <td>4</td>\n",
       "      <td>2017-11-02</td>\n",
       "    </tr>\n",
       "    <tr>\n",
       "      <th>4460839</th>\n",
       "      <td>4c4574a066856ce7fb70e7a009f5184f</td>\n",
       "      <td>8755776</td>\n",
       "      <td>3</td>\n",
       "      <td>2017-11-02</td>\n",
       "    </tr>\n",
       "    <tr>\n",
       "      <th>4460840</th>\n",
       "      <td>4c4574a066856ce7fb70e7a009f5184f</td>\n",
       "      <td>6752378</td>\n",
       "      <td>3</td>\n",
       "      <td>2017-11-02</td>\n",
       "    </tr>\n",
       "    <tr>\n",
       "      <th>4460836</th>\n",
       "      <td>4c4574a066856ce7fb70e7a009f5184f</td>\n",
       "      <td>10025305</td>\n",
       "      <td>5</td>\n",
       "      <td>2017-11-02</td>\n",
       "    </tr>\n",
       "  </tbody>\n",
       "</table>\n",
       "<p>2435808 rows × 4 columns</p>\n",
       "</div>"
      ],
      "text/plain": [
       "                                  user_id   book_id  rating  date_added\n",
       "3496706  12707977a55df3ec3deaf86e874fe3ad    438492       5  2001-02-02\n",
       "3496705  12707977a55df3ec3deaf86e874fe3ad   3398625       4  2011-09-20\n",
       "3496701  12707977a55df3ec3deaf86e874fe3ad      7445       5  2012-01-01\n",
       "3496702  12707977a55df3ec3deaf86e874fe3ad   5556595       4  2012-01-01\n",
       "3496703  12707977a55df3ec3deaf86e874fe3ad   7937843       4  2012-01-01\n",
       "...                                   ...       ...     ...         ...\n",
       "4460857  4c4574a066856ce7fb70e7a009f5184f   7260188       5  2017-11-02\n",
       "4460838  4c4574a066856ce7fb70e7a009f5184f   8755785       4  2017-11-02\n",
       "4460839  4c4574a066856ce7fb70e7a009f5184f   8755776       3  2017-11-02\n",
       "4460840  4c4574a066856ce7fb70e7a009f5184f   6752378       3  2017-11-02\n",
       "4460836  4c4574a066856ce7fb70e7a009f5184f  10025305       5  2017-11-02\n",
       "\n",
       "[2435808 rows x 4 columns]"
      ]
     },
     "execution_count": 17,
     "metadata": {},
     "output_type": "execute_result"
    }
   ],
   "source": [
    "train"
   ]
  },
  {
   "cell_type": "markdown",
   "id": "8a11de30-49ac-49f1-abb5-9c3f945888a1",
   "metadata": {},
   "source": [
    "## Saving the data"
   ]
  },
  {
   "cell_type": "code",
   "execution_count": 23,
   "id": "50a25fb9-6979-4565-9d2d-9edb3bcb66a4",
   "metadata": {},
   "outputs": [],
   "source": [
    "ratings_df.to_csv('ratings.csv', index=False)"
   ]
  },
  {
   "cell_type": "code",
   "execution_count": 24,
   "id": "b47a0a69-eb71-476e-a3d8-09f50ac19ed3",
   "metadata": {},
   "outputs": [],
   "source": [
    "books_df.to_csv('books.csv', index=False)"
   ]
  },
  {
   "cell_type": "code",
   "execution_count": 25,
   "id": "8d1bf605-382d-44f5-b6a5-a1566815e926",
   "metadata": {},
   "outputs": [],
   "source": [
    "train.to_csv('train.csv', index=False)"
   ]
  },
  {
   "cell_type": "code",
   "execution_count": 26,
   "id": "47e8da6e-b40b-4f71-aea7-673514716b5b",
   "metadata": {},
   "outputs": [],
   "source": [
    "test.to_csv('test.csv', index=False)"
   ]
  },
  {
   "cell_type": "code",
   "execution_count": null,
   "id": "ef584b29-e50a-4cdc-8b82-8921e0133a8c",
   "metadata": {},
   "outputs": [],
   "source": []
  }
 ],
 "metadata": {
  "kernelspec": {
   "display_name": "Python 3 (ipykernel)",
   "language": "python",
   "name": "python3"
  },
  "language_info": {
   "codemirror_mode": {
    "name": "ipython",
    "version": 3
   },
   "file_extension": ".py",
   "mimetype": "text/x-python",
   "name": "python",
   "nbconvert_exporter": "python",
   "pygments_lexer": "ipython3",
   "version": "3.8.10"
  }
 },
 "nbformat": 4,
 "nbformat_minor": 5
}
